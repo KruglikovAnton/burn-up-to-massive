{
 "cells": [
  {
   "cell_type": "code",
   "execution_count": 21,
   "metadata": {},
   "outputs": [],
   "source": [
    "from pathlib import Path"
   ]
  },
  {
   "cell_type": "code",
   "execution_count": 6,
   "metadata": {},
   "outputs": [
    {
     "data": {
      "text/plain": [
       "['EQU',\n",
       " 'UPB33=26.8',\n",
       " ';',\n",
       " 'FROM',\n",
       " '0',\n",
       " 'TO',\n",
       " '61.9',\n",
       " 'CM,',\n",
       " 'стержень',\n",
       " 'PP2',\n",
       " 'яч.33']"
      ]
     },
     "execution_count": 6,
     "metadata": {},
     "output_type": "execute_result"
    }
   ],
   "source": [
    "string_ = 'EQU   UPB33=26.8    ; FROM 0  TO 61.9 CM,  стержень PP2 яч.33'\n",
    "string_.split()"
   ]
  },
  {
   "cell_type": "code",
   "execution_count": 31,
   "metadata": {},
   "outputs": [],
   "source": [
    "# Поскольку варианты для критических состояний, для запасов реактивности нужно \"поднять\" в модели стержни\n",
    "def change_bur_file(bur_path):\n",
    "    with open (bur_path, 'r') as fr, open(str(bur_path) + \"krit3\", 'w') as fw:\n",
    "        for line in fr:\n",
    "            fw.write(line)\n",
    "    with open (str(bur_path) + \"krit3\", 'r') as fr, open (bur_path, 'w') as fw:\n",
    "        for line in fr:\n",
    "            if line.split()[1].startswith('UPB33'):\n",
    "                line = line.replace(line.split()[1], 'UPB33=0.0')\n",
    "            if line.split()[1].startswith('UPB43'):\n",
    "                line = line.replace(line.split()[1], 'UPB43=0.0')\n",
    "            if line.split()[1].startswith('UPB34'):\n",
    "                line = line.replace(line.split()[1], 'UPB34=0.0')\n",
    "            if line.split()[1].startswith('UPB44'):\n",
    "                line = line.replace(line.split()[1], 'UPB44=0.0')\n",
    "            if line.split()[1].startswith('UPB62'):\n",
    "                line = line.replace(line.split()[1], 'UPB62=0.0')\n",
    "            fw.write(line)\n"
   ]
  },
  {
   "cell_type": "code",
   "execution_count": 3,
   "metadata": {},
   "outputs": [],
   "source": [
    "p = Path(r'd:\\KR_vars')\n",
    "# Проверяем варианты на наличие всех необходимых файлов помимо самого варианта (.pdc, bur0000 и .fin)\n",
    "correct_paths = [] \n",
    "all_vars = []\n",
    "for path in [folder for folder in p.iterdir() if folder.is_dir()]:\n",
    "    all_vars.append(path.name) #Записываем все варианты\n",
    "    file_check = {'fin':0, 'pdc':0, 'bur':0}\n",
    "    for sub_path_1 in [file for file in path.iterdir()]:\n",
    "        if sub_path_1.name[-3:].upper() == 'FIN':\n",
    "            file_check['fin'] = 1\n",
    "        if sub_path_1.name[-3:].upper() == 'PDC':\n",
    "            file_check['pdc'] = 1\n",
    "        if sub_path_1.name[-5:] == '00000' or sub_path_1.name.upper() == 'BUR0':\n",
    "             file_check['bur'] = 1\n",
    "    if file_check['fin'] == 1 and file_check['pdc'] == 1 and file_check['bur'] == 1: #Если содержатся все пути, добавляем в список корректных путей\n",
    "        correct_paths.append(path)\n",
    "    else:\n",
    "        print(path)"
   ]
  },
  {
   "cell_type": "markdown",
   "metadata": {},
   "source": [
    "Отсеяно 20 вариантов"
   ]
  },
  {
   "cell_type": "code",
   "execution_count": 32,
   "metadata": {},
   "outputs": [
    {
     "name": "stdout",
     "output_type": "stream",
     "text": [
      "d:\\KR_vars\\01_02_2023_KR\n",
      "d:\\KR_vars\\01_11_2017_KR\n",
      "d:\\KR_vars\\02_06_2019_KR\n",
      "d:\\KR_vars\\02_06_2021_KR\n",
      "d:\\KR_vars\\02_07_2023_KR\n",
      "d:\\KR_vars\\02_10_2023_KR\n",
      "d:\\KR_vars\\04_02_2019_KR\n",
      "d:\\KR_vars\\04_03_2016_KR\n",
      "d:\\KR_vars\\04_04_2018_KR\n",
      "d:\\KR_vars\\04_07_2021_KR\n",
      "d:\\KR_vars\\05_04_2019_KR\n",
      "d:\\KR_vars\\05_04_2019_ZR\n",
      "d:\\KR_vars\\05_04_2021_KR\n",
      "d:\\KR_vars\\05_05_2016_KR\n",
      "d:\\KR_vars\\05_06_2019_KR\n",
      "d:\\KR_vars\\05_06_2021_KR\n",
      "d:\\KR_vars\\05_06_2023_KR\n",
      "d:\\KR_vars\\06_02_2019_KR\n",
      "d:\\KR_vars\\06_03_2016_KR\n",
      "d:\\KR_vars\\06_03_2019_KR\n",
      "d:\\KR_vars\\06_04_2021_KR\n",
      "d:\\KR_vars\\06_05_2016_KR\n",
      "d:\\KR_vars\\06_10_2021_KR\n",
      "d:\\KR_vars\\07_03_2017_KR\n",
      "d:\\KR_vars\\07_05_2021_KR\n",
      "d:\\KR_vars\\07_06_2019_KR\n",
      "d:\\KR_vars\\07_11_2017_KR\n",
      "d:\\KR_vars\\08_02_2017_KR\n",
      "d:\\KR_vars\\08_02_2019_KR\n",
      "d:\\KR_vars\\08_06_2016_KR\n",
      "d:\\KR_vars\\08_11_2021_KR\n",
      "d:\\KR_vars\\10_05_2016_KR\n",
      "d:\\KR_vars\\10_06_2019_KR\n",
      "d:\\KR_vars\\11_02_2019_KR\n",
      "d:\\KR_vars\\11_05_2023_KR\n",
      "d:\\KR_vars\\12_01_2017_KR\n",
      "d:\\KR_vars\\12_05_2021_KR\n",
      "d:\\KR_vars\\12_10_2021_KR\n",
      "d:\\KR_vars\\13_03_2018_KR\n",
      "d:\\KR_vars\\13_03_2019_KR\n",
      "d:\\KR_vars\\13_04_2016_KR\n",
      "d:\\KR_vars\\13_04_2018_KR\n",
      "d:\\KR_vars\\13_05_2019_KR\n",
      "d:\\KR_vars\\13_06_2023_KR\n",
      "d:\\KR_vars\\14_01_2017_KR\n",
      "d:\\KR_vars\\14_02_2017_KR\n",
      "d:\\KR_vars\\15_03_2018_KR\n",
      "d:\\KR_vars\\15_03_2023_KR\n",
      "d:\\KR_vars\\15_05_2019_KR\n",
      "d:\\KR_vars\\15_11_2017_KR\n",
      "d:\\KR_vars\\15_11_2018_KR\n",
      "d:\\KR_vars\\16_01_2017_KR\n",
      "d:\\KR_vars\\16_02_2017_KR\n",
      "d:\\KR_vars\\17_03_2016_KR\n",
      "d:\\KR_vars\\17_06_2019_KR\n",
      "d:\\KR_vars\\18_04_2016_KR\n",
      "d:\\KR_vars\\18_04_2021_KR\n",
      "d:\\KR_vars\\18_06_2021_KR\n",
      "d:\\KR_vars\\18_10_2023_KR\n",
      "d:\\KR_vars\\19_04_2021_KR\n",
      "d:\\KR_vars\\19_04_2023_KR\n",
      "d:\\KR_vars\\19_06_2016_KR\n",
      "d:\\KR_vars\\19_06_2020_KR\n",
      "d:\\KR_vars\\19_06_2023_KR\n",
      "d:\\KR_vars\\19_10_2021_KR\n",
      "d:\\KR_vars\\19_11_2018_KR\n",
      "d:\\KR_vars\\20_04_2018_KR\n",
      "d:\\KR_vars\\20_06_2019_KR\n",
      "d:\\KR_vars\\20_06_2021_KR\n",
      "d:\\KR_vars\\20_11_2017_KR\n",
      "d:\\KR_vars\\21_02_2017_KR\n",
      "d:\\KR_vars\\21_02_2019_KR\n",
      "d:\\KR_vars\\21_03_2019_KR\n",
      "d:\\KR_vars\\21_05_2019_KR\n",
      "d:\\KR_vars\\21_12_2018_KR\n",
      "d:\\KR_vars\\22_03_2019_KR\n",
      "d:\\KR_vars\\22_06_2021_KR\n",
      "d:\\KR_vars\\23_01_2017_KR\n",
      "d:\\KR_vars\\23_02_2019_KR\n",
      "d:\\KR_vars\\23_05_2019_KR\n",
      "d:\\KR_vars\\23_05_2023_KR\n",
      "d:\\KR_vars\\23_11_2018_KR\n",
      "d:\\KR_vars\\24_04_2023_KR\n",
      "d:\\KR_vars\\24_06_2016_KR\n",
      "d:\\KR_vars\\24_11_2017_KR\n",
      "d:\\KR_vars\\25_01_2017_KR\n",
      "d:\\KR_vars\\25_01_2018_KR\n",
      "d:\\KR_vars\\25_02_2019_KR\n",
      "d:\\KR_vars\\25_04_2016_KR\n",
      "d:\\KR_vars\\25_04_2021_KR\n",
      "d:\\KR_vars\\25_10_2023_KR\n",
      "d:\\KR_vars\\26_05_2016_KR\n",
      "d:\\KR_vars\\26_06_2019_KR\n",
      "d:\\KR_vars\\27_06_2021_KR\n",
      "d:\\KR_vars\\27_06_2023_KR\n",
      "d:\\KR_vars\\27_10_2021_KR\n",
      "d:\\KR_vars\\28_02_2023_KR\n",
      "d:\\KR_vars\\28_03_2016_KR\n",
      "d:\\KR_vars\\28_05_2019_KR\n",
      "d:\\KR_vars\\29_04_2019_KR\n",
      "d:\\KR_vars\\29_05_2023_KR\n",
      "d:\\KR_vars\\29_06_2016_KR\n",
      "d:\\KR_vars\\30_04_2021_KR\n",
      "d:\\KR_vars\\30_09_2023_KR\n",
      "d:\\KR_vars\\30_10_2017_KR\n",
      "d:\\KR_vars\\31_01_2017_KR\n",
      "d:\\KR_vars\\31_01_2018_KR\n",
      "d:\\KR_vars\\31_05_2016_KR\n"
     ]
    }
   ],
   "source": [
    "for path  in correct_paths:\n",
    "    try:\n",
    "        change_bur_file(path / 'bur00000')\n",
    "    except:\n",
    "        change_bur_file(path / 'BUR0')\n",
    "    finally:\n",
    "        print(path)\n",
    "        continue"
   ]
  },
  {
   "cell_type": "code",
   "execution_count": null,
   "metadata": {},
   "outputs": [],
   "source": []
  }
 ],
 "metadata": {
  "kernelspec": {
   "display_name": "Python 3",
   "language": "python",
   "name": "python3"
  },
  "language_info": {
   "codemirror_mode": {
    "name": "ipython",
    "version": 3
   },
   "file_extension": ".py",
   "mimetype": "text/x-python",
   "name": "python",
   "nbconvert_exporter": "python",
   "pygments_lexer": "ipython3",
   "version": "3.10.4"
  }
 },
 "nbformat": 4,
 "nbformat_minor": 2
}
