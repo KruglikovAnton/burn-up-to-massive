{
 "cells": [
  {
   "cell_type": "markdown",
   "id": "e21c3398",
   "metadata": {},
   "source": [
    "## Предсказание запаса реактивности на основе изотопных составов топливных зон"
   ]
  },
  {
   "cell_type": "code",
   "execution_count": 1,
   "id": "1dd4cba2",
   "metadata": {},
   "outputs": [],
   "source": [
    "# Импоортируем библиотеки\n",
    "import pandas as pd\n",
    "from matplotlib import pyplot as plt\n",
    "import numpy as np\n",
    "import seaborn as sns\n",
    "import plotly.express as px\n",
    "from sklearn.model_selection import train_test_split\n",
    "from sklearn.experimental import enable_halving_search_cv\n",
    "from sklearn.model_selection import HalvingGridSearchCV, KFold, GridSearchCV\n",
    "from sklearn.linear_model import LinearRegression, SGDRegressor\n",
    "from sklearn.metrics import mean_absolute_error, mean_squared_error, r2_score\n",
    "from sklearn.svm import LinearSVR, SVR\n",
    "import tensorflow as tf"
   ]
  },
  {
   "cell_type": "code",
   "execution_count": 2,
   "id": "37f2b55e",
   "metadata": {},
   "outputs": [],
   "source": [
    "# Считываем подготовленный csv\n",
    "main_df = pd.read_csv('final.csv', sep=',', index_col=0 )"
   ]
  },
  {
   "cell_type": "code",
   "execution_count": 3,
   "id": "83c07f6c",
   "metadata": {},
   "outputs": [
    {
     "data": {
      "text/plain": [
       "(91, 172802)"
      ]
     },
     "execution_count": 3,
     "metadata": {},
     "output_type": "execute_result"
    }
   ],
   "source": [
    "#Посмотрим на кол-во объектов и признаков\n",
    "main_df.shape"
   ]
  },
  {
   "cell_type": "markdown",
   "id": "ff62a986",
   "metadata": {},
   "source": [
    "Итого 91 различный вариант, помиотрим хватит ли такого кол-ва"
   ]
  },
  {
   "cell_type": "code",
   "execution_count": 214,
   "id": "4c4966d5",
   "metadata": {},
   "outputs": [
    {
     "data": {
      "image/png": "[encoded data removed]",
      "text/plain": [
       "<Figure size 432x288 with 1 Axes>"
      ]
     },
     "metadata": {
      "needs_background": "light"
     },
     "output_type": "display_data"
    }
   ],
   "source": [
    "# Построим разброс значений целевой переменной\n",
    "plt.hist(main_df.reactivity_margin, bins=20, linewidth=0.5, edgecolor=\"black\")\n",
    "plt.xlabel('reactivity margin, %')\n",
    "plt.ylabel('count')\n",
    "plt.xticks(list(range(11)))\n",
    "plt.show()"
   ]
  },
  {
   "cell_type": "markdown",
   "id": "aeba6e8a",
   "metadata": {},
   "source": [
    "В целом явно выпадающих значений нет, большая часть значений лежит от 3 до 5%, что соответствуеют типичному циклу работы реактора"
   ]
  },
  {
   "cell_type": "code",
   "execution_count": 215,
   "id": "b330a4f5",
   "metadata": {},
   "outputs": [
    {
     "data": {
      "text/plain": [
       "((63, 172800), (28, 172800))"
      ]
     },
     "execution_count": 215,
     "metadata": {},
     "output_type": "execute_result"
    }
   ],
   "source": [
    "# Поскольку реактивность зависит только от Кэф, удаляем данный столбец\n",
    "main_df.drop(columns=['Keff'], inplace=True)\n",
    "target = main_df.pop('reactivity_margin')\n",
    "# Разделяем данные на обучающие и тестовые\n",
    "X_train, X_test, y_train, y_test = train_test_split(main_df, target, test_size=0.3, random_state=7)\n",
    "# Проверяем раззмерности обуч. и тест. наборов\n",
    "X_train.shape, X_test.shape"
   ]
  },
  {
   "cell_type": "markdown",
   "id": "79f7d7c4",
   "metadata": {},
   "source": [
    "## Sklearn модели"
   ]
  },
  {
   "cell_type": "code",
   "execution_count": 4,
   "id": "365de589",
   "metadata": {},
   "outputs": [],
   "source": [
    "# Для начала протестируем самую простую модель наименьших квадратов, а также три модели посложнее, линейную модель,\n",
    "# которая минимизирует лосс с помощью стохастического градиентного спуска, линейную модель опорных векторов и модель опорных\n",
    "# векторов с ядерным трюком. Для более сложных моделей будем подбирать оптимальный параметры с помощью HalvingGridSearch\n",
    "lr = LinearRegression(n_jobs=-1)\n",
    "\n",
    "sgd = SGDRegressor()\n",
    "\n",
    "sgd_params = {\n",
    "    'penalty':['l2', 'elasticnet'],\n",
    "    'alpha':[0.0001, 0.001, 0.005],\n",
    "    'l1_ratio':[0.15, 0.25, 0.5, 0.65, 0.75],\n",
    "    'fit_intercept':[True],\n",
    "    'tol':[0.0005],\n",
    "    'max_iter':[50000]\n",
    "}\n",
    "\n",
    "lin_svr = LinearSVR()\n",
    "             \n",
    "lin_svr_params = {\n",
    "    'tol':[0.0005],\n",
    "    'C':[0.1, 0.5, 1, 10],\n",
    "    'max_iter':[50000]\n",
    "}\n",
    "\n",
    "svr = SVR()\n",
    "\n",
    "svr_params = {\n",
    "    'kernel':['linear', 'poly', 'rbf', 'sigmoid'],\n",
    "    'tol': [0.0005], \n",
    "    'C': np.logspace(-3,2, 6),\n",
    "    'max_iter': [-1]\n",
    "}\n"
   ]
  },
  {
   "cell_type": "code",
   "execution_count": 5,
   "id": "c8bfd532",
   "metadata": {},
   "outputs": [],
   "source": [
    "# Поскольку решается задача регрессии, то для поиска параметров можно ограничиться обычной k-блочной перекрестной проверкой\n",
    "sss = KFold(n_splits=3, shuffle=True, random_state=7)"
   ]
  },
  {
   "cell_type": "code",
   "execution_count": 218,
   "id": "48f2c1a8",
   "metadata": {},
   "outputs": [
    {
     "name": "stdout",
     "output_type": "stream",
     "text": [
      "Wall time: 4min 29s\n"
     ]
    }
   ],
   "source": [
    "%%time \n",
    "# Обучаем модели\n",
    "lr.fit(X_train, y_train)\n",
    "\n",
    "sgd_search = HalvingGridSearchCV(estimator=sgd, \n",
    "                                 param_grid=sgd_params,\n",
    "                                 scoring='r2',\n",
    "                                 cv=sss, \n",
    "                                 random_state=7,\n",
    "                                 n_jobs=-1).fit(X_train, y_train)\n",
    "\n",
    "lin_svr_search = HalvingGridSearchCV(estimator=lin_svr, \n",
    "                                     param_grid=lin_svr_params,\n",
    "                                     scoring='r2',\n",
    "                                     cv=sss, \n",
    "                                     random_state=7,\n",
    "                                     n_jobs=-1).fit(X_train, y_train)\n",
    "\n",
    "svr_search = HalvingGridSearchCV(estimator=svr, \n",
    "                                 param_grid=svr_params,\n",
    "                                 scoring='r2',\n",
    "                                 cv=sss, \n",
    "                                 random_state=7,\n",
    "                                 n_jobs=-1).fit(X_train, y_train)\n"
   ]
  },
  {
   "cell_type": "code",
   "execution_count": 219,
   "id": "e8a029e5",
   "metadata": {},
   "outputs": [
    {
     "data": {
      "text/plain": [
       "494.363415440665"
      ]
     },
     "execution_count": 219,
     "metadata": {},
     "output_type": "execute_result"
    }
   ],
   "source": [
    "#Глядя на ошибку обычной линейной модели, можно сделать вывод, что данная модель для решения задачи не подходит\n",
    "mean_absolute_error(y_test, lr.predict(X_test))"
   ]
  },
  {
   "cell_type": "code",
   "execution_count": 220,
   "id": "1bb6664d",
   "metadata": {},
   "outputs": [
    {
     "data": {
      "image/png": "[encoded data removed]",
      "text/plain": [
       "<Figure size 864x432 with 1 Axes>"
      ]
     },
     "metadata": {
      "needs_background": "light"
     },
     "output_type": "display_data"
    }
   ],
   "source": [
    "models = [sgd_search, lin_svr_search, svr_search]\n",
    "markers = ['.', '*', 'v']\n",
    "fig, ax = plt.subplots(figsize=(12,6))\n",
    "for model, marker, y_text in zip(models, markers, [11,10.3,9.6]):\n",
    "    y_pred = model.predict(X_test)\n",
    "    ax.plot(y_pred, marker, label=(model.estimator))\n",
    "    ax.text(s=f'MAE for {model.estimator}: {mean_absolute_error(y_test, y_pred): .2f}', x=3, y=y_text)\n",
    "ax.plot([x for x in range(len(y_test))], y_test, 'o', label='test')\n",
    "ax.set_ylabel('reactivity_margin, %')\n",
    "ax.set_ylim(0, 12)\n",
    "ax.legend()\n",
    "plt.show()"
   ]
  },
  {
   "cell_type": "markdown",
   "id": "b357a1bc",
   "metadata": {},
   "source": [
    "## Вывод\n",
    "Регрессионные модели способны предсказывать с довольно большой погрешностью, что может быть связано с влиянием различных ампульных устройств в отражателе, в особоенности ампулы в ячейке 6-4"
   ]
  },
  {
   "cell_type": "code",
   "execution_count": 2,
   "id": "e92095c8",
   "metadata": {},
   "outputs": [],
   "source": [
    "# в файле final_with_ampules.csv помимо изотопных составов также имеется информация о ампуле в ячейке 6-4, которая\n",
    "# уменьшает запас реактивности на порядка 2%. Это можно учесть просто вычев или прибавив данное значение, но \n",
    "# для начала можно попробовать учесть это простой индекацией наличия данной ампулы.\n",
    "main_df2 = pd.read_csv('final_with_ampules.csv', sep=',', index_col=0 )"
   ]
  },
  {
   "cell_type": "code",
   "execution_count": 3,
   "id": "ea1d62d6",
   "metadata": {},
   "outputs": [
    {
     "data": {
      "text/html": [
       "<div>\n",
       "<style scoped>\n",
       "    .dataframe tbody tr th:only-of-type {\n",
       "        vertical-align: middle;\n",
       "    }\n",
       "\n",
       "    .dataframe tbody tr th {\n",
       "        vertical-align: top;\n",
       "    }\n",
       "\n",
       "    .dataframe thead th {\n",
       "        text-align: right;\n",
       "    }\n",
       "</style>\n",
       "<table border=\"1\" class=\"dataframe\">\n",
       "  <thead>\n",
       "    <tr style=\"text-align: right;\">\n",
       "      <th></th>\n",
       "      <th>Keff</th>\n",
       "      <th>reactivity_margin</th>\n",
       "    </tr>\n",
       "    <tr>\n",
       "      <th>ampule</th>\n",
       "      <th></th>\n",
       "      <th></th>\n",
       "    </tr>\n",
       "  </thead>\n",
       "  <tbody>\n",
       "    <tr>\n",
       "      <th>0</th>\n",
       "      <td>22</td>\n",
       "      <td>4.867830</td>\n",
       "    </tr>\n",
       "    <tr>\n",
       "      <th>1</th>\n",
       "      <td>68</td>\n",
       "      <td>4.929305</td>\n",
       "    </tr>\n",
       "  </tbody>\n",
       "</table>\n",
       "</div>"
      ],
      "text/plain": [
       "        Keff  reactivity_margin\n",
       "ampule                         \n",
       "0         22           4.867830\n",
       "1         68           4.929305"
      ]
     },
     "execution_count": 3,
     "metadata": {},
     "output_type": "execute_result"
    }
   ],
   "source": [
    "#Посчитаем кол-во вариантов с ампулой и без и соответствующие запасы\n",
    "main_df2.groupby('ampule').agg({'Keff':'count', 'reactivity_margin':'mean'})"
   ]
  },
  {
   "cell_type": "code",
   "execution_count": 4,
   "id": "a34d970e",
   "metadata": {},
   "outputs": [],
   "source": [
    "main_df2.drop(columns=['Keff'], inplace=True)\n",
    "target2 = main_df2.pop('reactivity_margin')"
   ]
  },
  {
   "cell_type": "code",
   "execution_count": 5,
   "id": "dd0463a9",
   "metadata": {},
   "outputs": [
    {
     "data": {
      "text/html": [
       "<div>\n",
       "<style scoped>\n",
       "    .dataframe tbody tr th:only-of-type {\n",
       "        vertical-align: middle;\n",
       "    }\n",
       "\n",
       "    .dataframe tbody tr th {\n",
       "        vertical-align: top;\n",
       "    }\n",
       "\n",
       "    .dataframe thead th {\n",
       "        text-align: right;\n",
       "    }\n",
       "</style>\n",
       "<table border=\"1\" class=\"dataframe\">\n",
       "  <thead>\n",
       "    <tr style=\"text-align: right;\">\n",
       "      <th></th>\n",
       "      <th>u235 in mat15563</th>\n",
       "      <th>u238 in mat15563</th>\n",
       "      <th>pu39 in mat15563</th>\n",
       "      <th>xe35 in mat15563</th>\n",
       "      <th>sm49 in mat15563</th>\n",
       "      <th>u235 in mat15564</th>\n",
       "      <th>u238 in mat15564</th>\n",
       "      <th>pu39 in mat15564</th>\n",
       "      <th>xe35 in mat15564</th>\n",
       "      <th>sm49 in mat15564</th>\n",
       "      <th>...</th>\n",
       "      <th>u238 in mat50121</th>\n",
       "      <th>pu39 in mat50121</th>\n",
       "      <th>xe35 in mat50121</th>\n",
       "      <th>sm49 in mat50121</th>\n",
       "      <th>u235 in mat50122</th>\n",
       "      <th>u238 in mat50122</th>\n",
       "      <th>pu39 in mat50122</th>\n",
       "      <th>xe35 in mat50122</th>\n",
       "      <th>sm49 in mat50122</th>\n",
       "      <th>ampule</th>\n",
       "    </tr>\n",
       "  </thead>\n",
       "  <tbody>\n",
       "    <tr>\n",
       "      <th>0</th>\n",
       "      <td>0.001892</td>\n",
       "      <td>0.000258</td>\n",
       "      <td>0.000003</td>\n",
       "      <td>1.958600e-17</td>\n",
       "      <td>2.137700e-07</td>\n",
       "      <td>0.001875</td>\n",
       "      <td>0.000258</td>\n",
       "      <td>0.000003</td>\n",
       "      <td>2.014520e-17</td>\n",
       "      <td>2.179800e-07</td>\n",
       "      <td>...</td>\n",
       "      <td>0.000256</td>\n",
       "      <td>0.000004</td>\n",
       "      <td>1.096900e-17</td>\n",
       "      <td>2.244700e-07</td>\n",
       "      <td>0.001348</td>\n",
       "      <td>0.000256</td>\n",
       "      <td>0.000004</td>\n",
       "      <td>1.052840e-17</td>\n",
       "      <td>2.309600e-07</td>\n",
       "      <td>1</td>\n",
       "    </tr>\n",
       "    <tr>\n",
       "      <th>1</th>\n",
       "      <td>0.001892</td>\n",
       "      <td>0.000258</td>\n",
       "      <td>0.000003</td>\n",
       "      <td>1.958600e-17</td>\n",
       "      <td>2.137700e-07</td>\n",
       "      <td>0.001875</td>\n",
       "      <td>0.000258</td>\n",
       "      <td>0.000003</td>\n",
       "      <td>2.014520e-17</td>\n",
       "      <td>2.179800e-07</td>\n",
       "      <td>...</td>\n",
       "      <td>0.000256</td>\n",
       "      <td>0.000004</td>\n",
       "      <td>1.096900e-17</td>\n",
       "      <td>2.244700e-07</td>\n",
       "      <td>0.001348</td>\n",
       "      <td>0.000256</td>\n",
       "      <td>0.000004</td>\n",
       "      <td>1.052840e-17</td>\n",
       "      <td>2.309600e-07</td>\n",
       "      <td>1</td>\n",
       "    </tr>\n",
       "    <tr>\n",
       "      <th>2</th>\n",
       "      <td>0.001892</td>\n",
       "      <td>0.000258</td>\n",
       "      <td>0.000003</td>\n",
       "      <td>1.958600e-17</td>\n",
       "      <td>2.137700e-07</td>\n",
       "      <td>0.001875</td>\n",
       "      <td>0.000258</td>\n",
       "      <td>0.000003</td>\n",
       "      <td>2.014520e-17</td>\n",
       "      <td>2.179800e-07</td>\n",
       "      <td>...</td>\n",
       "      <td>0.000256</td>\n",
       "      <td>0.000004</td>\n",
       "      <td>1.096900e-17</td>\n",
       "      <td>2.244700e-07</td>\n",
       "      <td>0.001348</td>\n",
       "      <td>0.000256</td>\n",
       "      <td>0.000004</td>\n",
       "      <td>1.052840e-17</td>\n",
       "      <td>2.309600e-07</td>\n",
       "      <td>1</td>\n",
       "    </tr>\n",
       "    <tr>\n",
       "      <th>3</th>\n",
       "      <td>0.001892</td>\n",
       "      <td>0.000258</td>\n",
       "      <td>0.000003</td>\n",
       "      <td>1.958600e-17</td>\n",
       "      <td>2.137700e-07</td>\n",
       "      <td>0.001875</td>\n",
       "      <td>0.000258</td>\n",
       "      <td>0.000003</td>\n",
       "      <td>2.014520e-17</td>\n",
       "      <td>2.179800e-07</td>\n",
       "      <td>...</td>\n",
       "      <td>0.000256</td>\n",
       "      <td>0.000004</td>\n",
       "      <td>1.096900e-17</td>\n",
       "      <td>2.244700e-07</td>\n",
       "      <td>0.001348</td>\n",
       "      <td>0.000256</td>\n",
       "      <td>0.000004</td>\n",
       "      <td>1.052840e-17</td>\n",
       "      <td>2.309600e-07</td>\n",
       "      <td>1</td>\n",
       "    </tr>\n",
       "    <tr>\n",
       "      <th>4</th>\n",
       "      <td>0.001813</td>\n",
       "      <td>0.000258</td>\n",
       "      <td>0.000003</td>\n",
       "      <td>7.327330e-10</td>\n",
       "      <td>2.013030e-07</td>\n",
       "      <td>0.001787</td>\n",
       "      <td>0.000258</td>\n",
       "      <td>0.000004</td>\n",
       "      <td>8.135220e-10</td>\n",
       "      <td>2.038180e-07</td>\n",
       "      <td>...</td>\n",
       "      <td>0.000255</td>\n",
       "      <td>0.000004</td>\n",
       "      <td>9.868130e-10</td>\n",
       "      <td>1.867010e-07</td>\n",
       "      <td>0.001221</td>\n",
       "      <td>0.000256</td>\n",
       "      <td>0.000004</td>\n",
       "      <td>1.011630e-09</td>\n",
       "      <td>1.901750e-07</td>\n",
       "      <td>1</td>\n",
       "    </tr>\n",
       "    <tr>\n",
       "      <th>...</th>\n",
       "      <td>...</td>\n",
       "      <td>...</td>\n",
       "      <td>...</td>\n",
       "      <td>...</td>\n",
       "      <td>...</td>\n",
       "      <td>...</td>\n",
       "      <td>...</td>\n",
       "      <td>...</td>\n",
       "      <td>...</td>\n",
       "      <td>...</td>\n",
       "      <td>...</td>\n",
       "      <td>...</td>\n",
       "      <td>...</td>\n",
       "      <td>...</td>\n",
       "      <td>...</td>\n",
       "      <td>...</td>\n",
       "      <td>...</td>\n",
       "      <td>...</td>\n",
       "      <td>...</td>\n",
       "      <td>...</td>\n",
       "      <td>...</td>\n",
       "    </tr>\n",
       "    <tr>\n",
       "      <th>85</th>\n",
       "      <td>0.002175</td>\n",
       "      <td>0.000266</td>\n",
       "      <td>0.000002</td>\n",
       "      <td>1.779910e-08</td>\n",
       "      <td>2.201420e-07</td>\n",
       "      <td>0.002160</td>\n",
       "      <td>0.000265</td>\n",
       "      <td>0.000002</td>\n",
       "      <td>1.841360e-08</td>\n",
       "      <td>2.198540e-07</td>\n",
       "      <td>...</td>\n",
       "      <td>0.000255</td>\n",
       "      <td>0.000002</td>\n",
       "      <td>1.834570e-08</td>\n",
       "      <td>2.094110e-07</td>\n",
       "      <td>0.001873</td>\n",
       "      <td>0.000255</td>\n",
       "      <td>0.000002</td>\n",
       "      <td>1.837000e-08</td>\n",
       "      <td>2.087810e-07</td>\n",
       "      <td>0</td>\n",
       "    </tr>\n",
       "    <tr>\n",
       "      <th>86</th>\n",
       "      <td>0.002167</td>\n",
       "      <td>0.000265</td>\n",
       "      <td>0.000002</td>\n",
       "      <td>1.882570e-08</td>\n",
       "      <td>1.879430e-07</td>\n",
       "      <td>0.002151</td>\n",
       "      <td>0.000265</td>\n",
       "      <td>0.000002</td>\n",
       "      <td>1.936170e-08</td>\n",
       "      <td>1.838570e-07</td>\n",
       "      <td>...</td>\n",
       "      <td>0.000255</td>\n",
       "      <td>0.000002</td>\n",
       "      <td>1.864140e-08</td>\n",
       "      <td>1.577260e-07</td>\n",
       "      <td>0.001860</td>\n",
       "      <td>0.000255</td>\n",
       "      <td>0.000002</td>\n",
       "      <td>1.866240e-08</td>\n",
       "      <td>1.560670e-07</td>\n",
       "      <td>0</td>\n",
       "    </tr>\n",
       "    <tr>\n",
       "      <th>87</th>\n",
       "      <td>0.002153</td>\n",
       "      <td>0.000265</td>\n",
       "      <td>0.000002</td>\n",
       "      <td>1.876570e-08</td>\n",
       "      <td>1.808310e-07</td>\n",
       "      <td>0.002135</td>\n",
       "      <td>0.000265</td>\n",
       "      <td>0.000002</td>\n",
       "      <td>1.932620e-08</td>\n",
       "      <td>1.770720e-07</td>\n",
       "      <td>...</td>\n",
       "      <td>0.000255</td>\n",
       "      <td>0.000002</td>\n",
       "      <td>1.844490e-08</td>\n",
       "      <td>1.550390e-07</td>\n",
       "      <td>0.001837</td>\n",
       "      <td>0.000255</td>\n",
       "      <td>0.000002</td>\n",
       "      <td>1.839130e-08</td>\n",
       "      <td>1.540870e-07</td>\n",
       "      <td>0</td>\n",
       "    </tr>\n",
       "    <tr>\n",
       "      <th>88</th>\n",
       "      <td>0.002105</td>\n",
       "      <td>0.000265</td>\n",
       "      <td>0.000002</td>\n",
       "      <td>5.905730e-13</td>\n",
       "      <td>2.360430e-07</td>\n",
       "      <td>0.002081</td>\n",
       "      <td>0.000265</td>\n",
       "      <td>0.000002</td>\n",
       "      <td>6.524290e-13</td>\n",
       "      <td>2.408400e-07</td>\n",
       "      <td>...</td>\n",
       "      <td>0.000255</td>\n",
       "      <td>0.000002</td>\n",
       "      <td>6.178070e-13</td>\n",
       "      <td>2.283580e-07</td>\n",
       "      <td>0.001773</td>\n",
       "      <td>0.000255</td>\n",
       "      <td>0.000002</td>\n",
       "      <td>6.377370e-13</td>\n",
       "      <td>2.296190e-07</td>\n",
       "      <td>0</td>\n",
       "    </tr>\n",
       "    <tr>\n",
       "      <th>89</th>\n",
       "      <td>0.002105</td>\n",
       "      <td>0.000265</td>\n",
       "      <td>0.000002</td>\n",
       "      <td>5.905730e-13</td>\n",
       "      <td>2.360430e-07</td>\n",
       "      <td>0.002081</td>\n",
       "      <td>0.000265</td>\n",
       "      <td>0.000002</td>\n",
       "      <td>6.524290e-13</td>\n",
       "      <td>2.408400e-07</td>\n",
       "      <td>...</td>\n",
       "      <td>0.000255</td>\n",
       "      <td>0.000002</td>\n",
       "      <td>6.178070e-13</td>\n",
       "      <td>2.283580e-07</td>\n",
       "      <td>0.001773</td>\n",
       "      <td>0.000255</td>\n",
       "      <td>0.000002</td>\n",
       "      <td>6.377370e-13</td>\n",
       "      <td>2.296190e-07</td>\n",
       "      <td>0</td>\n",
       "    </tr>\n",
       "  </tbody>\n",
       "</table>\n",
       "<p>90 rows × 172801 columns</p>\n",
       "</div>"
      ],
      "text/plain": [
       "    u235 in mat15563  u238 in mat15563  pu39 in mat15563  xe35 in mat15563  \\\n",
       "0           0.001892          0.000258          0.000003      1.958600e-17   \n",
       "1           0.001892          0.000258          0.000003      1.958600e-17   \n",
       "2           0.001892          0.000258          0.000003      1.958600e-17   \n",
       "3           0.001892          0.000258          0.000003      1.958600e-17   \n",
       "4           0.001813          0.000258          0.000003      7.327330e-10   \n",
       "..               ...               ...               ...               ...   \n",
       "85          0.002175          0.000266          0.000002      1.779910e-08   \n",
       "86          0.002167          0.000265          0.000002      1.882570e-08   \n",
       "87          0.002153          0.000265          0.000002      1.876570e-08   \n",
       "88          0.002105          0.000265          0.000002      5.905730e-13   \n",
       "89          0.002105          0.000265          0.000002      5.905730e-13   \n",
       "\n",
       "    sm49 in mat15563  u235 in mat15564  u238 in mat15564  pu39 in mat15564  \\\n",
       "0       2.137700e-07          0.001875          0.000258          0.000003   \n",
       "1       2.137700e-07          0.001875          0.000258          0.000003   \n",
       "2       2.137700e-07          0.001875          0.000258          0.000003   \n",
       "3       2.137700e-07          0.001875          0.000258          0.000003   \n",
       "4       2.013030e-07          0.001787          0.000258          0.000004   \n",
       "..               ...               ...               ...               ...   \n",
       "85      2.201420e-07          0.002160          0.000265          0.000002   \n",
       "86      1.879430e-07          0.002151          0.000265          0.000002   \n",
       "87      1.808310e-07          0.002135          0.000265          0.000002   \n",
       "88      2.360430e-07          0.002081          0.000265          0.000002   \n",
       "89      2.360430e-07          0.002081          0.000265          0.000002   \n",
       "\n",
       "    xe35 in mat15564  sm49 in mat15564  ...  u238 in mat50121  \\\n",
       "0       2.014520e-17      2.179800e-07  ...          0.000256   \n",
       "1       2.014520e-17      2.179800e-07  ...          0.000256   \n",
       "2       2.014520e-17      2.179800e-07  ...          0.000256   \n",
       "3       2.014520e-17      2.179800e-07  ...          0.000256   \n",
       "4       8.135220e-10      2.038180e-07  ...          0.000255   \n",
       "..               ...               ...  ...               ...   \n",
       "85      1.841360e-08      2.198540e-07  ...          0.000255   \n",
       "86      1.936170e-08      1.838570e-07  ...          0.000255   \n",
       "87      1.932620e-08      1.770720e-07  ...          0.000255   \n",
       "88      6.524290e-13      2.408400e-07  ...          0.000255   \n",
       "89      6.524290e-13      2.408400e-07  ...          0.000255   \n",
       "\n",
       "    pu39 in mat50121  xe35 in mat50121  sm49 in mat50121  u235 in mat50122  \\\n",
       "0           0.000004      1.096900e-17      2.244700e-07          0.001348   \n",
       "1           0.000004      1.096900e-17      2.244700e-07          0.001348   \n",
       "2           0.000004      1.096900e-17      2.244700e-07          0.001348   \n",
       "3           0.000004      1.096900e-17      2.244700e-07          0.001348   \n",
       "4           0.000004      9.868130e-10      1.867010e-07          0.001221   \n",
       "..               ...               ...               ...               ...   \n",
       "85          0.000002      1.834570e-08      2.094110e-07          0.001873   \n",
       "86          0.000002      1.864140e-08      1.577260e-07          0.001860   \n",
       "87          0.000002      1.844490e-08      1.550390e-07          0.001837   \n",
       "88          0.000002      6.178070e-13      2.283580e-07          0.001773   \n",
       "89          0.000002      6.178070e-13      2.283580e-07          0.001773   \n",
       "\n",
       "    u238 in mat50122  pu39 in mat50122  xe35 in mat50122  sm49 in mat50122  \\\n",
       "0           0.000256          0.000004      1.052840e-17      2.309600e-07   \n",
       "1           0.000256          0.000004      1.052840e-17      2.309600e-07   \n",
       "2           0.000256          0.000004      1.052840e-17      2.309600e-07   \n",
       "3           0.000256          0.000004      1.052840e-17      2.309600e-07   \n",
       "4           0.000256          0.000004      1.011630e-09      1.901750e-07   \n",
       "..               ...               ...               ...               ...   \n",
       "85          0.000255          0.000002      1.837000e-08      2.087810e-07   \n",
       "86          0.000255          0.000002      1.866240e-08      1.560670e-07   \n",
       "87          0.000255          0.000002      1.839130e-08      1.540870e-07   \n",
       "88          0.000255          0.000002      6.377370e-13      2.296190e-07   \n",
       "89          0.000255          0.000002      6.377370e-13      2.296190e-07   \n",
       "\n",
       "    ampule  \n",
       "0        1  \n",
       "1        1  \n",
       "2        1  \n",
       "3        1  \n",
       "4        1  \n",
       "..     ...  \n",
       "85       0  \n",
       "86       0  \n",
       "87       0  \n",
       "88       0  \n",
       "89       0  \n",
       "\n",
       "[90 rows x 172801 columns]"
      ]
     },
     "execution_count": 5,
     "metadata": {},
     "output_type": "execute_result"
    }
   ],
   "source": [
    "main_df2"
   ]
  },
  {
   "cell_type": "code",
   "execution_count": null,
   "id": "f864eba9",
   "metadata": {},
   "outputs": [],
   "source": []
  },
  {
   "cell_type": "code",
   "execution_count": null,
   "id": "d634048c",
   "metadata": {},
   "outputs": [],
   "source": []
  },
  {
   "cell_type": "code",
   "execution_count": null,
   "id": "46c37b24",
   "metadata": {},
   "outputs": [],
   "source": []
  },
  {
   "cell_type": "code",
   "execution_count": 5,
   "id": "88bbf860",
   "metadata": {},
   "outputs": [],
   "source": [
    "X_train2, X_test2, y_train2, y_test2 = train_test_split(main_df2, target2, test_size=0.2, random_state=7)"
   ]
  },
  {
   "cell_type": "code",
   "execution_count": 10,
   "id": "f719b9ac",
   "metadata": {},
   "outputs": [
    {
     "name": "stdout",
     "output_type": "stream",
     "text": [
      "Wall time: 6min 24s\n"
     ]
    }
   ],
   "source": [
    "%%time\n",
    "#В качестве первого шага применим аналогичные модели\n",
    "sgd_search = HalvingGridSearchCV(estimator=sgd, \n",
    "                                 param_grid=sgd_params,\n",
    "                                 scoring='r2',\n",
    "                                 cv=sss, \n",
    "                                 random_state=9,\n",
    "                                 n_jobs=-1).fit(X_train2, y_train2)\n",
    "\n",
    "lin_svr_search = HalvingGridSearchCV(estimator=lin_svr, \n",
    "                                     param_grid=lin_svr_params,\n",
    "                                     scoring='r2',\n",
    "                                     cv=sss, \n",
    "                                     random_state=9,\n",
    "                                     n_jobs=-1).fit(X_train2, y_train2)\n",
    "\n",
    "svr_search = HalvingGridSearchCV(estimator=svr, \n",
    "                                 param_grid=svr_params,\n",
    "                                 scoring='r2',\n",
    "                                 cv=sss, \n",
    "                                 random_state=9,\n",
    "                                 n_jobs=-1).fit(X_train2, y_train2)"
   ]
  },
  {
   "cell_type": "code",
   "execution_count": 11,
   "id": "bad11d31",
   "metadata": {},
   "outputs": [
    {
     "data": {
      "image/png": "[encoded data removed]",
      "text/plain": [
       "<Figure size 864x432 with 1 Axes>"
      ]
     },
     "metadata": {
      "needs_background": "light"
     },
     "output_type": "display_data"
    }
   ],
   "source": [
    "models = [sgd_search, lin_svr_search, svr_search]\n",
    "markers = ['.', '*', 'v']\n",
    "fig, ax = plt.subplots(figsize=(12,6))\n",
    "for model, marker, y_text in zip(models, markers, [11,10.3,9.6]):\n",
    "    y_pred = model.predict(X_test2)\n",
    "    ax.plot(y_pred, marker, label=(model.estimator))\n",
    "    ax.text(s=f'MAE for {model.estimator}: {mean_absolute_error(y_test2, y_pred): .2e}', x=3, y=y_text)\n",
    "ax.plot([x for x in range(len(y_test2))], y_test2, 'o', label='test')\n",
    "ax.set_ylabel('reactivity_margin, %')\n",
    "ax.set_ylim(0, 12)\n",
    "ax.legend()\n",
    "plt.show()"
   ]
  },
  {
   "cell_type": "markdown",
   "id": "a75ef140",
   "metadata": {},
   "source": [
    "## Вывод\n",
    "Добавив 1 признак наличия ампулы к уже имеющимся **172800**, удалось **снизить** абсолютную ошибку с **2** до **1.4** <div>\n",
    "**Наилучшей** моделью из рассмотренных оказалась **SVC**, что связано с большой нелинейностью зависимости целевой переменной от признаков"
   ]
  },
  {
   "cell_type": "markdown",
   "id": "c2e71be3",
   "metadata": {},
   "source": [
    "## Библиотека XGBoost + Optuna"
   ]
  },
  {
   "cell_type": "code",
   "execution_count": 8,
   "id": "86cc1c12",
   "metadata": {},
   "outputs": [],
   "source": [
    "# !pip install xgboost\n",
    "# !pip install optuna\n",
    "import xgboost as xgb\n",
    "import optuna"
   ]
  },
  {
   "cell_type": "code",
   "execution_count": 9,
   "id": "0374c541",
   "metadata": {},
   "outputs": [],
   "source": [
    "def objective(trial, data=main_df2, label=target2):\n",
    "    train_x, valid_x, train_y, valid_y = train_test_split(data, label, test_size=0.25)\n",
    "    dtrain = xgb.DMatrix(train_x, label=train_y)\n",
    "    dvalid = xgb.DMatrix(valid_x, label=valid_y)\n",
    "\n",
    "    param = {\n",
    "        \"verbosity\": 2,\n",
    "        \"objective\": \"reg:squarederror\",\n",
    "        \"num_round\": trial.suggest_int(\"num_round\", 1000, 4000, step=500),\n",
    "        # For larger dataset, approximate algorithm (approx) will be chosen.\n",
    "        # Also it’s recommended to try hist and gpu_hist for higher performance with large dataset.\n",
    "        \"tree_method\": \"approx\",\n",
    "        # defines booster, gblinear for linear functions.\n",
    "        \"booster\": trial.suggest_categorical(\"booster\", [\"gbtree\", \"gblinear\", \"dart\"]),\n",
    "        # L2 regularization weight.\n",
    "        \"lambda\": trial.suggest_float(\"lambda\", 1e-8, 1.0, log=True),\n",
    "        # L1 regularization weight.\n",
    "        \"alpha\": trial.suggest_float(\"alpha\", 1e-8, 1.0, log=True),\n",
    "        # sampling ratio for training data. XGBoost would randomly sample half of the training data prior to growing trees\n",
    "        # and this will prevent overfitting.\n",
    "        \"subsample\": trial.suggest_float(\"subsample\", 0.2, 1.0),\n",
    "        # sampling according to each tree.\n",
    "        \"colsample_bytree\": trial.suggest_float(\"colsample_bytree\", 0.2, 1.0),\n",
    "    }\n",
    "\n",
    "    if param[\"booster\"] in [\"gbtree\", \"dart\"]:\n",
    "        # maximum depth of the tree, signifies complexity of the tree.\n",
    "        param[\"max_depth\"] = trial.suggest_int(\"max_depth\", 2, 4, step=1)\n",
    "        # minimum child weight, larger the term more conservative the tree.\n",
    "        param[\"min_child_weight\"] = trial.suggest_int(\"min_child_weight\", 2, 10)\n",
    "        param[\"eta\"] = trial.suggest_float(\"eta\", 1e-8, 1.0, log=True)\n",
    "        # defines how selective algorithm is.\n",
    "        param[\"gamma\"] = trial.suggest_float(\"gamma\", 1e-8, 1.0, log=True)\n",
    "        param[\"grow_policy\"] = trial.suggest_categorical(\"grow_policy\", [\"depthwise\", \"lossguide\"])\n",
    "\n",
    "    if param[\"booster\"] == \"dart\":\n",
    "        param[\"sample_type\"] = trial.suggest_categorical(\"sample_type\", [\"uniform\", \"weighted\"])\n",
    "        param[\"normalize_type\"] = trial.suggest_categorical(\"normalize_type\", [\"tree\", \"forest\"])\n",
    "        param[\"rate_drop\"] = trial.suggest_float(\"rate_drop\", 1e-8, 1.0, log=True)\n",
    "        param[\"skip_drop\"] = trial.suggest_float(\"skip_drop\", 1e-8, 1.0, log=True)\n",
    "\n",
    "    bst = xgb.train(param, dtrain)\n",
    "    preds = bst.predict(dvalid)\n",
    "    rmse = mean_squared_error(valid_y, preds, squared=False)\n",
    "    return rmse"
   ]
  },
  {
   "cell_type": "code",
   "execution_count": null,
   "id": "c71b3af6",
   "metadata": {},
   "outputs": [
    {
     "name": "stderr",
     "output_type": "stream",
     "text": [
      "\u001b[32m[I 2022-07-07 14:56:01,337]\u001b[0m A new study created in memory with name: no-name-f73686d6-c19e-45a0-a444-e8ec0e43b58b\u001b[0m\n",
      "C:\\Users\\Anton\\anaconda3\\lib\\site-packages\\optuna\\study\\study.py:393: FutureWarning: `n_jobs` argument has been deprecated in v2.7.0. This feature will be removed in v4.0.0. See https://github.com/optuna/optuna/releases/tag/v2.7.0.\n",
      "  warnings.warn(\n",
      "\u001b[32m[I 2022-07-07 14:56:24,870]\u001b[0m Trial 0 finished with value: 2.430555282752741 and parameters: {'num_round': 1800, 'booster': 'gblinear', 'lambda': 8.227760886309509e-05, 'alpha': 0.0005691009810988934, 'subsample': 0.49651343391372627, 'colsample_bytree': 0.4376722526734275}. Best is trial 0 with value: 2.430555282752741.\u001b[0m\n",
      "\u001b[32m[I 2022-07-07 14:56:36,377]\u001b[0m Trial 2 finished with value: 5.236896119942323 and parameters: {'num_round': 1800, 'booster': 'gbtree', 'lambda': 0.043488084432377165, 'alpha': 5.076240052645602e-06, 'subsample': 0.7655432660452626, 'colsample_bytree': 0.9498836492494249, 'max_depth': 2, 'min_child_weight': 3, 'eta': 0.004075951602679442, 'gamma': 0.026645745252270002, 'grow_policy': 'lossguide'}. Best is trial 0 with value: 2.430555282752741.\u001b[0m\n",
      "\u001b[32m[I 2022-07-07 14:56:36,637]\u001b[0m Trial 1 finished with value: 5.988430370358234 and parameters: {'num_round': 1800, 'booster': 'dart', 'lambda': 0.0007613991116955146, 'alpha': 2.929221616226699e-08, 'subsample': 0.5985922964709297, 'colsample_bytree': 0.3428434338425962, 'max_depth': 2, 'min_child_weight': 3, 'eta': 7.18459212336178e-07, 'gamma': 0.1537832935721531, 'grow_policy': 'lossguide', 'sample_type': 'weighted', 'normalize_type': 'forest', 'rate_drop': 1.891114327101542e-08, 'skip_drop': 0.0001478188695759045}. Best is trial 0 with value: 2.430555282752741.\u001b[0m\n",
      "\u001b[32m[I 2022-07-07 14:56:57,268]\u001b[0m Trial 5 finished with value: 2.2287996762751003 and parameters: {'num_round': 1000, 'booster': 'gblinear', 'lambda': 0.016299812644006876, 'alpha': 1.0621458764384373e-06, 'subsample': 0.9008597774301292, 'colsample_bytree': 0.7659053521756347}. Best is trial 5 with value: 2.2287996762751003.\u001b[0m\n",
      "\u001b[32m[I 2022-07-07 14:57:02,409]\u001b[0m Trial 3 finished with value: 5.409655021054923 and parameters: {'num_round': 400, 'booster': 'gbtree', 'lambda': 0.0008976146470140654, 'alpha': 6.13444440646203e-06, 'subsample': 0.5768264989338721, 'colsample_bytree': 0.7813582116034543, 'max_depth': 4, 'min_child_weight': 5, 'eta': 5.153570244772649e-08, 'gamma': 0.1294357093802158, 'grow_policy': 'depthwise'}. Best is trial 5 with value: 2.2287996762751003.\u001b[0m\n",
      "\u001b[32m[I 2022-07-07 14:57:08,418]\u001b[0m Trial 4 finished with value: 2.1155216390039158 and parameters: {'num_round': 1200, 'booster': 'gbtree', 'lambda': 2.74450172167126e-05, 'alpha': 1.6960003351904691e-06, 'subsample': 0.5541803890349435, 'colsample_bytree': 0.6565905132357583, 'max_depth': 3, 'min_child_weight': 9, 'eta': 0.06383443079989326, 'gamma': 0.0007875002472356959, 'grow_policy': 'lossguide'}. Best is trial 4 with value: 2.1155216390039158.\u001b[0m\n",
      "\u001b[32m[I 2022-07-07 14:57:25,463]\u001b[0m Trial 7 finished with value: 2.1416513960575756 and parameters: {'num_round': 600, 'booster': 'gblinear', 'lambda': 0.00045947861916776603, 'alpha': 0.00016924326198270215, 'subsample': 0.3880741033620472, 'colsample_bytree': 0.44441220936978515}. Best is trial 4 with value: 2.1155216390039158.\u001b[0m\n",
      "\u001b[32m[I 2022-07-07 14:57:25,931]\u001b[0m Trial 6 finished with value: 5.010664138604373 and parameters: {'num_round': 400, 'booster': 'dart', 'lambda': 5.9460468900591636e-08, 'alpha': 0.42023857656808095, 'subsample': 0.34584701146744057, 'colsample_bytree': 0.4284312094828461, 'max_depth': 3, 'min_child_weight': 2, 'eta': 0.00011376002219695161, 'gamma': 1.1332829352915855e-07, 'grow_policy': 'lossguide', 'sample_type': 'weighted', 'normalize_type': 'forest', 'rate_drop': 0.0006877548049842652, 'skip_drop': 1.7859831871257205e-05}. Best is trial 4 with value: 2.1155216390039158.\u001b[0m\n",
      "\u001b[32m[I 2022-07-07 14:57:38,980]\u001b[0m Trial 8 finished with value: 4.477613650656595 and parameters: {'num_round': 600, 'booster': 'dart', 'lambda': 9.107470724555505e-05, 'alpha': 0.7501820947198666, 'subsample': 0.8507686246005812, 'colsample_bytree': 0.23784886366894575, 'max_depth': 2, 'min_child_weight': 8, 'eta': 0.0139729417655561, 'gamma': 1.5569504451086825e-05, 'grow_policy': 'depthwise', 'sample_type': 'weighted', 'normalize_type': 'tree', 'rate_drop': 7.487616372945977e-08, 'skip_drop': 2.8170351110479013e-06}. Best is trial 4 with value: 2.1155216390039158.\u001b[0m\n",
      "\u001b[32m[I 2022-07-07 14:57:46,822]\u001b[0m Trial 9 finished with value: 1.7894168589981312 and parameters: {'num_round': 1800, 'booster': 'gblinear', 'lambda': 0.003889589651204303, 'alpha': 8.20382275739634e-08, 'subsample': 0.6956031069349762, 'colsample_bytree': 0.8865777715642715}. Best is trial 9 with value: 1.7894168589981312.\u001b[0m\n",
      "\u001b[32m[I 2022-07-07 14:57:53,776]\u001b[0m Trial 10 finished with value: 4.029282761004243 and parameters: {'num_round': 800, 'booster': 'dart', 'lambda': 8.807106544754103e-05, 'alpha': 6.077968691173168e-08, 'subsample': 0.2629635061416924, 'colsample_bytree': 0.883871932516261, 'max_depth': 2, 'min_child_weight': 9, 'eta': 0.014330616743710632, 'gamma': 2.2033064820604266e-06, 'grow_policy': 'depthwise', 'sample_type': 'weighted', 'normalize_type': 'tree', 'rate_drop': 1.472878988045235e-07, 'skip_drop': 4.300925474352596e-05}. Best is trial 9 with value: 1.7894168589981312.\u001b[0m\n",
      "\u001b[32m[I 2022-07-07 14:58:02,446]\u001b[0m Trial 11 finished with value: 2.3434272501013638 and parameters: {'num_round': 2000, 'booster': 'gblinear', 'lambda': 0.3873786482895952, 'alpha': 1.320129073365959e-08, 'subsample': 0.7256681831188223, 'colsample_bytree': 0.9621196800172268}. Best is trial 9 with value: 1.7894168589981312.\u001b[0m\n",
      "\u001b[32m[I 2022-07-07 14:58:29,049]\u001b[0m Trial 12 finished with value: 1.0113901692984892 and parameters: {'num_round': 1400, 'booster': 'gbtree', 'lambda': 1.0977120449702296e-06, 'alpha': 3.408250940468265e-07, 'subsample': 0.7258140993058109, 'colsample_bytree': 0.6449525644522607, 'max_depth': 4, 'min_child_weight': 10, 'eta': 0.27245941516368344, 'gamma': 0.001589191163164296, 'grow_policy': 'lossguide'}. Best is trial 12 with value: 1.0113901692984892.\u001b[0m\n",
      "\u001b[32m[I 2022-07-07 14:58:33,673]\u001b[0m Trial 13 finished with value: 4.234267979154481 and parameters: {'num_round': 1400, 'booster': 'gbtree', 'lambda': 1.0392347055318642e-06, 'alpha': 4.524745310654317e-07, 'subsample': 0.702588630459938, 'colsample_bytree': 0.6237831288375447, 'max_depth': 4, 'min_child_weight': 10, 'eta': 4.726110869891842e-05, 'gamma': 0.0003544243962963788, 'grow_policy': 'lossguide'}. Best is trial 12 with value: 1.0113901692984892.\u001b[0m\n",
      "\u001b[32m[I 2022-07-07 14:58:39,686]\u001b[0m Trial 14 finished with value: 1.457043326142151 and parameters: {'num_round': 1400, 'booster': 'gbtree', 'lambda': 1.2683634548284113e-06, 'alpha': 5.093586551097694e-07, 'subsample': 0.7045152371745171, 'colsample_bytree': 0.6044841556921997, 'max_depth': 4, 'min_child_weight': 10, 'eta': 0.9379227496156303, 'gamma': 0.0007484170719210321, 'grow_policy': 'lossguide'}. Best is trial 12 with value: 1.0113901692984892.\u001b[0m\n",
      "\u001b[32m[I 2022-07-07 14:59:31,996]\u001b[0m Trial 15 finished with value: 1.3342568414764284 and parameters: {'num_round': 1400, 'booster': 'gbtree', 'lambda': 2.9517173850261296e-06, 'alpha': 0.005799179018898023, 'subsample': 0.8157834297256009, 'colsample_bytree': 0.756719667037858, 'max_depth': 4, 'min_child_weight': 6, 'eta': 0.6522980797171314, 'gamma': 0.005135119466514893, 'grow_policy': 'lossguide'}. Best is trial 12 with value: 1.0113901692984892.\u001b[0m\n",
      "\u001b[32m[I 2022-07-07 14:59:39,293]\u001b[0m Trial 16 finished with value: 1.4970060231986693 and parameters: {'num_round': 1400, 'booster': 'gbtree', 'lambda': 1.117868889293453e-06, 'alpha': 0.003778005572216625, 'subsample': 0.9549873185435268, 'colsample_bytree': 0.5420029515996083, 'max_depth': 4, 'min_child_weight': 7, 'eta': 0.40416871404575, 'gamma': 0.0032186664825001807, 'grow_policy': 'lossguide'}. Best is trial 12 with value: 1.0113901692984892.\u001b[0m\n",
      "\u001b[32m[I 2022-07-07 14:59:39,293]\u001b[0m Trial 17 finished with value: 1.043220946756166 and parameters: {'num_round': 1400, 'booster': 'gbtree', 'lambda': 2.902973455124394e-06, 'alpha': 0.002189284588992275, 'subsample': 0.9403643237809921, 'colsample_bytree': 0.5460685019564733, 'max_depth': 4, 'min_child_weight': 7, 'eta': 0.6458775488261389, 'gamma': 0.003873701569947443, 'grow_policy': 'lossguide'}. Best is trial 12 with value: 1.0113901692984892.\u001b[0m\n"
     ]
    },
    {
     "name": "stderr",
     "output_type": "stream",
     "text": [
      "\u001b[32m[I 2022-07-07 15:00:21,699]\u001b[0m Trial 18 finished with value: 5.390367561014091 and parameters: {'num_round': 1200, 'booster': 'gbtree', 'lambda': 9.967687997076664e-08, 'alpha': 0.06811103086406933, 'subsample': 0.9958571487362718, 'colsample_bytree': 0.5108706472997259, 'max_depth': 3, 'min_child_weight': 5, 'eta': 0.0005843056713221172, 'gamma': 2.1581692598993987e-05, 'grow_policy': 'lossguide'}. Best is trial 12 with value: 1.0113901692984892.\u001b[0m\n",
      "\u001b[32m[I 2022-07-07 15:00:21,995]\u001b[0m Trial 19 finished with value: 4.9187118444559035 and parameters: {'num_round': 1200, 'booster': 'gbtree', 'lambda': 3.3044484485748855e-08, 'alpha': 0.02621618880297237, 'subsample': 0.9676690745966772, 'colsample_bytree': 0.5391917491143224, 'max_depth': 3, 'min_child_weight': 5, 'eta': 0.00073317502029619, 'gamma': 2.4762463159503173e-05, 'grow_policy': 'lossguide'}. Best is trial 12 with value: 1.0113901692984892.\u001b[0m\n",
      "\u001b[32m[I 2022-07-07 15:00:26,096]\u001b[0m Trial 20 finished with value: 5.268041688835375 and parameters: {'num_round': 1200, 'booster': 'gbtree', 'lambda': 1.6528572592896733e-08, 'alpha': 0.06211525339235954, 'subsample': 0.982591688609841, 'colsample_bytree': 0.5171198655904694, 'max_depth': 3, 'min_child_weight': 5, 'eta': 0.00037662790171860553, 'gamma': 3.3728781911736916e-05, 'grow_policy': 'lossguide'}. Best is trial 12 with value: 1.0113901692984892.\u001b[0m\n",
      "\u001b[32m[I 2022-07-07 15:02:18,553]\u001b[0m Trial 23 finished with value: 1.6920723072684034 and parameters: {'num_round': 1600, 'booster': 'gbtree', 'lambda': 7.520399381657666e-06, 'alpha': 0.0019727613749897606, 'subsample': 0.8177046004456414, 'colsample_bytree': 0.7123797119466017, 'max_depth': 4, 'min_child_weight': 7, 'eta': 0.1484570344375906, 'gamma': 0.014894511368294021, 'grow_policy': 'lossguide'}. Best is trial 12 with value: 1.0113901692984892.\u001b[0m\n",
      "\u001b[32m[I 2022-07-07 15:02:18,444]\u001b[0m Trial 21 finished with value: 1.2905703256382286 and parameters: {'num_round': 1600, 'booster': 'gbtree', 'lambda': 5.194501624633219e-06, 'alpha': 0.0018521908612166135, 'subsample': 0.8285612649120507, 'colsample_bytree': 0.7351383599845512, 'max_depth': 4, 'min_child_weight': 7, 'eta': 0.14451379244972562, 'gamma': 0.008845712488107442, 'grow_policy': 'lossguide'}. Best is trial 12 with value: 1.0113901692984892.\u001b[0m\n",
      "\u001b[32m[I 2022-07-07 15:02:18,538]\u001b[0m Trial 22 finished with value: 1.780344975568673 and parameters: {'num_round': 1600, 'booster': 'gbtree', 'lambda': 5.826277480249424e-06, 'alpha': 0.002449602628990114, 'subsample': 0.8257119876881595, 'colsample_bytree': 0.7254338810234069, 'max_depth': 4, 'min_child_weight': 7, 'eta': 0.1340609086580237, 'gamma': 0.014201636779549427, 'grow_policy': 'lossguide'}. Best is trial 12 with value: 1.0113901692984892.\u001b[0m\n",
      "\u001b[32m[I 2022-07-07 15:04:36,756]\u001b[0m Trial 24 finished with value: 3.420446958042277 and parameters: {'num_round': 1600, 'booster': 'gbtree', 'lambda': 3.4679029871900166e-07, 'alpha': 5.6551636256166434e-05, 'subsample': 0.9016189572166592, 'colsample_bytree': 0.6755828186234631, 'max_depth': 4, 'min_child_weight': 8, 'eta': 0.028893293922957995, 'gamma': 0.8163364508937102, 'grow_policy': 'depthwise'}. Best is trial 12 with value: 1.0113901692984892.\u001b[0m\n",
      "\u001b[32m[I 2022-07-07 15:04:36,615]\u001b[0m Trial 25 finished with value: 4.372976442060668 and parameters: {'num_round': 1600, 'booster': 'gbtree', 'lambda': 2.1536984658283244e-07, 'alpha': 4.0509364395180643e-05, 'subsample': 0.882323275479165, 'colsample_bytree': 0.8465808155717847, 'max_depth': 4, 'min_child_weight': 8, 'eta': 0.027895772844799806, 'gamma': 0.5234735446083266, 'grow_policy': 'depthwise'}. Best is trial 12 with value: 1.0113901692984892.\u001b[0m\n",
      "\u001b[32m[I 2022-07-07 15:04:37,303]\u001b[0m Trial 26 finished with value: 4.843833399217855 and parameters: {'num_round': 1600, 'booster': 'gbtree', 'lambda': 2.7874141572521814e-07, 'alpha': 3.856309353330856e-05, 'subsample': 0.8971693257534951, 'colsample_bytree': 0.6664309669775252, 'max_depth': 4, 'min_child_weight': 8, 'eta': 0.0219287864713724, 'gamma': 0.3311384101921044, 'grow_policy': 'depthwise'}. Best is trial 12 with value: 1.0113901692984892.\u001b[0m\n",
      "\u001b[32m[I 2022-07-07 15:05:26,209]\u001b[0m Trial 29 finished with value: 4.393311504019636 and parameters: {'num_round': 1000, 'booster': 'gbtree', 'lambda': 1.5100486707759332e-05, 'alpha': 0.0002486211603825982, 'subsample': 0.6551341376593842, 'colsample_bytree': 0.821339300060423, 'max_depth': 3, 'min_child_weight': 6, 'eta': 0.002740067282971607, 'gamma': 0.00014384018366019326, 'grow_policy': 'lossguide'}. Best is trial 12 with value: 1.0113901692984892.\u001b[0m\n",
      "\u001b[32m[I 2022-07-07 15:05:27,517]\u001b[0m Trial 27 finished with value: 4.790888453208533 and parameters: {'num_round': 1000, 'booster': 'gbtree', 'lambda': 1.2423285031884007e-05, 'alpha': 0.0004583693034268055, 'subsample': 0.7654324964305156, 'colsample_bytree': 0.5739052097839556, 'max_depth': 3, 'min_child_weight': 6, 'eta': 0.003323495554041054, 'gamma': 0.00018766231536287788, 'grow_policy': 'lossguide'}. Best is trial 12 with value: 1.0113901692984892.\u001b[0m\n",
      "\u001b[32m[I 2022-07-07 15:05:29,339]\u001b[0m Trial 28 finished with value: 4.367881330582696 and parameters: {'num_round': 1000, 'booster': 'gbtree', 'lambda': 1.1587988139782087e-05, 'alpha': 0.00038878166058617706, 'subsample': 0.7882574829596635, 'colsample_bytree': 0.8237284318413374, 'max_depth': 3, 'min_child_weight': 6, 'eta': 1.2155683928239434e-05, 'gamma': 0.0002643148836983592, 'grow_policy': 'lossguide'}. Best is trial 12 with value: 1.0113901692984892.\u001b[0m\n",
      "\u001b[32m[I 2022-07-07 15:05:58,567]\u001b[0m Trial 32 finished with value: 1.4052642942888751 and parameters: {'num_round': 1400, 'booster': 'dart', 'lambda': 2.048489913905535e-06, 'alpha': 0.023672815555505336, 'subsample': 0.43747723286520157, 'colsample_bytree': 0.4507580531338513, 'max_depth': 4, 'min_child_weight': 9, 'eta': 0.216116774110356, 'gamma': 0.002372523401050991, 'grow_policy': 'lossguide', 'sample_type': 'uniform', 'normalize_type': 'tree', 'rate_drop': 0.22843115089979893, 'skip_drop': 0.0939187129882983}. Best is trial 12 with value: 1.0113901692984892.\u001b[0m\n",
      "\u001b[32m[I 2022-07-07 15:06:02,885]\u001b[0m Trial 30 finished with value: 2.0117980462269722 and parameters: {'num_round': 2000, 'booster': 'dart', 'lambda': 2.4160476096051293e-06, 'alpha': 0.023581083720814775, 'subsample': 0.6397274927131863, 'colsample_bytree': 0.42936268777249675, 'max_depth': 4, 'min_child_weight': 9, 'eta': 0.1456477635095207, 'gamma': 0.002467601376236665, 'grow_policy': 'lossguide', 'sample_type': 'uniform', 'normalize_type': 'tree', 'rate_drop': 0.9155391235499019, 'skip_drop': 0.8519885220572818}. Best is trial 12 with value: 1.0113901692984892.\u001b[0m\n",
      "\u001b[32m[I 2022-07-07 15:06:06,389]\u001b[0m Trial 31 finished with value: 1.0155646012099142 and parameters: {'num_round': 2000, 'booster': 'dart', 'lambda': 2.6318660039686306e-06, 'alpha': 0.019468356988564795, 'subsample': 0.6418671400723452, 'colsample_bytree': 0.44755842796965156, 'max_depth': 4, 'min_child_weight': 9, 'eta': 0.23910540463536398, 'gamma': 0.0028989131480140163, 'grow_policy': 'lossguide', 'sample_type': 'uniform', 'normalize_type': 'tree', 'rate_drop': 0.34709935332406266, 'skip_drop': 0.6945897858891698}. Best is trial 12 with value: 1.0113901692984892.\u001b[0m\n",
      "\u001b[32m[I 2022-07-07 15:06:28,586]\u001b[0m Trial 33 finished with value: 2.124847947599833 and parameters: {'num_round': 2000, 'booster': 'dart', 'lambda': 3.9405058734679046e-05, 'alpha': 0.0010404352309241556, 'subsample': 0.5160808493532498, 'colsample_bytree': 0.35491957040448036, 'max_depth': 4, 'min_child_weight': 10, 'eta': 0.977576010453613, 'gamma': 0.05236769593228935, 'grow_policy': 'lossguide', 'sample_type': 'uniform', 'normalize_type': 'tree', 'rate_drop': 0.0016000218428877666, 'skip_drop': 1.5366381701729973e-08}. Best is trial 12 with value: 1.0113901692984892.\u001b[0m\n",
      "\u001b[32m[I 2022-07-07 15:06:34,590]\u001b[0m Trial 34 finished with value: 1.0255484257623233 and parameters: {'num_round': 2000, 'booster': 'dart', 'lambda': 3.2812696842719416e-07, 'alpha': 0.001102087104490851, 'subsample': 0.5237891083609164, 'colsample_bytree': 0.2840328392790271, 'max_depth': 4, 'min_child_weight': 10, 'eta': 0.8532765079658668, 'gamma': 0.028012332401486525, 'grow_policy': 'lossguide', 'sample_type': 'uniform', 'normalize_type': 'tree', 'rate_drop': 0.0019911294250052553, 'skip_drop': 0.004610486757633898}. Best is trial 12 with value: 1.0113901692984892.\u001b[0m\n"
     ]
    },
    {
     "name": "stderr",
     "output_type": "stream",
     "text": [
      "\u001b[32m[I 2022-07-07 15:06:37,595]\u001b[0m Trial 35 finished with value: 1.3384715711936834 and parameters: {'num_round': 2000, 'booster': 'dart', 'lambda': 3.146244115275389e-05, 'alpha': 0.0012308000148380633, 'subsample': 0.6126090558827442, 'colsample_bytree': 0.3336802323208302, 'max_depth': 4, 'min_child_weight': 10, 'eta': 0.6644770282947552, 'gamma': 0.04585402413811472, 'grow_policy': 'lossguide', 'sample_type': 'uniform', 'normalize_type': 'tree', 'rate_drop': 0.0029788770225999055, 'skip_drop': 1.1544550962501604e-08}. Best is trial 12 with value: 1.0113901692984892.\u001b[0m\n",
      "\u001b[32m[I 2022-07-07 15:06:56,167]\u001b[0m Trial 36 finished with value: 5.3268839392372485 and parameters: {'num_round': 1800, 'booster': 'dart', 'lambda': 5.634879768358497e-07, 'alpha': 1.3270940492993441e-05, 'subsample': 0.4688011395580942, 'colsample_bytree': 0.22332051432376548, 'max_depth': 4, 'min_child_weight': 10, 'eta': 4.983906419770144e-07, 'gamma': 0.001129720093503864, 'grow_policy': 'lossguide', 'sample_type': 'uniform', 'normalize_type': 'tree', 'rate_drop': 1.7738111348978285e-05, 'skip_drop': 0.008378910959428897}. Best is trial 12 with value: 1.0113901692984892.\u001b[0m\n",
      "\u001b[32m[I 2022-07-07 15:07:05,298]\u001b[0m Trial 37 finished with value: 5.2612078084122755 and parameters: {'num_round': 1800, 'booster': 'dart', 'lambda': 6.0922112716281e-07, 'alpha': 7.183180896054376e-06, 'subsample': 0.4959554696724745, 'colsample_bytree': 0.22560394897363403, 'max_depth': 4, 'min_child_weight': 9, 'eta': 2.9166090100278416e-06, 'gamma': 0.0012843470767355013, 'grow_policy': 'lossguide', 'sample_type': 'uniform', 'normalize_type': 'tree', 'rate_drop': 1.8773913455709115e-05, 'skip_drop': 0.03129368715524815}. Best is trial 12 with value: 1.0113901692984892.\u001b[0m\n",
      "\u001b[32m[I 2022-07-07 15:07:07,637]\u001b[0m Trial 38 finished with value: 4.2651557474936865 and parameters: {'num_round': 1800, 'booster': 'dart', 'lambda': 5.07062586428617e-07, 'alpha': 6.753267775655589e-06, 'subsample': 0.5242771851722106, 'colsample_bytree': 0.26891312072775725, 'max_depth': 4, 'min_child_weight': 9, 'eta': 1.3127348342648203e-06, 'gamma': 0.000774568619381121, 'grow_policy': 'lossguide', 'sample_type': 'uniform', 'normalize_type': 'tree', 'rate_drop': 7.424461540096908e-06, 'skip_drop': 0.008373365176091245}. Best is trial 12 with value: 1.0113901692984892.\u001b[0m\n",
      "\u001b[32m[I 2022-07-07 15:07:26,316]\u001b[0m Trial 39 finished with value: 3.013158190279379 and parameters: {'num_round': 2000, 'booster': 'dart', 'lambda': 1.3722107886954417e-07, 'alpha': 0.007918344848664475, 'subsample': 0.5792605519412225, 'colsample_bytree': 0.29858317274041446, 'max_depth': 4, 'min_child_weight': 9, 'eta': 0.06049332476506413, 'gamma': 0.157316164688985, 'grow_policy': 'lossguide', 'sample_type': 'uniform', 'normalize_type': 'forest', 'rate_drop': 0.04366793232257886, 'skip_drop': 0.003262608548403735}. Best is trial 12 with value: 1.0113901692984892.\u001b[0m\n",
      "\u001b[32m[I 2022-07-07 15:07:40,476]\u001b[0m Trial 42 finished with value: 1.8451511780382834 and parameters: {'num_round': 800, 'booster': 'gblinear', 'lambda': 0.00019621170732567924, 'alpha': 0.21822249863520693, 'subsample': 0.3916991308099059, 'colsample_bytree': 0.47886659620769606}. Best is trial 12 with value: 1.0113901692984892.\u001b[0m\n",
      "\u001b[32m[I 2022-07-07 15:07:52,400]\u001b[0m Trial 40 finished with value: 2.9650578309703435 and parameters: {'num_round': 2000, 'booster': 'dart', 'lambda': 0.00032305906340359016, 'alpha': 0.008568102847410169, 'subsample': 0.605492485078317, 'colsample_bytree': 0.36800703663271894, 'max_depth': 4, 'min_child_weight': 4, 'eta': 0.058127323661636844, 'gamma': 0.1025281636492119, 'grow_policy': 'lossguide', 'sample_type': 'uniform', 'normalize_type': 'forest', 'rate_drop': 0.0337816023947316, 'skip_drop': 0.0012045582466178066}. Best is trial 12 with value: 1.0113901692984892.\u001b[0m\n",
      "\u001b[32m[I 2022-07-07 15:07:54,436]\u001b[0m Trial 41 finished with value: 3.613897729984955 and parameters: {'num_round': 2000, 'booster': 'dart', 'lambda': 0.00021529220378475557, 'alpha': 0.008866096591777768, 'subsample': 0.5666883575720132, 'colsample_bytree': 0.3792919506942175, 'max_depth': 4, 'min_child_weight': 4, 'eta': 0.05478137118134177, 'gamma': 0.11056902996192773, 'grow_policy': 'lossguide', 'sample_type': 'uniform', 'normalize_type': 'forest', 'rate_drop': 0.0314465843054514, 'skip_drop': 0.0008034293704581344}. Best is trial 12 with value: 1.0113901692984892.\u001b[0m\n",
      "\u001b[32m[I 2022-07-07 15:08:11,829]\u001b[0m Trial 44 finished with value: 2.234905171709678 and parameters: {'num_round': 1800, 'booster': 'gblinear', 'lambda': 3.579149909266006e-06, 'alpha': 0.00014054797069797156, 'subsample': 0.6512542616882409, 'colsample_bytree': 0.5793437138867943}. Best is trial 12 with value: 1.0113901692984892.\u001b[0m\n",
      "\u001b[32m[I 2022-07-07 15:08:14,494]\u001b[0m Trial 45 finished with value: 1.7969236021345016 and parameters: {'num_round': 1800, 'booster': 'gblinear', 'lambda': 4.065786199514796e-06, 'alpha': 0.0007892988269063508, 'subsample': 0.7456461308405391, 'colsample_bytree': 0.6338832502186834}. Best is trial 12 with value: 1.0113901692984892.\u001b[0m\n",
      "\u001b[32m[I 2022-07-07 15:08:16,509]\u001b[0m Trial 43 finished with value: 1.1798780683661527 and parameters: {'num_round': 1800, 'booster': 'dart', 'lambda': 4.524223174665e-06, 'alpha': 0.010403280965701566, 'subsample': 0.7583252511512406, 'colsample_bytree': 0.3815249978085935, 'max_depth': 4, 'min_child_weight': 7, 'eta': 0.26393733420717275, 'gamma': 0.005920109676488466, 'grow_policy': 'lossguide', 'sample_type': 'uniform', 'normalize_type': 'tree', 'rate_drop': 0.03967377371357641, 'skip_drop': 0.32473036115711124}. Best is trial 12 with value: 1.0113901692984892.\u001b[0m\n",
      "\u001b[32m[I 2022-07-07 15:08:53,794]\u001b[0m Trial 46 finished with value: 4.933014249172009 and parameters: {'num_round': 1800, 'booster': 'dart', 'lambda': 7.165982766982578e-08, 'alpha': 0.06237984794594504, 'subsample': 0.6790011193682292, 'colsample_bytree': 0.3184463548282688, 'max_depth': 4, 'min_child_weight': 8, 'eta': 0.008141163277650713, 'gamma': 0.030899758017099058, 'grow_policy': 'lossguide', 'sample_type': 'uniform', 'normalize_type': 'tree', 'rate_drop': 0.012211916134749283, 'skip_drop': 0.8753061446071607}. Best is trial 12 with value: 1.0113901692984892.\u001b[0m\n",
      "\u001b[32m[I 2022-07-07 15:08:55,391]\u001b[0m Trial 47 finished with value: 0.9131760592735361 and parameters: {'num_round': 1800, 'booster': 'dart', 'lambda': 2.7326185374824413e-08, 'alpha': 0.06258295927499748, 'subsample': 0.6678712019340373, 'colsample_bytree': 0.40246580910053376, 'max_depth': 4, 'min_child_weight': 8, 'eta': 0.3137716177742736, 'gamma': 0.027657518624214908, 'grow_policy': 'lossguide', 'sample_type': 'uniform', 'normalize_type': 'tree', 'rate_drop': 0.004965515191093348, 'skip_drop': 0.6371568521550316}. Best is trial 47 with value: 0.9131760592735361.\u001b[0m\n",
      "\u001b[32m[I 2022-07-07 15:08:58,840]\u001b[0m Trial 48 finished with value: 1.4007521753225611 and parameters: {'num_round': 1800, 'booster': 'dart', 'lambda': 0.0013598464275513407, 'alpha': 0.15151229441761857, 'subsample': 0.6775052540246556, 'colsample_bytree': 0.3967434477230807, 'max_depth': 4, 'min_child_weight': 8, 'eta': 0.3110131106368336, 'gamma': 0.017446815732280054, 'grow_policy': 'lossguide', 'sample_type': 'uniform', 'normalize_type': 'tree', 'rate_drop': 0.010840927727405518, 'skip_drop': 0.31245407677445264}. Best is trial 47 with value: 0.9131760592735361.\u001b[0m\n",
      "\u001b[32m[I 2022-07-07 15:09:21,750]\u001b[0m Trial 49 finished with value: 4.71919687000078 and parameters: {'num_round': 1400, 'booster': 'dart', 'lambda': 3.0165355568598675e-08, 'alpha': 0.5479416811525111, 'subsample': 0.5363161787828437, 'colsample_bytree': 0.46167814428728304, 'max_depth': 2, 'min_child_weight': 10, 'eta': 0.00627880278520273, 'gamma': 1.932475128398198e-06, 'grow_policy': 'depthwise', 'sample_type': 'uniform', 'normalize_type': 'tree', 'rate_drop': 0.0003057807413641949, 'skip_drop': 0.04936072538557443}. Best is trial 47 with value: 0.9131760592735361.\u001b[0m\n",
      "\u001b[32m[I 2022-07-07 15:09:23,395]\u001b[0m Trial 50 finished with value: 5.83291087059666 and parameters: {'num_round': 1400, 'booster': 'dart', 'lambda': 1.2018470847988008e-08, 'alpha': 0.5463514372450412, 'subsample': 0.3201367719260062, 'colsample_bytree': 0.47708434080276185, 'max_depth': 2, 'min_child_weight': 10, 'eta': 7.971605217260275e-08, 'gamma': 8.395867556104339e-08, 'grow_policy': 'depthwise', 'sample_type': 'uniform', 'normalize_type': 'tree', 'rate_drop': 0.0002957328813823819, 'skip_drop': 0.027352617415856588}. Best is trial 47 with value: 0.9131760592735361.\u001b[0m\n"
     ]
    },
    {
     "name": "stderr",
     "output_type": "stream",
     "text": [
      "\u001b[32m[I 2022-07-07 15:09:24,536]\u001b[0m Trial 51 finished with value: 2.7229554535689062 and parameters: {'num_round': 1400, 'booster': 'dart', 'lambda': 1.4270712252836913e-08, 'alpha': 0.853230760538693, 'subsample': 0.23945152171561246, 'colsample_bytree': 0.4701140033147886, 'max_depth': 4, 'min_child_weight': 10, 'eta': 0.9951707474161858, 'gamma': 1.062450736752566e-08, 'grow_policy': 'depthwise', 'sample_type': 'uniform', 'normalize_type': 'tree', 'rate_drop': 0.00019025177638141438, 'skip_drop': 0.05163349254742995}. Best is trial 47 with value: 0.9131760592735361.\u001b[0m\n",
      "\u001b[32m[I 2022-07-07 15:10:09,675]\u001b[0m Trial 52 finished with value: 1.0671565974842119 and parameters: {'num_round': 2000, 'booster': 'dart', 'lambda': 1.1737189306985906e-06, 'alpha': 0.015638439698865133, 'subsample': 0.7849548387283576, 'colsample_bytree': 0.40902438412852865, 'max_depth': 4, 'min_child_weight': 7, 'eta': 0.3543336837811939, 'gamma': 0.0048179076939517404, 'grow_policy': 'lossguide', 'sample_type': 'uniform', 'normalize_type': 'tree', 'rate_drop': 0.21257561734925065, 'skip_drop': 0.2452193365206007}. Best is trial 47 with value: 0.9131760592735361.\u001b[0m\n",
      "\u001b[32m[I 2022-07-07 15:10:10,591]\u001b[0m Trial 54 finished with value: 0.9184942932651925 and parameters: {'num_round': 2000, 'booster': 'dart', 'lambda': 1.3530293409395028e-06, 'alpha': 0.015116748353781137, 'subsample': 0.7164159119616083, 'colsample_bytree': 0.40290275674491544, 'max_depth': 4, 'min_child_weight': 7, 'eta': 0.3929057927107272, 'gamma': 0.006172029294065889, 'grow_policy': 'lossguide', 'sample_type': 'uniform', 'normalize_type': 'tree', 'rate_drop': 0.18370122937588462, 'skip_drop': 0.2506315023452324}. Best is trial 47 with value: 0.9131760592735361.\u001b[0m\n",
      "\u001b[32m[I 2022-07-07 15:10:12,988]\u001b[0m Trial 53 finished with value: 1.5450847487009376 and parameters: {'num_round': 2000, 'booster': 'dart', 'lambda': 1.1817752564396777e-06, 'alpha': 0.020831063635732994, 'subsample': 0.7358548694182814, 'colsample_bytree': 0.41266534527052406, 'max_depth': 4, 'min_child_weight': 7, 'eta': 0.34508543372518813, 'gamma': 0.006567635261008972, 'grow_policy': 'lossguide', 'sample_type': 'uniform', 'normalize_type': 'tree', 'rate_drop': 0.21375733292786597, 'skip_drop': 0.28578565937046857}. Best is trial 47 with value: 0.9131760592735361.\u001b[0m\n",
      "\u001b[32m[I 2022-07-07 15:10:50,992]\u001b[0m Trial 56 finished with value: 2.108986614338033 and parameters: {'num_round': 2000, 'booster': 'dart', 'lambda': 3.6038243656556945e-08, 'alpha': 0.003591392153782167, 'subsample': 0.6222766585944891, 'colsample_bytree': 0.2763881669797128, 'max_depth': 4, 'min_child_weight': 9, 'eta': 0.08229665626145355, 'gamma': 0.0005303087430166485, 'grow_policy': 'lossguide', 'sample_type': 'uniform', 'normalize_type': 'tree', 'rate_drop': 0.005161065544030491, 'skip_drop': 0.0097056419501037}. Best is trial 47 with value: 0.9131760592735361.\u001b[0m\n",
      "\u001b[32m[I 2022-07-07 15:11:12,845]\u001b[0m Trial 55 finished with value: 2.739402260306002 and parameters: {'num_round': 2000, 'booster': 'dart', 'lambda': 1.3266913796219256e-07, 'alpha': 0.004025400386919846, 'subsample': 0.9383317767384566, 'colsample_bytree': 0.271200584552094, 'max_depth': 4, 'min_child_weight': 9, 'eta': 0.08994200942286891, 'gamma': 7.373895296434752e-05, 'grow_policy': 'lossguide', 'sample_type': 'uniform', 'normalize_type': 'tree', 'rate_drop': 0.8477745497105821, 'skip_drop': 0.9453998423256131}. Best is trial 47 with value: 0.9131760592735361.\u001b[0m\n",
      "\u001b[32m[I 2022-07-07 15:11:15,595]\u001b[0m Trial 57 finished with value: 2.551055094022549 and parameters: {'num_round': 2000, 'booster': 'dart', 'lambda': 3.826483245323925e-08, 'alpha': 0.0038965353859047977, 'subsample': 0.9352754987973986, 'colsample_bytree': 0.2923787160141116, 'max_depth': 4, 'min_child_weight': 9, 'eta': 0.08993683536025443, 'gamma': 5.930722968173561e-05, 'grow_policy': 'lossguide', 'sample_type': 'uniform', 'normalize_type': 'tree', 'rate_drop': 0.0035473838894776906, 'skip_drop': 0.9343919316626024}. Best is trial 47 with value: 0.9131760592735361.\u001b[0m\n",
      "\u001b[32m[I 2022-07-07 15:11:38,423]\u001b[0m Trial 58 finished with value: 1.1713586954917317 and parameters: {'num_round': 1600, 'booster': 'dart', 'lambda': 1.6259467062564686e-07, 'alpha': 1.5303046906578433e-07, 'subsample': 0.9415411306504129, 'colsample_bytree': 0.5064920749764777, 'max_depth': 4, 'min_child_weight': 8, 'eta': 0.5925449304056957, 'gamma': 0.0019194000562222922, 'grow_policy': 'lossguide', 'sample_type': 'weighted', 'normalize_type': 'tree', 'rate_drop': 0.978406063544173, 'skip_drop': 0.11943074455172772}. Best is trial 47 with value: 0.9131760592735361.\u001b[0m\n",
      "\u001b[32m[I 2022-07-07 15:11:38,986]\u001b[0m Trial 59 finished with value: 1.5453699522321633 and parameters: {'num_round': 1600, 'booster': 'gblinear', 'lambda': 2.268573071202553e-07, 'alpha': 1.8267192962792026e-07, 'subsample': 0.7116624002237292, 'colsample_bytree': 0.5073892989785147}. Best is trial 47 with value: 0.9131760592735361.\u001b[0m\n",
      "\u001b[32m[I 2022-07-07 15:11:39,009]\u001b[0m Trial 60 finished with value: 2.090014874584443 and parameters: {'num_round': 1200, 'booster': 'gblinear', 'lambda': 2.3718315380981491e-07, 'alpha': 0.14143848857702626, 'subsample': 0.6929764620288938, 'colsample_bytree': 0.5121080578751909}. Best is trial 47 with value: 0.9131760592735361.\u001b[0m\n",
      "\u001b[32m[I 2022-07-07 15:12:56,520]\u001b[0m Trial 61 finished with value: 0.9503618442518258 and parameters: {'num_round': 2000, 'booster': 'dart', 'lambda': 1.530175853023898e-06, 'alpha': 0.014699263971969972, 'subsample': 0.8476441650861698, 'colsample_bytree': 0.9952923948625226, 'max_depth': 4, 'min_child_weight': 7, 'eta': 0.35035714232211856, 'gamma': 0.004284698403290223, 'grow_policy': 'lossguide', 'sample_type': 'uniform', 'normalize_type': 'tree', 'rate_drop': 0.12835445260774095, 'skip_drop': 0.1523590978083127}. Best is trial 47 with value: 0.9131760592735361.\u001b[0m\n",
      "\u001b[32m[I 2022-07-07 15:12:57,364]\u001b[0m Trial 62 finished with value: 1.0612147625376203 and parameters: {'num_round': 2000, 'booster': 'dart', 'lambda': 1.95289447334652e-06, 'alpha': 0.04304687455269962, 'subsample': 0.7945376840803695, 'colsample_bytree': 0.4195250037907155, 'max_depth': 4, 'min_child_weight': 7, 'eta': 0.3617821313875503, 'gamma': 0.004441022122524059, 'grow_policy': 'lossguide', 'sample_type': 'uniform', 'normalize_type': 'tree', 'rate_drop': 0.2259257244961037, 'skip_drop': 0.15975364928156072}. Best is trial 47 with value: 0.9131760592735361.\u001b[0m\n",
      "\u001b[32m[I 2022-07-07 15:13:01,255]\u001b[0m Trial 63 finished with value: 0.9818395804314076 and parameters: {'num_round': 2000, 'booster': 'dart', 'lambda': 1.7047933826538833e-06, 'alpha': 0.05463308361208665, 'subsample': 0.8691283705152729, 'colsample_bytree': 0.5595629204698012, 'max_depth': 4, 'min_child_weight': 7, 'eta': 0.39520265495717743, 'gamma': 0.004268354639925185, 'grow_policy': 'lossguide', 'sample_type': 'uniform', 'normalize_type': 'tree', 'rate_drop': 0.149758625292157, 'skip_drop': 0.16264349245760543}. Best is trial 47 with value: 0.9131760592735361.\u001b[0m\n",
      "\u001b[32m[I 2022-07-07 15:24:12,868]\u001b[0m Trial 64 finished with value: 1.354270580446563 and parameters: {'num_round': 2000, 'booster': 'dart', 'lambda': 6.767866584981704e-07, 'alpha': 0.23530201498511139, 'subsample': 0.8388560100926908, 'colsample_bytree': 0.3326176570876218, 'max_depth': 4, 'min_child_weight': 2, 'eta': 0.18258412878337013, 'gamma': 0.014958613946577732, 'grow_policy': 'lossguide', 'sample_type': 'uniform', 'normalize_type': 'tree', 'rate_drop': 0.1205074210945694, 'skip_drop': 0.023917414868996643}. Best is trial 47 with value: 0.9131760592735361.\u001b[0m\n",
      "\u001b[32m[I 2022-07-07 15:24:12,743]\u001b[0m Trial 66 finished with value: 0.9858187239345064 and parameters: {'num_round': 2000, 'booster': 'dart', 'lambda': 0.2381536146013003, 'alpha': 0.27072635185062227, 'subsample': 0.863807252686064, 'colsample_bytree': 0.9876079707928953, 'max_depth': 4, 'min_child_weight': 6, 'eta': 0.26953557515104104, 'gamma': 0.01259030782454012, 'grow_policy': 'lossguide', 'sample_type': 'uniform', 'normalize_type': 'tree', 'rate_drop': 0.07644875594451146, 'skip_drop': 0.09679918081944631}. Best is trial 47 with value: 0.9131760592735361.\u001b[0m\n",
      "\u001b[32m[I 2022-07-07 15:24:16,556]\u001b[0m Trial 65 finished with value: 3.2730021597177497 and parameters: {'num_round': 2000, 'booster': 'dart', 'lambda': 7.880050014698979e-07, 'alpha': 1.6037558684318324e-08, 'subsample': 0.8543716609187761, 'colsample_bytree': 0.20374124849928632, 'max_depth': 4, 'min_child_weight': 6, 'eta': 0.04116764165011243, 'gamma': 0.014321199316253037, 'grow_policy': 'lossguide', 'sample_type': 'uniform', 'normalize_type': 'tree', 'rate_drop': 0.08014491875204369, 'skip_drop': 0.02434585203367357}. Best is trial 47 with value: 0.9131760592735361.\u001b[0m\n"
     ]
    },
    {
     "name": "stderr",
     "output_type": "stream",
     "text": [
      "\u001b[32m[I 2022-07-07 15:25:28,306]\u001b[0m Trial 69 finished with value: 4.337536209157202 and parameters: {'num_round': 1800, 'booster': 'dart', 'lambda': 0.24453017370123636, 'alpha': 0.09352013493016875, 'subsample': 0.8767823291422302, 'colsample_bytree': 0.9987319583120113, 'max_depth': 3, 'min_child_weight': 6, 'eta': 0.020887156573176694, 'gamma': 0.060650834709808185, 'grow_policy': 'lossguide', 'sample_type': 'weighted', 'normalize_type': 'forest', 'rate_drop': 0.013402420076569265, 'skip_drop': 0.10669168908346881}. Best is trial 47 with value: 0.9131760592735361.\u001b[0m\n",
      "\u001b[32m[I 2022-07-07 15:25:28,368]\u001b[0m Trial 67 finished with value: 4.938769699985421 and parameters: {'num_round': 1800, 'booster': 'dart', 'lambda': 0.0021958772887458833, 'alpha': 0.2941755343187844, 'subsample': 0.8567824578096948, 'colsample_bytree': 0.99451266460687, 'max_depth': 3, 'min_child_weight': 6, 'eta': 0.014996555320731866, 'gamma': 0.0004352672605138753, 'grow_policy': 'lossguide', 'sample_type': 'weighted', 'normalize_type': 'forest', 'rate_drop': 0.3851601733809563, 'skip_drop': 0.11249303841562687}. Best is trial 47 with value: 0.9131760592735361.\u001b[0m\n",
      "\u001b[32m[I 2022-07-07 15:25:28,696]\u001b[0m Trial 68 finished with value: 3.9031994677993898 and parameters: {'num_round': 1800, 'booster': 'dart', 'lambda': 0.24042717075523962, 'alpha': 0.041553078063709885, 'subsample': 0.8779563499382879, 'colsample_bytree': 0.9834306616791549, 'max_depth': 3, 'min_child_weight': 6, 'eta': 0.021558204860657088, 'gamma': 0.059974394373522984, 'grow_policy': 'lossguide', 'sample_type': 'weighted', 'normalize_type': 'forest', 'rate_drop': 0.4449998906974655, 'skip_drop': 1.4700125617695602e-06}. Best is trial 47 with value: 0.9131760592735361.\u001b[0m\n",
      "\u001b[32m[I 2022-07-07 15:26:29,151]\u001b[0m Trial 72 finished with value: 1.708177050620364 and parameters: {'num_round': 2000, 'booster': 'dart', 'lambda': 7.752742570569599e-06, 'alpha': 0.09088922134913344, 'subsample': 0.7310568000799409, 'colsample_bytree': 0.9161000112288706, 'max_depth': 4, 'min_child_weight': 7, 'eta': 0.13437730720301094, 'gamma': 0.009181868884892879, 'grow_policy': 'lossguide', 'sample_type': 'uniform', 'normalize_type': 'tree', 'rate_drop': 0.08190692283831472, 'skip_drop': 0.40966440067821697}. Best is trial 47 with value: 0.9131760592735361.\u001b[0m\n",
      "\u001b[32m[I 2022-07-07 15:26:31,818]\u001b[0m Trial 71 finished with value: 5.016696370109738 and parameters: {'num_round': 2000, 'booster': 'dart', 'lambda': 0.014097882456029375, 'alpha': 1.3433997857250467e-06, 'subsample': 0.7154679218832213, 'colsample_bytree': 0.9182718879984209, 'max_depth': 4, 'min_child_weight': 7, 'eta': 1.0381259777567316e-08, 'gamma': 0.009180716709072438, 'grow_policy': 'lossguide', 'sample_type': 'uniform', 'normalize_type': 'tree', 'rate_drop': 0.12853778172722463, 'skip_drop': 0.38336085954713445}. Best is trial 47 with value: 0.9131760592735361.\u001b[0m\n",
      "\u001b[32m[I 2022-07-07 15:26:31,865]\u001b[0m Trial 70 finished with value: 4.350663841113643 and parameters: {'num_round': 400, 'booster': 'dart', 'lambda': 0.006083223042750638, 'alpha': 2.1692432984306892e-06, 'subsample': 0.7272300176240066, 'colsample_bytree': 0.9216883215919557, 'max_depth': 4, 'min_child_weight': 7, 'eta': 1.1817764569553635e-08, 'gamma': 0.002083870598962191, 'grow_policy': 'lossguide', 'sample_type': 'uniform', 'normalize_type': 'tree', 'rate_drop': 0.04806061921608837, 'skip_drop': 0.40416257622858354}. Best is trial 47 with value: 0.9131760592735361.\u001b[0m\n",
      "\u001b[32m[I 2022-07-07 15:27:10,938]\u001b[0m Trial 73 finished with value: 1.1501994902306705 and parameters: {'num_round': 2000, 'booster': 'dart', 'lambda': 5.2216378635877666e-05, 'alpha': 0.03842865840018464, 'subsample': 0.6399032100641763, 'colsample_bytree': 0.6938210756529852, 'max_depth': 4, 'min_child_weight': 8, 'eta': 0.5587022977769135, 'gamma': 0.026668783336346338, 'grow_policy': 'lossguide', 'sample_type': 'uniform', 'normalize_type': 'tree', 'rate_drop': 0.0018701772115395587, 'skip_drop': 0.000252981480056252}. Best is trial 47 with value: 0.9131760592735361.\u001b[0m\n",
      "\u001b[32m[I 2022-07-07 15:27:13,516]\u001b[0m Trial 74 finished with value: 1.2692201158299883 and parameters: {'num_round': 2000, 'booster': 'dart', 'lambda': 0.07587221989309047, 'alpha': 0.03422581389101917, 'subsample': 0.5865165113671431, 'colsample_bytree': 0.9620048950340012, 'max_depth': 4, 'min_child_weight': 8, 'eta': 0.41837600537552494, 'gamma': 0.026426229145179513, 'grow_policy': 'lossguide', 'sample_type': 'uniform', 'normalize_type': 'tree', 'rate_drop': 0.001014205504971766, 'skip_drop': 0.00010707339275847899}. Best is trial 47 with value: 0.9131760592735361.\u001b[0m\n",
      "\u001b[32m[I 2022-07-07 15:27:14,094]\u001b[0m Trial 75 finished with value: 1.1043369132658787 and parameters: {'num_round': 2000, 'booster': 'dart', 'lambda': 5.3533536531277317e-05, 'alpha': 0.03849369755875854, 'subsample': 0.5866004273668978, 'colsample_bytree': 0.95366737898734, 'max_depth': 4, 'min_child_weight': 8, 'eta': 0.5398824831672924, 'gamma': 0.035110325324272405, 'grow_policy': 'lossguide', 'sample_type': 'uniform', 'normalize_type': 'tree', 'rate_drop': 0.013154370355969232, 'skip_drop': 0.0779758412515227}. Best is trial 47 with value: 0.9131760592735361.\u001b[0m\n",
      "\u001b[32m[I 2022-07-07 15:27:49,091]\u001b[0m Trial 76 finished with value: 1.6432449834730516 and parameters: {'num_round': 1800, 'booster': 'dart', 'lambda': 1.8597868017275052e-06, 'alpha': 0.01376166878081761, 'subsample': 0.6702562757833049, 'colsample_bytree': 0.7860095398844698, 'max_depth': 4, 'min_child_weight': 10, 'eta': 0.1936017476962292, 'gamma': 0.2132441120262283, 'grow_policy': 'lossguide', 'sample_type': 'uniform', 'normalize_type': 'tree', 'rate_drop': 0.49307836345220996, 'skip_drop': 0.011139405058458356}. Best is trial 47 with value: 0.9131760592735361.\u001b[0m\n",
      "\u001b[32m[I 2022-07-07 15:27:54,816]\u001b[0m Trial 77 finished with value: 1.8313675532779774 and parameters: {'num_round': 1800, 'booster': 'dart', 'lambda': 0.873475778224433, 'alpha': 0.015732107553089913, 'subsample': 0.8069356296758922, 'colsample_bytree': 0.606476714713383, 'max_depth': 4, 'min_child_weight': 10, 'eta': 0.19501529612862892, 'gamma': 0.0013641187846599988, 'grow_policy': 'lossguide', 'sample_type': 'uniform', 'normalize_type': 'tree', 'rate_drop': 0.5464673884262251, 'skip_drop': 4.907124598225725e-06}. Best is trial 47 with value: 0.9131760592735361.\u001b[0m\n",
      "\u001b[32m[I 2022-07-07 15:27:59,988]\u001b[0m Trial 78 finished with value: 1.689377867526547 and parameters: {'num_round': 1800, 'booster': 'dart', 'lambda': 1.8289261759183232e-06, 'alpha': 0.016467259325002596, 'subsample': 0.9102696525558609, 'colsample_bytree': 0.5544344720561727, 'max_depth': 4, 'min_child_weight': 10, 'eta': 0.2193405016806301, 'gamma': 0.2582270635139514, 'grow_policy': 'lossguide', 'sample_type': 'uniform', 'normalize_type': 'tree', 'rate_drop': 0.44714758285061623, 'skip_drop': 0.011853256138583594}. Best is trial 47 with value: 0.9131760592735361.\u001b[0m\n",
      "\u001b[32m[I 2022-07-07 16:17:12,486]\u001b[0m Trial 79 finished with value: 1.2688514359267262 and parameters: {'num_round': 2000, 'booster': 'gbtree', 'lambda': 3.8791345980152873e-07, 'alpha': 0.1130423298341797, 'subsample': 0.9207165205793129, 'colsample_bytree': 0.5666015255150869, 'max_depth': 4, 'min_child_weight': 5, 'eta': 0.6915548200795094, 'gamma': 0.0032560915879126244, 'grow_policy': 'lossguide'}. Best is trial 47 with value: 0.9131760592735361.\u001b[0m\n",
      "\u001b[32m[I 2022-07-07 16:17:34,908]\u001b[0m Trial 81 finished with value: 1.8073700133860435 and parameters: {'num_round': 2000, 'booster': 'gbtree', 'lambda': 1.8987057440426113e-05, 'alpha': 0.1133339731445239, 'subsample': 0.7712682936636068, 'colsample_bytree': 0.3564350596931906, 'max_depth': 4, 'min_child_weight': 5, 'eta': 0.9858675886465357, 'gamma': 0.003018701852729888, 'grow_policy': 'lossguide'}. Best is trial 47 with value: 0.9131760592735361.\u001b[0m\n",
      "\u001b[32m[I 2022-07-07 16:17:36,892]\u001b[0m Trial 80 finished with value: 4.304697520574514 and parameters: {'num_round': 2000, 'booster': 'gbtree', 'lambda': 3.850950852300931e-07, 'alpha': 0.006876290815005312, 'subsample': 0.5558169101858162, 'colsample_bytree': 0.3566734775748416, 'max_depth': 4, 'min_child_weight': 5, 'eta': 8.125394075192377e-05, 'gamma': 0.004011192352592688, 'grow_policy': 'lossguide'}. Best is trial 47 with value: 0.9131760592735361.\u001b[0m\n"
     ]
    },
    {
     "name": "stderr",
     "output_type": "stream",
     "text": [
      "\u001b[32m[I 2022-07-07 16:36:57,270]\u001b[0m Trial 83 finished with value: 1.5785141729367698 and parameters: {'num_round': 1200, 'booster': 'gbtree', 'lambda': 3.124474029746038e-06, 'alpha': 0.0015314525521278215, 'subsample': 0.9953524611504457, 'colsample_bytree': 0.6423257946145022, 'max_depth': 4, 'min_child_weight': 7, 'eta': 0.1068615778609044, 'gamma': 0.0008506055914695749, 'grow_policy': 'lossguide'}. Best is trial 47 with value: 0.9131760592735361.\u001b[0m\n",
      "\u001b[32m[I 2022-07-07 16:36:59,442]\u001b[0m Trial 82 finished with value: 3.4562903622348764 and parameters: {'num_round': 1200, 'booster': 'gbtree', 'lambda': 7.0988396783169875e-06, 'alpha': 0.0017369197140864243, 'subsample': 0.9722486527914258, 'colsample_bytree': 0.629429403374727, 'max_depth': 4, 'min_child_weight': 7, 'eta': 0.03912074913873038, 'gamma': 0.008976841687640954, 'grow_policy': 'lossguide'}. Best is trial 47 with value: 0.9131760592735361.\u001b[0m\n",
      "\u001b[32m[I 2022-07-07 16:36:59,552]\u001b[0m Trial 84 finished with value: 2.009422917499417 and parameters: {'num_round': 1200, 'booster': 'gbtree', 'lambda': 9.377491327663784e-06, 'alpha': 0.002412495987228463, 'subsample': 0.9629707209142442, 'colsample_bytree': 0.643083562360528, 'max_depth': 4, 'min_child_weight': 7, 'eta': 0.1028852603176743, 'gamma': 0.0008936802079963759, 'grow_policy': 'lossguide'}. Best is trial 47 with value: 0.9131760592735361.\u001b[0m\n",
      "\u001b[32m[I 2022-07-07 16:38:16,864]\u001b[0m Trial 86 finished with value: 1.4198104291474174 and parameters: {'num_round': 1600, 'booster': 'gbtree', 'lambda': 8.605208772293807e-08, 'alpha': 0.062288318787820256, 'subsample': 0.6201770735618851, 'colsample_bytree': 0.4381542822538205, 'max_depth': 4, 'min_child_weight': 8, 'eta': 0.29907908328063504, 'gamma': 0.08162145418905466, 'grow_policy': 'depthwise'}. Best is trial 47 with value: 0.9131760592735361.\u001b[0m\n",
      "\u001b[32m[I 2022-07-07 16:38:17,926]\u001b[0m Trial 87 finished with value: 1.1992415977865898 and parameters: {'num_round': 800, 'booster': 'gbtree', 'lambda': 7.894264823241864e-08, 'alpha': 0.0007089831508912502, 'subsample': 0.6224887241225125, 'colsample_bytree': 0.5350318896276289, 'max_depth': 4, 'min_child_weight': 8, 'eta': 0.3161811058645393, 'gamma': 0.07889784417505769, 'grow_policy': 'depthwise'}. Best is trial 47 with value: 0.9131760592735361.\u001b[0m\n",
      "\u001b[32m[I 2022-07-07 16:38:18,739]\u001b[0m Trial 85 finished with value: 1.1996869837314155 and parameters: {'num_round': 800, 'booster': 'gbtree', 'lambda': 9.161996116120497e-08, 'alpha': 0.000518282074283433, 'subsample': 0.6199806919963051, 'colsample_bytree': 0.5272512908869438, 'max_depth': 4, 'min_child_weight': 8, 'eta': 0.27635560938946857, 'gamma': 0.022475567966189807, 'grow_policy': 'depthwise'}. Best is trial 47 with value: 0.9131760592735361.\u001b[0m\n",
      "\u001b[32m[I 2022-07-07 16:39:08,129]\u001b[0m Trial 90 finished with value: 1.2476632391409532 and parameters: {'num_round': 1800, 'booster': 'dart', 'lambda': 1.009991079877315e-06, 'alpha': 0.00021183893319223388, 'subsample': 0.46003346779382714, 'colsample_bytree': 0.8722867706749159, 'max_depth': 4, 'min_child_weight': 6, 'eta': 0.6000660656459442, 'gamma': 6.890995748310609e-06, 'grow_policy': 'lossguide', 'sample_type': 'uniform', 'normalize_type': 'tree', 'rate_drop': 1.9996185645044196e-07, 'skip_drop': 0.0023747939705563168}. Best is trial 47 with value: 0.9131760592735361.\u001b[0m\n",
      "\u001b[32m[I 2022-07-07 16:39:09,442]\u001b[0m Trial 89 finished with value: 4.173866692829598 and parameters: {'num_round': 1800, 'booster': 'dart', 'lambda': 8.96862194411e-07, 'alpha': 0.00027869811536818, 'subsample': 0.46710095454113615, 'colsample_bytree': 0.5961366993724785, 'max_depth': 4, 'min_child_weight': 6, 'eta': 0.001608290821214179, 'gamma': 0.0066172282694819, 'grow_policy': 'lossguide', 'sample_type': 'uniform', 'normalize_type': 'tree', 'rate_drop': 1.7814871906285558e-06, 'skip_drop': 0.004022687605641072}. Best is trial 47 with value: 0.9131760592735361.\u001b[0m\n",
      "\u001b[32m[I 2022-07-07 16:39:15,426]\u001b[0m Trial 88 finished with value: 0.8877407743952134 and parameters: {'num_round': 1800, 'booster': 'dart', 'lambda': 1.0740470129767212e-06, 'alpha': 8.755332245789804e-05, 'subsample': 0.8866535463565015, 'colsample_bytree': 0.5928657562503777, 'max_depth': 4, 'min_child_weight': 6, 'eta': 0.5414369365234575, 'gamma': 0.006822600598475114, 'grow_policy': 'lossguide', 'sample_type': 'uniform', 'normalize_type': 'tree', 'rate_drop': 0.022563608030474365, 'skip_drop': 0.00251333913919923}. Best is trial 88 with value: 0.8877407743952134.\u001b[0m\n",
      "\u001b[32m[I 2022-07-07 16:46:02,269]\u001b[0m Trial 93 finished with value: 1.119073853289813 and parameters: {'num_round': 1600, 'booster': 'dart', 'lambda': 1.3924852588610652e-06, 'alpha': 7.312993816975732e-05, 'subsample': 0.88668467013787, 'colsample_bytree': 0.39739306871799895, 'max_depth': 4, 'min_child_weight': 6, 'eta': 0.48977160431303735, 'gamma': 0.0017067345543506564, 'grow_policy': 'lossguide', 'sample_type': 'uniform', 'normalize_type': 'tree', 'rate_drop': 0.026549490220002456, 'skip_drop': 0.0004018233605799856}. Best is trial 88 with value: 0.8877407743952134.\u001b[0m\n",
      "\u001b[32m[I 2022-07-07 16:46:02,237]\u001b[0m Trial 91 finished with value: 1.0705369728133336 and parameters: {'num_round': 1600, 'booster': 'dart', 'lambda': 1.9553691207517954e-05, 'alpha': 1.7493486521671152e-05, 'subsample': 0.8948142237520047, 'colsample_bytree': 0.5840337576408288, 'max_depth': 4, 'min_child_weight': 6, 'eta': 0.9884786312862973, 'gamma': 0.013187247501958993, 'grow_policy': 'lossguide', 'sample_type': 'uniform', 'normalize_type': 'tree', 'rate_drop': 0.01872444477571419, 'skip_drop': 0.1795639430180664}. Best is trial 88 with value: 0.8877407743952134.\u001b[0m\n",
      "\u001b[32m[I 2022-07-07 16:46:02,112]\u001b[0m Trial 92 finished with value: 1.1628324604551383 and parameters: {'num_round': 1600, 'booster': 'dart', 'lambda': 1.5233873513937596e-06, 'alpha': 0.0001007064819008211, 'subsample': 0.8865098048078699, 'colsample_bytree': 0.5937331607757879, 'max_depth': 4, 'min_child_weight': 6, 'eta': 0.9644179118200259, 'gamma': 0.0018194107560116455, 'grow_policy': 'lossguide', 'sample_type': 'uniform', 'normalize_type': 'tree', 'rate_drop': 0.025358241383505974, 'skip_drop': 0.1543343822816345}. Best is trial 88 with value: 0.8877407743952134.\u001b[0m\n",
      "\u001b[32m[I 2022-07-07 17:04:24,773]\u001b[0m Trial 96 finished with value: 1.4949183613568473 and parameters: {'num_round': 2000, 'booster': 'dart', 'lambda': 2.7897997926771923e-06, 'alpha': 0.35549579849638896, 'subsample': 0.8401797517984843, 'colsample_bytree': 0.4496525710649102, 'max_depth': 4, 'min_child_weight': 9, 'eta': 0.15852134517456154, 'gamma': 0.0002444705188482607, 'grow_policy': 'lossguide', 'sample_type': 'uniform', 'normalize_type': 'tree', 'rate_drop': 0.004720101619674977, 'skip_drop': 0.06200126914036854}. Best is trial 88 with value: 0.8877407743952134.\u001b[0m\n",
      "\u001b[32m[I 2022-07-07 17:04:24,866]\u001b[0m Trial 94 finished with value: 5.021081679919852 and parameters: {'num_round': 2000, 'booster': 'dart', 'lambda': 2.715469648703115e-06, 'alpha': 0.3890811709097749, 'subsample': 0.9165557665967377, 'colsample_bytree': 0.49014628825223944, 'max_depth': 4, 'min_child_weight': 9, 'eta': 1.6832246184331503e-05, 'gamma': 0.006753253707874574, 'grow_policy': 'lossguide', 'sample_type': 'uniform', 'normalize_type': 'tree', 'rate_drop': 0.005956449378602303, 'skip_drop': 0.06286598667819346}. Best is trial 88 with value: 0.8877407743952134.\u001b[0m\n",
      "\u001b[32m[I 2022-07-07 17:04:24,820]\u001b[0m Trial 95 finished with value: 1.2350097047708264 and parameters: {'num_round': 2000, 'booster': 'dart', 'lambda': 2.8156038290335463e-06, 'alpha': 0.005891254592290651, 'subsample': 0.8364115180586267, 'colsample_bytree': 0.4481705009169409, 'max_depth': 4, 'min_child_weight': 9, 'eta': 0.1455388315977848, 'gamma': 0.006903357851674117, 'grow_policy': 'lossguide', 'sample_type': 'uniform', 'normalize_type': 'tree', 'rate_drop': 0.006467723018068962, 'skip_drop': 0.060637498576718074}. Best is trial 88 with value: 0.8877407743952134.\u001b[0m\n",
      "\u001b[32m[I 2022-07-07 17:05:28,417]\u001b[0m Trial 97 finished with value: 2.1664450866744325 and parameters: {'num_round': 1400, 'booster': 'gblinear', 'lambda': 5.140702547498822e-06, 'alpha': 0.19267583310051686, 'subsample': 0.6958143606322365, 'colsample_bytree': 0.48994888835899425}. Best is trial 88 with value: 0.8877407743952134.\u001b[0m\n"
     ]
    },
    {
     "name": "stderr",
     "output_type": "stream",
     "text": [
      "\u001b[32m[I 2022-07-07 17:05:28,557]\u001b[0m Trial 99 finished with value: 2.1993361561082274 and parameters: {'num_round': 1400, 'booster': 'gblinear', 'lambda': 2.0603462728121785e-08, 'alpha': 0.16931994429517924, 'subsample': 0.8622841579641364, 'colsample_bytree': 0.5618767320681476}. Best is trial 88 with value: 0.8877407743952134.\u001b[0m\n",
      "\u001b[32m[I 2022-07-07 17:05:28,635]\u001b[0m Trial 98 finished with value: 1.3947406837501617 and parameters: {'num_round': 1400, 'booster': 'gblinear', 'lambda': 4.6728464159812754e-07, 'alpha': 3.139289403673577e-06, 'subsample': 0.8656294875629816, 'colsample_bytree': 0.5535651471185415}. Best is trial 88 with value: 0.8877407743952134.\u001b[0m\n",
      "\u001b[32m[I 2022-07-07 17:07:25,541]\u001b[0m Trial 102 finished with value: 3.393345311944049 and parameters: {'num_round': 2000, 'booster': 'dart', 'lambda': 6.393780020497667e-07, 'alpha': 3.985650167612618e-08, 'subsample': 0.7740739661592447, 'colsample_bytree': 0.663655078103167, 'max_depth': 4, 'min_child_weight': 7, 'eta': 0.05063542685911479, 'gamma': 0.041114245516828685, 'grow_policy': 'lossguide', 'sample_type': 'uniform', 'normalize_type': 'tree', 'rate_drop': 0.051738487120131474, 'skip_drop': 0.4288826324297304}. Best is trial 88 with value: 0.8877407743952134.\u001b[0m\n",
      "\u001b[32m[I 2022-07-07 17:07:25,557]\u001b[0m Trial 101 finished with value: 2.7658259359360087 and parameters: {'num_round': 2000, 'booster': 'dart', 'lambda': 7.044525442652979e-07, 'alpha': 3.776775404524513e-08, 'subsample': 0.8135760312242435, 'colsample_bytree': 0.666637096532115, 'max_depth': 4, 'min_child_weight': 7, 'eta': 0.06388150947765125, 'gamma': 0.0032770228897661944, 'grow_policy': 'lossguide', 'sample_type': 'uniform', 'normalize_type': 'tree', 'rate_drop': 0.06858629677630287, 'skip_drop': 4.684268875662595e-05}. Best is trial 88 with value: 0.8877407743952134.\u001b[0m\n",
      "\u001b[32m[I 2022-07-07 17:07:28,635]\u001b[0m Trial 100 finished with value: 2.7202335536577427 and parameters: {'num_round': 2000, 'booster': 'dart', 'lambda': 6.748729749241139e-07, 'alpha': 0.009737050726328649, 'subsample': 0.8118966126648015, 'colsample_bytree': 0.6737260313083686, 'max_depth': 4, 'min_child_weight': 7, 'eta': 0.04096201838512129, 'gamma': 0.003406232370702985, 'grow_policy': 'lossguide', 'sample_type': 'uniform', 'normalize_type': 'tree', 'rate_drop': 0.06417032287046502, 'skip_drop': 2.258821932553656e-05}. Best is trial 88 with value: 0.8877407743952134.\u001b[0m\n",
      "C:\\Users\\Anton\\anaconda3\\lib\\site-packages\\optuna\\study\\_optimize.py:192: ExperimentalWarning: fail_stale_trials is experimental (supported from v2.9.0). The interface can change in the future.\n",
      "  optuna.storages.fail_stale_trials(study)\n",
      "\u001b[32m[I 2022-07-07 17:09:09,361]\u001b[0m Trial 105 finished with value: 1.330152385140176 and parameters: {'num_round': 2000, 'booster': 'dart', 'lambda': 4.767513520717416e-06, 'alpha': 4.66830976295918e-07, 'subsample': 0.748079894415143, 'colsample_bytree': 0.6145956469705154, 'max_depth': 4, 'min_child_weight': 7, 'eta': 0.41129821333666117, 'gamma': 0.012219088288963809, 'grow_policy': 'lossguide', 'sample_type': 'uniform', 'normalize_type': 'tree', 'rate_drop': 0.2201189185170762, 'skip_drop': 0.7117168630896364}. Best is trial 88 with value: 0.8877407743952134.\u001b[0m\n",
      "\u001b[32m[I 2022-07-07 17:09:09,470]\u001b[0m Trial 103 finished with value: 0.8753151660801053 and parameters: {'num_round': 2000, 'booster': 'dart', 'lambda': 1.8478367127437564e-07, 'alpha': 0.05006592059181026, 'subsample': 0.7463603344757196, 'colsample_bytree': 0.4290563889789056, 'max_depth': 4, 'min_child_weight': 7, 'eta': 0.42789395723535656, 'gamma': 0.011018138172929966, 'grow_policy': 'lossguide', 'sample_type': 'uniform', 'normalize_type': 'tree', 'rate_drop': 0.21070871802716865, 'skip_drop': 0.587130871655959}. Best is trial 103 with value: 0.8753151660801053.\u001b[0m\n",
      "\u001b[32m[I 2022-07-07 17:09:09,439]\u001b[0m Trial 104 finished with value: 1.3647119829759853 and parameters: {'num_round': 2000, 'booster': 'dart', 'lambda': 3.023691397518115e-07, 'alpha': 0.030250132644438092, 'subsample': 0.7938137779896878, 'colsample_bytree': 0.4180735682304908, 'max_depth': 4, 'min_child_weight': 7, 'eta': 0.3837708896778034, 'gamma': 0.019069168793579717, 'grow_policy': 'lossguide', 'sample_type': 'uniform', 'normalize_type': 'tree', 'rate_drop': 0.165674756168886, 'skip_drop': 0.6770133534915455}. Best is trial 103 with value: 0.8753151660801053.\u001b[0m\n",
      "\u001b[32m[I 2022-07-07 17:09:55,939]\u001b[0m Trial 107 finished with value: 0.9825767141004715 and parameters: {'num_round': 1800, 'booster': 'dart', 'lambda': 1.39094420940522e-07, 'alpha': 0.05443716643619918, 'subsample': 0.6608238247419727, 'colsample_bytree': 0.38660467527354064, 'max_depth': 4, 'min_child_weight': 10, 'eta': 0.6265729698431319, 'gamma': 0.01144997971440168, 'grow_policy': 'lossguide', 'sample_type': 'uniform', 'normalize_type': 'tree', 'rate_drop': 0.09848285085313452, 'skip_drop': 0.21905593187129455}. Best is trial 103 with value: 0.8753151660801053.\u001b[0m\n",
      "\u001b[32m[I 2022-07-07 17:09:57,048]\u001b[0m Trial 108 finished with value: 1.0942615882943791 and parameters: {'num_round': 1800, 'booster': 'dart', 'lambda': 4.762696089539919e-08, 'alpha': 0.0507429551429903, 'subsample': 0.659944489471693, 'colsample_bytree': 0.37895190655810473, 'max_depth': 4, 'min_child_weight': 10, 'eta': 0.6592270948554046, 'gamma': 0.00492922977266556, 'grow_policy': 'lossguide', 'sample_type': 'uniform', 'normalize_type': 'tree', 'rate_drop': 0.12044693572802113, 'skip_drop': 0.21679891038541993}. Best is trial 103 with value: 0.8753151660801053.\u001b[0m\n",
      "\u001b[32m[I 2022-07-07 17:09:57,251]\u001b[0m Trial 106 finished with value: 0.7729210244544766 and parameters: {'num_round': 1800, 'booster': 'dart', 'lambda': 1.707502299168826e-07, 'alpha': 8.480210814211365e-07, 'subsample': 0.6520249474034374, 'colsample_bytree': 0.9406197018734294, 'max_depth': 4, 'min_child_weight': 10, 'eta': 0.6361119083748302, 'gamma': 0.004625299557701408, 'grow_policy': 'lossguide', 'sample_type': 'uniform', 'normalize_type': 'tree', 'rate_drop': 0.13342776932219794, 'skip_drop': 5.644599152790782e-08}. Best is trial 106 with value: 0.7729210244544766.\u001b[0m\n",
      "\u001b[32m[I 2022-07-07 17:10:33,907]\u001b[0m Trial 109 finished with value: 1.37231529958425 and parameters: {'num_round': 1800, 'booster': 'dart', 'lambda': 1.9480772926768894e-07, 'alpha': 2.449364123762656e-07, 'subsample': 0.6511697233020619, 'colsample_bytree': 0.9727435968285892, 'max_depth': 4, 'min_child_weight': 10, 'eta': 0.21093777434517683, 'gamma': 0.010668179118372458, 'grow_policy': 'lossguide', 'sample_type': 'uniform', 'normalize_type': 'tree', 'rate_drop': 0.26676717473739325, 'skip_drop': 3.86453248078157e-08}. Best is trial 106 with value: 0.7729210244544766.\u001b[0m\n",
      "\u001b[32m[I 2022-07-07 17:10:35,126]\u001b[0m Trial 110 finished with value: 1.9387241703133697 and parameters: {'num_round': 1800, 'booster': 'dart', 'lambda': 1.8949288506797238e-07, 'alpha': 0.07699298969616233, 'subsample': 0.6951068242088909, 'colsample_bytree': 0.944604777192605, 'max_depth': 4, 'min_child_weight': 10, 'eta': 0.2420183467634282, 'gamma': 0.009705879370234404, 'grow_policy': 'lossguide', 'sample_type': 'uniform', 'normalize_type': 'tree', 'rate_drop': 0.32105666649958026, 'skip_drop': 1.601218501160028e-07}. Best is trial 106 with value: 0.7729210244544766.\u001b[0m\n",
      "\u001b[32m[I 2022-07-07 17:10:37,251]\u001b[0m Trial 111 finished with value: 1.3912110331991772 and parameters: {'num_round': 1800, 'booster': 'dart', 'lambda': 1.446295160013062e-07, 'alpha': 7.882533444704525e-07, 'subsample': 0.6738632994822554, 'colsample_bytree': 0.9382566040520761, 'max_depth': 4, 'min_child_weight': 10, 'eta': 0.229263298952302, 'gamma': 0.010147292585171141, 'grow_policy': 'lossguide', 'sample_type': 'uniform', 'normalize_type': 'tree', 'rate_drop': 0.2637073337024593, 'skip_drop': 4.8414318025198034e-08}. Best is trial 106 with value: 0.7729210244544766.\u001b[0m\n",
      "\u001b[32m[I 2022-07-07 17:11:08,688]\u001b[0m Trial 113 finished with value: 1.2930950279180318 and parameters: {'num_round': 1800, 'booster': 'dart', 'lambda': 4.2076370693839806e-07, 'alpha': 0.023902216182227612, 'subsample': 0.5997347992145725, 'colsample_bytree': 0.3155086938098729, 'max_depth': 4, 'min_child_weight': 10, 'eta': 0.5811139903436505, 'gamma': 0.021930794997388085, 'grow_policy': 'lossguide', 'sample_type': 'uniform', 'normalize_type': 'tree', 'rate_drop': 0.10908474888357612, 'skip_drop': 0.44257693578385815}. Best is trial 106 with value: 0.7729210244544766.\u001b[0m\n"
     ]
    },
    {
     "name": "stderr",
     "output_type": "stream",
     "text": [
      "\u001b[32m[I 2022-07-07 17:11:10,220]\u001b[0m Trial 114 finished with value: 1.3160485491357572 and parameters: {'num_round': 1800, 'booster': 'dart', 'lambda': 5.4592698581514695e-08, 'alpha': 0.024267542438143063, 'subsample': 0.6015700578991919, 'colsample_bytree': 0.24299988414930815, 'max_depth': 4, 'min_child_weight': 10, 'eta': 0.6005672229746578, 'gamma': 0.031277972326379654, 'grow_policy': 'lossguide', 'sample_type': 'uniform', 'normalize_type': 'tree', 'rate_drop': 0.10300946490748085, 'skip_drop': 0.5447220583184671}. Best is trial 106 with value: 0.7729210244544766.\u001b[0m\n",
      "\u001b[32m[I 2022-07-07 17:11:10,938]\u001b[0m Trial 112 finished with value: 1.0780924470980557 and parameters: {'num_round': 1800, 'booster': 'dart', 'lambda': 5.4281969083636526e-08, 'alpha': 0.021163418583992795, 'subsample': 0.6349590178198317, 'colsample_bytree': 0.391251761659751, 'max_depth': 4, 'min_child_weight': 10, 'eta': 0.6725476875766118, 'gamma': 0.0005575373806224553, 'grow_policy': 'lossguide', 'sample_type': 'uniform', 'normalize_type': 'tree', 'rate_drop': 0.11088859453958833, 'skip_drop': 0.6529010276225808}. Best is trial 106 with value: 0.7729210244544766.\u001b[0m\n",
      "\u001b[32m[I 2022-07-07 17:11:41,376]\u001b[0m Trial 115 finished with value: 2.5623555429660874 and parameters: {'num_round': 2000, 'booster': 'dart', 'lambda': 1.9361354741296326e-08, 'alpha': 0.6653147562690702, 'subsample': 0.714068045360122, 'colsample_bytree': 0.9819312204530958, 'max_depth': 2, 'min_child_weight': 9, 'eta': 0.09780824617555954, 'gamma': 0.0026699828630065646, 'grow_policy': 'lossguide', 'sample_type': 'weighted', 'normalize_type': 'tree', 'rate_drop': 0.039420236488529624, 'skip_drop': 0.19869857853391495}. Best is trial 106 with value: 0.7729210244544766.\u001b[0m\n",
      "\u001b[32m[I 2022-07-07 17:11:53,938]\u001b[0m Trial 117 finished with value: 1.6482156505341232 and parameters: {'num_round': 2000, 'booster': 'dart', 'lambda': 1.2815555653396221e-07, 'alpha': 7.013415031750679e-07, 'subsample': 0.7103733971616359, 'colsample_bytree': 0.9802545970553139, 'max_depth': 4, 'min_child_weight': 9, 'eta': 0.12705796444754158, 'gamma': 0.004962955752336222, 'grow_policy': 'lossguide', 'sample_type': 'uniform', 'normalize_type': 'tree', 'rate_drop': 0.03711135703309185, 'skip_drop': 0.2342218216174478}. Best is trial 106 with value: 0.7729210244544766.\u001b[0m\n",
      "\u001b[32m[I 2022-07-07 17:12:00,298]\u001b[0m Trial 116 finished with value: 2.056533739980217 and parameters: {'num_round': 2000, 'booster': 'dart', 'lambda': 2.8519297202299574e-07, 'alpha': 3.2823800278188795e-07, 'subsample': 0.7510973535019648, 'colsample_bytree': 0.8977536827483242, 'max_depth': 4, 'min_child_weight': 9, 'eta': 0.10995884982631729, 'gamma': 0.0023448043388445616, 'grow_policy': 'lossguide', 'sample_type': 'weighted', 'normalize_type': 'tree', 'rate_drop': 0.034483046439658986, 'skip_drop': 0.2250405644631344}. Best is trial 106 with value: 0.7729210244544766.\u001b[0m\n",
      "\u001b[32m[I 2022-07-07 17:12:16,751]\u001b[0m Trial 118 finished with value: 1.1714370610121694 and parameters: {'num_round': 2000, 'booster': 'dart', 'lambda': 1.024946549413616e-08, 'alpha': 0.05459800669689941, 'subsample': 0.6881210756883819, 'colsample_bytree': 0.7439747711565659, 'max_depth': 4, 'min_child_weight': 9, 'eta': 0.38981967686195357, 'gamma': 0.004794406040573224, 'grow_policy': 'lossguide', 'sample_type': 'uniform', 'normalize_type': 'forest', 'rate_drop': 0.7122248088034147, 'skip_drop': 0.036072648762674464}. Best is trial 106 with value: 0.7729210244544766.\u001b[0m\n",
      "\u001b[32m[I 2022-07-07 17:12:39,673]\u001b[0m Trial 119 finished with value: 1.363270093323133 and parameters: {'num_round': 600, 'booster': 'dart', 'lambda': 1.055685518679195e-06, 'alpha': 0.012370393853343724, 'subsample': 0.6899101135065357, 'colsample_bytree': 0.32744067997514475, 'max_depth': 4, 'min_child_weight': 6, 'eta': 0.40186942032926704, 'gamma': 0.015993040095717115, 'grow_policy': 'lossguide', 'sample_type': 'uniform', 'normalize_type': 'forest', 'rate_drop': 0.5822084783532743, 'skip_drop': 0.978376709399393}. Best is trial 106 with value: 0.7729210244544766.\u001b[0m\n",
      "\u001b[32m[I 2022-07-07 17:12:42,532]\u001b[0m Trial 120 finished with value: 4.421297194405973 and parameters: {'num_round': 2000, 'booster': 'dart', 'lambda': 1.125147812184491e-07, 'alpha': 0.011979178520259537, 'subsample': 0.6633534580781453, 'colsample_bytree': 0.3371519254521803, 'max_depth': 4, 'min_child_weight': 6, 'eta': 0.0003151100411690911, 'gamma': 0.001266276574182409, 'grow_policy': 'lossguide', 'sample_type': 'uniform', 'normalize_type': 'forest', 'rate_drop': 0.0005712326585016681, 'skip_drop': 0.03355736109852744}. Best is trial 106 with value: 0.7729210244544766.\u001b[0m\n",
      "\u001b[32m[I 2022-07-07 17:12:43,266]\u001b[0m Trial 121 finished with value: 1.1309665725545701 and parameters: {'num_round': 600, 'booster': 'dart', 'lambda': 2.8273312999833973e-08, 'alpha': 1.214894756695914e-07, 'subsample': 0.503054717893357, 'colsample_bytree': 0.42882508159332233, 'max_depth': 4, 'min_child_weight': 10, 'eta': 0.41722439070543504, 'gamma': 0.001315966886561149, 'grow_policy': 'lossguide', 'sample_type': 'uniform', 'normalize_type': 'tree', 'rate_drop': 0.0019451244183832637, 'skip_drop': 0.0008251777314475933}. Best is trial 106 with value: 0.7729210244544766.\u001b[0m\n",
      "\u001b[32m[I 2022-07-07 17:13:49,454]\u001b[0m Trial 124 finished with value: 1.2203566339532221 and parameters: {'num_round': 1600, 'booster': 'gbtree', 'lambda': 1.6504259138268253e-06, 'alpha': 0.0032721302774998775, 'subsample': 0.9314068223577842, 'colsample_bytree': 0.40154556641145384, 'max_depth': 4, 'min_child_weight': 7, 'eta': 0.7645835871574536, 'gamma': 0.01749641548934158, 'grow_policy': 'lossguide'}. Best is trial 106 with value: 0.7729210244544766.\u001b[0m\n",
      "\u001b[32m[I 2022-07-07 17:13:49,469]\u001b[0m Trial 122 finished with value: 1.6856343813931776 and parameters: {'num_round': 1600, 'booster': 'gbtree', 'lambda': 0.0005593726084553818, 'alpha': 2.9965349469870606e-05, 'subsample': 0.9497404862567969, 'colsample_bytree': 0.46391794101270645, 'max_depth': 4, 'min_child_weight': 7, 'eta': 0.8290471851143397, 'gamma': 0.04292330564257842, 'grow_policy': 'lossguide'}. Best is trial 106 with value: 0.7729210244544766.\u001b[0m\n",
      "\u001b[32m[I 2022-07-07 17:13:49,438]\u001b[0m Trial 123 finished with value: 1.0704218431535302 and parameters: {'num_round': 1600, 'booster': 'gbtree', 'lambda': 0.0006549696789073872, 'alpha': 0.005141508757457015, 'subsample': 0.9315254329257243, 'colsample_bytree': 0.47265560319163247, 'max_depth': 4, 'min_child_weight': 7, 'eta': 0.7093682775249736, 'gamma': 0.021076650380475435, 'grow_policy': 'lossguide'}. Best is trial 106 with value: 0.7729210244544766.\u001b[0m\n",
      "\u001b[32m[I 2022-07-07 17:14:39,453]\u001b[0m Trial 125 finished with value: 1.7459594242932228 and parameters: {'num_round': 1000, 'booster': 'dart', 'lambda': 4.952292527216713e-07, 'alpha': 0.08664547369558483, 'subsample': 0.41471456893139974, 'colsample_bytree': 0.3750887801028043, 'max_depth': 4, 'min_child_weight': 8, 'eta': 0.2597955934543258, 'gamma': 0.006721284984217117, 'grow_policy': 'lossguide', 'sample_type': 'uniform', 'normalize_type': 'tree', 'rate_drop': 0.0654809189470311, 'skip_drop': 0.1025877781769955}. Best is trial 106 with value: 0.7729210244544766.\u001b[0m\n",
      "\u001b[32m[I 2022-07-07 17:14:44,797]\u001b[0m Trial 127 finished with value: 1.0121316847726898 and parameters: {'num_round': 1000, 'booster': 'dart', 'lambda': 5.282052282851322e-07, 'alpha': 0.09055722818781829, 'subsample': 0.642255854783878, 'colsample_bytree': 0.36998929148033355, 'max_depth': 4, 'min_child_weight': 10, 'eta': 0.2738127106721646, 'gamma': 0.007662586458890507, 'grow_policy': 'lossguide', 'sample_type': 'uniform', 'normalize_type': 'tree', 'rate_drop': 4.937469417173034e-05, 'skip_drop': 0.12209987745432908}. Best is trial 106 with value: 0.7729210244544766.\u001b[0m\n",
      "\u001b[32m[I 2022-07-07 17:14:45,703]\u001b[0m Trial 126 finished with value: 1.5181370415983193 and parameters: {'num_round': 1000, 'booster': 'dart', 'lambda': 5.124330755367777e-07, 'alpha': 0.11318531733648557, 'subsample': 0.6375683521264692, 'colsample_bytree': 0.5442002388978312, 'max_depth': 4, 'min_child_weight': 10, 'eta': 0.26043349527680215, 'gamma': 0.006889475095763474, 'grow_policy': 'lossguide', 'sample_type': 'uniform', 'normalize_type': 'tree', 'rate_drop': 0.16588211876020806, 'skip_drop': 0.10636545577499387}. Best is trial 106 with value: 0.7729210244544766.\u001b[0m\n"
     ]
    },
    {
     "name": "stderr",
     "output_type": "stream",
     "text": [
      "\u001b[32m[I 2022-07-07 17:15:17,406]\u001b[0m Trial 128 finished with value: 2.5155980169761896 and parameters: {'num_round': 1800, 'booster': 'dart', 'lambda': 8.95455146943706e-07, 'alpha': 0.23026912441752817, 'subsample': 0.7325719731281635, 'colsample_bytree': 0.36263841119041373, 'max_depth': 4, 'min_child_weight': 10, 'eta': 0.07134232671614706, 'gamma': 0.004040671022571215, 'grow_policy': 'lossguide', 'sample_type': 'uniform', 'normalize_type': 'tree', 'rate_drop': 0.0001225733218382395, 'skip_drop': 0.01910386017241191}. Best is trial 106 with value: 0.7729210244544766.\u001b[0m\n",
      "\u001b[32m[I 2022-07-07 17:15:19,702]\u001b[0m Trial 130 finished with value: 1.470190229519847 and parameters: {'num_round': 1800, 'booster': 'dart', 'lambda': 1.1743408054876079e-06, 'alpha': 0.03454210446299013, 'subsample': 0.5413430091298302, 'colsample_bytree': 0.35629328887667316, 'max_depth': 4, 'min_child_weight': 10, 'eta': 0.18324379108817532, 'gamma': 0.1567599566621204, 'grow_policy': 'lossguide', 'sample_type': 'uniform', 'normalize_type': 'tree', 'rate_drop': 4.8351590984324234e-05, 'skip_drop': 0.3253655506606301}. Best is trial 106 with value: 0.7729210244544766.\u001b[0m\n",
      "\u001b[32m[I 2022-07-07 17:15:22,694]\u001b[0m Trial 129 finished with value: 2.2400134953547517 and parameters: {'num_round': 1800, 'booster': 'dart', 'lambda': 3.038871855294457e-07, 'alpha': 0.2320698669956923, 'subsample': 0.6465010646400113, 'colsample_bytree': 0.7969327950805883, 'max_depth': 4, 'min_child_weight': 10, 'eta': 0.1610167164848698, 'gamma': 0.14511182557184615, 'grow_policy': 'lossguide', 'sample_type': 'uniform', 'normalize_type': 'tree', 'rate_drop': 4.495332181446107e-05, 'skip_drop': 0.005325382440599145}. Best is trial 106 with value: 0.7729210244544766.\u001b[0m\n",
      "\u001b[32m[I 2022-07-07 17:16:13,244]\u001b[0m Trial 133 finished with value: 1.5036043984178706 and parameters: {'num_round': 2000, 'booster': 'dart', 'lambda': 2.020356806535121e-06, 'alpha': 0.0011104250846591945, 'subsample': 0.567598803348268, 'colsample_bytree': 0.4298761835528583, 'max_depth': 4, 'min_child_weight': 6, 'eta': 0.46995044341466236, 'gamma': 0.002128921429080319, 'grow_policy': 'lossguide', 'sample_type': 'uniform', 'normalize_type': 'tree', 'rate_drop': 1.52684398273689e-05, 'skip_drop': 0.12728714304902763}. Best is trial 106 with value: 0.7729210244544766.\u001b[0m\n",
      "\u001b[32m[I 2022-07-07 17:16:21,259]\u001b[0m Trial 131 finished with value: 1.0585110067957235 and parameters: {'num_round': 1000, 'booster': 'dart', 'lambda': 2.3343926160201614e-06, 'alpha': 0.06541994284083069, 'subsample': 0.9086521938987968, 'colsample_bytree': 0.4219876956459402, 'max_depth': 4, 'min_child_weight': 6, 'eta': 0.44390006511478086, 'gamma': 0.013444888868007036, 'grow_policy': 'lossguide', 'sample_type': 'uniform', 'normalize_type': 'tree', 'rate_drop': 8.530117577048347e-06, 'skip_drop': 0.0019915140747099993}. Best is trial 106 with value: 0.7729210244544766.\u001b[0m\n",
      "\u001b[32m[I 2022-07-07 17:16:22,806]\u001b[0m Trial 132 finished with value: 0.9594228180193815 and parameters: {'num_round': 1000, 'booster': 'dart', 'lambda': 2.2207137447960577e-06, 'alpha': 0.06911111958515556, 'subsample': 0.9059494534664838, 'colsample_bytree': 0.2521853034088824, 'max_depth': 4, 'min_child_weight': 6, 'eta': 0.49888403459987524, 'gamma': 0.0024794632075689125, 'grow_policy': 'lossguide', 'sample_type': 'uniform', 'normalize_type': 'tree', 'rate_drop': 0.01835442872124952, 'skip_drop': 0.15490629941608938}. Best is trial 106 with value: 0.7729210244544766.\u001b[0m\n",
      "\u001b[32m[I 2022-07-07 17:17:18,093]\u001b[0m Trial 134 finished with value: 1.6413459631225416 and parameters: {'num_round': 1000, 'booster': 'dart', 'lambda': 2.4557206530368426e-07, 'alpha': 0.05945370793094647, 'subsample': 0.6690242828793751, 'colsample_bytree': 0.25528776903204414, 'max_depth': 4, 'min_child_weight': 5, 'eta': 0.2518523210839723, 'gamma': 0.029858023622334588, 'grow_policy': 'depthwise', 'sample_type': 'uniform', 'normalize_type': 'tree', 'rate_drop': 0.01817475813285311, 'skip_drop': 0.2740299616446169}. Best is trial 106 with value: 0.7729210244544766.\u001b[0m\n",
      "\u001b[32m[I 2022-07-07 17:17:18,077]\u001b[0m Trial 136 finished with value: 0.9759953595313244 and parameters: {'num_round': 1000, 'booster': 'dart', 'lambda': 2.3793499805221051e-07, 'alpha': 0.048859961874126175, 'subsample': 0.6720364115990868, 'colsample_bytree': 0.29109259763464623, 'max_depth': 4, 'min_child_weight': 5, 'eta': 0.303766069937866, 'gamma': 0.008199887587528203, 'grow_policy': 'depthwise', 'sample_type': 'uniform', 'normalize_type': 'tree', 'rate_drop': 0.020041404896349105, 'skip_drop': 0.2932000255617637}. Best is trial 106 with value: 0.7729210244544766.\u001b[0m\n",
      "\u001b[32m[I 2022-07-07 17:17:18,061]\u001b[0m Trial 135 finished with value: 1.1810941576615572 and parameters: {'num_round': 1000, 'booster': 'dart', 'lambda': 2.124113051520387e-07, 'alpha': 0.1376295967837004, 'subsample': 0.6762924356076537, 'colsample_bytree': 0.27750464398553865, 'max_depth': 4, 'min_child_weight': 5, 'eta': 0.2894508139787074, 'gamma': 0.008200153512961264, 'grow_policy': 'depthwise', 'sample_type': 'uniform', 'normalize_type': 'tree', 'rate_drop': 0.00853669751829133, 'skip_drop': 0.2944623244230314}. Best is trial 106 with value: 0.7729210244544766.\u001b[0m\n",
      "\u001b[32m[I 2022-07-07 17:19:16,955]\u001b[0m Trial 137 finished with value: 1.5505106066184504 and parameters: {'num_round': 1000, 'booster': 'dart', 'lambda': 0.04714866499829093, 'alpha': 0.0447481667822032, 'subsample': 0.6339706403533902, 'colsample_bytree': 0.30901389597345297, 'max_depth': 4, 'min_child_weight': 6, 'eta': 0.1443711739914144, 'gamma': 0.003131684811704635, 'grow_policy': 'depthwise', 'sample_type': 'uniform', 'normalize_type': 'tree', 'rate_drop': 0.01897795830996864, 'skip_drop': 0.14923552874109086}. Best is trial 106 with value: 0.7729210244544766.\u001b[0m\n",
      "\u001b[32m[I 2022-07-07 17:19:16,923]\u001b[0m Trial 138 finished with value: 1.466364054508599 and parameters: {'num_round': 1000, 'booster': 'dart', 'lambda': 4.1310170750704385e-06, 'alpha': 0.040995271524111275, 'subsample': 0.7179379332132233, 'colsample_bytree': 0.7017820376756619, 'max_depth': 4, 'min_child_weight': 4, 'eta': 0.15318020421483705, 'gamma': 0.0029278969827074438, 'grow_policy': 'depthwise', 'sample_type': 'uniform', 'normalize_type': 'tree', 'rate_drop': 0.019735991010118737, 'skip_drop': 0.547392664829431}. Best is trial 106 with value: 0.7729210244544766.\u001b[0m\n",
      "\u001b[32m[I 2022-07-07 17:19:33,720]\u001b[0m Trial 139 finished with value: 1.3368285280405727 and parameters: {'num_round': 1000, 'booster': 'dart', 'lambda': 1.436059578026824e-06, 'alpha': 0.047211090177297306, 'subsample': 0.8673897798312996, 'colsample_bytree': 0.21330188321735682, 'max_depth': 4, 'min_child_weight': 4, 'eta': 0.15581437761378447, 'gamma': 0.0031338053304948016, 'grow_policy': 'depthwise', 'sample_type': 'uniform', 'normalize_type': 'tree', 'rate_drop': 0.022845429062517603, 'skip_drop': 0.15974122381668723}. Best is trial 106 with value: 0.7729210244544766.\u001b[0m\n",
      "\u001b[32m[I 2022-07-07 17:20:46,967]\u001b[0m Trial 141 finished with value: 1.1273014383801645 and parameters: {'num_round': 800, 'booster': 'dart', 'lambda': 7.531241146741486e-07, 'alpha': 0.08778115126321079, 'subsample': 0.6573809450264205, 'colsample_bytree': 0.3906017181336246, 'max_depth': 4, 'min_child_weight': 5, 'eta': 0.4786726490625505, 'gamma': 0.0050085136264451015, 'grow_policy': 'lossguide', 'sample_type': 'uniform', 'normalize_type': 'tree', 'rate_drop': 0.1651910591941617, 'skip_drop': 0.07660484194905913}. Best is trial 106 with value: 0.7729210244544766.\u001b[0m\n",
      "\u001b[32m[I 2022-07-07 17:20:57,952]\u001b[0m Trial 142 finished with value: 1.3651844843221939 and parameters: {'num_round': 800, 'booster': 'dart', 'lambda': 8.803979168710837e-07, 'alpha': 0.08325461291461894, 'subsample': 0.6990493170576125, 'colsample_bytree': 0.39624826251333656, 'max_depth': 4, 'min_child_weight': 5, 'eta': 0.3389769577786079, 'gamma': 0.005484202003696591, 'grow_policy': 'lossguide', 'sample_type': 'uniform', 'normalize_type': 'tree', 'rate_drop': 0.32981553153499954, 'skip_drop': 0.07897063487083189}. Best is trial 106 with value: 0.7729210244544766.\u001b[0m\n",
      "\u001b[32m[I 2022-07-07 17:21:19,436]\u001b[0m Trial 140 finished with value: 1.2993898040250915 and parameters: {'num_round': 800, 'booster': 'dart', 'lambda': 7.488928102589687e-07, 'alpha': 0.09569239550957441, 'subsample': 0.8431831621185536, 'colsample_bytree': 0.9985822932541287, 'max_depth': 4, 'min_child_weight': 5, 'eta': 0.35234483726482424, 'gamma': 0.005480437994388687, 'grow_policy': 'lossguide', 'sample_type': 'uniform', 'normalize_type': 'tree', 'rate_drop': 0.373537690638816, 'skip_drop': 0.08275226701422077}. Best is trial 106 with value: 0.7729210244544766.\u001b[0m\n"
     ]
    },
    {
     "name": "stderr",
     "output_type": "stream",
     "text": [
      "\u001b[32m[I 2022-07-07 17:22:32,061]\u001b[0m Trial 145 finished with value: 1.1698020504740934 and parameters: {'num_round': 2000, 'booster': 'dart', 'lambda': 3.6158138168644865e-07, 'alpha': 0.0170718001405816, 'subsample': 0.8964760958789589, 'colsample_bytree': 0.288392435280711, 'max_depth': 4, 'min_child_weight': 10, 'eta': 0.8810792232434103, 'gamma': 0.012289905850100778, 'grow_policy': 'lossguide', 'sample_type': 'uniform', 'normalize_type': 'tree', 'rate_drop': 0.0031748839768481283, 'skip_drop': 0.042751897992318974}. Best is trial 106 with value: 0.7729210244544766.\u001b[0m\n",
      "\u001b[32m[I 2022-07-07 17:22:32,108]\u001b[0m Trial 143 finished with value: 1.098502758191897 and parameters: {'num_round': 2000, 'booster': 'dart', 'lambda': 4.02294602661843e-07, 'alpha': 0.01888127654131026, 'subsample': 0.895578704858783, 'colsample_bytree': 0.2531820699806269, 'max_depth': 4, 'min_child_weight': 10, 'eta': 0.9513426058646318, 'gamma': 0.011409680983737626, 'grow_policy': 'lossguide', 'sample_type': 'uniform', 'normalize_type': 'tree', 'rate_drop': 0.0025509968599622284, 'skip_drop': 0.04315791819485856}. Best is trial 106 with value: 0.7729210244544766.\u001b[0m\n",
      "\u001b[32m[I 2022-07-07 17:22:32,045]\u001b[0m Trial 144 finished with value: 1.853012260710023 and parameters: {'num_round': 2000, 'booster': 'dart', 'lambda': 0.00011725256916020187, 'alpha': 0.018419954165716925, 'subsample': 0.8259818706040116, 'colsample_bytree': 0.29388609369687857, 'max_depth': 4, 'min_child_weight': 10, 'eta': 0.8895515240402665, 'gamma': 0.010306491136296917, 'grow_policy': 'lossguide', 'sample_type': 'uniform', 'normalize_type': 'tree', 'rate_drop': 0.0033604178826478624, 'skip_drop': 0.04302540390860939}. Best is trial 106 with value: 0.7729210244544766.\u001b[0m\n",
      "\u001b[32m[I 2022-07-07 17:23:17,373]\u001b[0m Trial 146 finished with value: 1.0813610997746035 and parameters: {'num_round': 1200, 'booster': 'dart', 'lambda': 9.745078398074452e-08, 'alpha': 0.031502515910277216, 'subsample': 0.6220877670356642, 'colsample_bytree': 0.2282593531503357, 'max_depth': 3, 'min_child_weight': 6, 'eta': 0.535934584487349, 'gamma': 0.001785076268935505, 'grow_policy': 'lossguide', 'sample_type': 'uniform', 'normalize_type': 'tree', 'rate_drop': 0.009239096473956196, 'skip_drop': 3.393955256657191e-06}. Best is trial 106 with value: 0.7729210244544766.\u001b[0m\n",
      "\u001b[32m[I 2022-07-07 17:23:20,947]\u001b[0m Trial 147 finished with value: 1.0805877624447493 and parameters: {'num_round': 1200, 'booster': 'dart', 'lambda': 1.329787044360644e-07, 'alpha': 0.027632176446805615, 'subsample': 0.6232320543660552, 'colsample_bytree': 0.9624735400955202, 'max_depth': 3, 'min_child_weight': 6, 'eta': 0.5879894252935393, 'gamma': 0.007878821716159423, 'grow_policy': 'lossguide', 'sample_type': 'uniform', 'normalize_type': 'tree', 'rate_drop': 0.01084440231008067, 'skip_drop': 5.379197264818923e-07}. Best is trial 106 with value: 0.7729210244544766.\u001b[0m\n",
      "\u001b[32m[I 2022-07-07 17:23:21,849]\u001b[0m Trial 148 finished with value: 1.0361789330040065 and parameters: {'num_round': 1200, 'booster': 'dart', 'lambda': 7.201779595950757e-08, 'alpha': 0.03055721554125745, 'subsample': 0.7609128304519377, 'colsample_bytree': 0.236514601917422, 'max_depth': 3, 'min_child_weight': 6, 'eta': 0.5332418254770991, 'gamma': 0.0613213234608981, 'grow_policy': 'lossguide', 'sample_type': 'uniform', 'normalize_type': 'tree', 'rate_drop': 0.06131010766206647, 'skip_drop': 0.018218111183654687}. Best is trial 106 with value: 0.7729210244544766.\u001b[0m\n",
      "\u001b[32m[I 2022-07-07 17:23:52,420]\u001b[0m Trial 149 finished with value: 3.0368943456457793 and parameters: {'num_round': 2000, 'booster': 'dart', 'lambda': 1.762992438568268e-07, 'alpha': 0.1618646569620219, 'subsample': 0.5869406237100399, 'colsample_bytree': 0.25864467109157707, 'max_depth': 4, 'min_child_weight': 8, 'eta': 0.08518736780368763, 'gamma': 0.0008883464423746956, 'grow_policy': 'depthwise', 'sample_type': 'weighted', 'normalize_type': 'tree', 'rate_drop': 0.1648129676804868, 'skip_drop': 0.4781262416917187}. Best is trial 106 with value: 0.7729210244544766.\u001b[0m\n",
      "\u001b[32m[I 2022-07-07 17:24:01,279]\u001b[0m Trial 151 finished with value: 4.762019878810056 and parameters: {'num_round': 2000, 'booster': 'dart', 'lambda': 1.7636017992485623e-07, 'alpha': 0.15536942289949854, 'subsample': 0.6816851609981387, 'colsample_bytree': 0.25898436997861407, 'max_depth': 4, 'min_child_weight': 8, 'eta': 2.0633826851649634e-07, 'gamma': 0.02390895818106171, 'grow_policy': 'depthwise', 'sample_type': 'weighted', 'normalize_type': 'tree', 'rate_drop': 0.18523356986843484, 'skip_drop': 0.4642259400164101}. Best is trial 106 with value: 0.7729210244544766.\u001b[0m\n",
      "\u001b[32m[I 2022-07-07 17:24:04,345]\u001b[0m Trial 150 finished with value: 1.5607576950342228 and parameters: {'num_round': 2000, 'booster': 'dart', 'lambda': 5.314412820310635e-07, 'alpha': 0.15044039244364463, 'subsample': 0.6484963401433622, 'colsample_bytree': 0.34214276612497174, 'max_depth': 4, 'min_child_weight': 3, 'eta': 0.22253702367703632, 'gamma': 0.02426278798159284, 'grow_policy': 'depthwise', 'sample_type': 'weighted', 'normalize_type': 'tree', 'rate_drop': 0.08550447585649926, 'skip_drop': 0.4571600023445642}. Best is trial 106 with value: 0.7729210244544766.\u001b[0m\n",
      "\u001b[32m[I 2022-07-07 17:24:28,177]\u001b[0m Trial 152 finished with value: 1.5805765299759422 and parameters: {'num_round': 1000, 'booster': 'dart', 'lambda': 6.464129528664568e-08, 'alpha': 0.009026663860185373, 'subsample': 0.7587087620803973, 'colsample_bytree': 0.22758621872642426, 'max_depth': 3, 'min_child_weight': 6, 'eta': 0.22543852828511313, 'gamma': 0.0698088535524543, 'grow_policy': 'lossguide', 'sample_type': 'uniform', 'normalize_type': 'tree', 'rate_drop': 0.05220071373508462, 'skip_drop': 0.017794421881210415}. Best is trial 106 with value: 0.7729210244544766.\u001b[0m\n",
      "\u001b[32m[I 2022-07-07 17:24:31,943]\u001b[0m Trial 154 finished with value: 1.5905251249727714 and parameters: {'num_round': 1000, 'booster': 'dart', 'lambda': 5.979922662259116e-08, 'alpha': 0.3122043779991827, 'subsample': 0.7751595591878873, 'colsample_bytree': 0.22989700101543217, 'max_depth': 2, 'min_child_weight': 6, 'eta': 0.3434057538408657, 'gamma': 0.06300690317587948, 'grow_policy': 'lossguide', 'sample_type': 'uniform', 'normalize_type': 'tree', 'rate_drop': 0.07058472119808634, 'skip_drop': 0.01572222921771216}. Best is trial 106 with value: 0.7729210244544766.\u001b[0m\n",
      "\u001b[32m[I 2022-07-07 17:24:37,808]\u001b[0m Trial 153 finished with value: 1.4692348890883073 and parameters: {'num_round': 1000, 'booster': 'dart', 'lambda': 5.8904568399910544e-08, 'alpha': 0.008270049089919443, 'subsample': 0.7762311420449097, 'colsample_bytree': 0.2001395251171909, 'max_depth': 3, 'min_child_weight': 6, 'eta': 0.30434699960229844, 'gamma': 0.05660192577169651, 'grow_policy': 'lossguide', 'sample_type': 'uniform', 'normalize_type': 'tree', 'rate_drop': 0.049446794468311225, 'skip_drop': 0.012949672209942692}. Best is trial 106 with value: 0.7729210244544766.\u001b[0m\n",
      "\u001b[32m[I 2022-07-07 17:25:20,892]\u001b[0m Trial 155 finished with value: 1.5228519149648876 and parameters: {'num_round': 2000, 'booster': 'dart', 'lambda': 2.8490814622127572e-08, 'alpha': 1.1213614761150751e-05, 'subsample': 0.7297477143360951, 'colsample_bytree': 0.27912435023969034, 'max_depth': 4, 'min_child_weight': 7, 'eta': 0.5346730639002562, 'gamma': 0.04036913845174008, 'grow_policy': 'lossguide', 'sample_type': 'uniform', 'normalize_type': 'tree', 'rate_drop': 5.831277508873522e-05, 'skip_drop': 0.0058261147712570065}. Best is trial 106 with value: 0.7729210244544766.\u001b[0m\n",
      "\u001b[32m[I 2022-07-07 17:25:35,392]\u001b[0m Trial 156 finished with value: 1.127372747182518 and parameters: {'num_round': 1200, 'booster': 'dart', 'lambda': 1.3805322835490265e-06, 'alpha': 4.133772799141447e-06, 'subsample': 0.7432962992025458, 'colsample_bytree': 0.3011393903022641, 'max_depth': 4, 'min_child_weight': 7, 'eta': 0.5165382961633437, 'gamma': 0.034609257621663274, 'grow_policy': 'lossguide', 'sample_type': 'uniform', 'normalize_type': 'tree', 'rate_drop': 0.12879927468462543, 'skip_drop': 0.006582067748938715}. Best is trial 106 with value: 0.7729210244544766.\u001b[0m\n",
      "\u001b[32m[I 2022-07-07 17:25:40,409]\u001b[0m Trial 157 finished with value: 1.1143004915008967 and parameters: {'num_round': 1200, 'booster': 'dart', 'lambda': 1.3249269349180472e-06, 'alpha': 0.05986105156231026, 'subsample': 0.8763278731058177, 'colsample_bytree': 0.27910596677966915, 'max_depth': 4, 'min_child_weight': 7, 'eta': 0.5102712915656946, 'gamma': 0.034913945742012564, 'grow_policy': 'lossguide', 'sample_type': 'uniform', 'normalize_type': 'tree', 'rate_drop': 0.12623079254505756, 'skip_drop': 0.7517237906477908}. Best is trial 106 with value: 0.7729210244544766.\u001b[0m\n"
     ]
    },
    {
     "name": "stderr",
     "output_type": "stream",
     "text": [
      "\u001b[32m[I 2022-07-07 17:26:02,869]\u001b[0m Trial 159 finished with value: 2.048116957147524 and parameters: {'num_round': 1800, 'booster': 'gblinear', 'lambda': 9.13268574273984e-08, 'alpha': 0.028987539736236998, 'subsample': 0.707720479393189, 'colsample_bytree': 0.37051137024658637}. Best is trial 106 with value: 0.7729210244544766.\u001b[0m\n",
      "\u001b[32m[I 2022-07-07 17:26:04,866]\u001b[0m Trial 160 finished with value: 1.860264137527366 and parameters: {'num_round': 1800, 'booster': 'gblinear', 'lambda': 3.928619566890204e-08, 'alpha': 0.02949847997993717, 'subsample': 0.7037049362090005, 'colsample_bytree': 0.40886628773248435}. Best is trial 106 with value: 0.7729210244544766.\u001b[0m\n",
      "\u001b[32m[I 2022-07-07 17:26:09,631]\u001b[0m Trial 158 finished with value: 0.9473709440505679 and parameters: {'num_round': 1800, 'booster': 'dart', 'lambda': 2.940363680967826e-07, 'alpha': 0.02752516867990664, 'subsample': 0.851698707233464, 'colsample_bytree': 0.3748799020165568, 'max_depth': 2, 'min_child_weight': 10, 'eta': 0.6984984988185665, 'gamma': 0.015329357918601657, 'grow_policy': 'lossguide', 'sample_type': 'uniform', 'normalize_type': 'tree', 'rate_drop': 0.031041524343800923, 'skip_drop': 0.19463885106598405}. Best is trial 106 with value: 0.7729210244544766.\u001b[0m\n",
      "\u001b[32m[I 2022-07-07 17:26:35,093]\u001b[0m Trial 161 finished with value: 0.885460094108648 and parameters: {'num_round': 1800, 'booster': 'dart', 'lambda': 3.366717739772084e-07, 'alpha': 0.07080243264442884, 'subsample': 0.8490792657982544, 'colsample_bytree': 0.43723907107673093, 'max_depth': 2, 'min_child_weight': 10, 'eta': 0.6637913842565344, 'gamma': 0.017916002238447516, 'grow_policy': 'lossguide', 'sample_type': 'uniform', 'normalize_type': 'tree', 'rate_drop': 1.980808150058039e-08, 'skip_drop': 0.2056684159119357}. Best is trial 106 with value: 0.7729210244544766.\u001b[0m\n",
      "\u001b[32m[I 2022-07-07 17:26:37,378]\u001b[0m Trial 162 finished with value: 1.2830493492756134 and parameters: {'num_round': 1800, 'booster': 'dart', 'lambda': 2.763051270334998e-07, 'alpha': 0.014682560240973913, 'subsample': 0.8513202163387197, 'colsample_bytree': 0.24120573849129928, 'max_depth': 2, 'min_child_weight': 10, 'eta': 0.726999874021019, 'gamma': 0.015502004289717878, 'grow_policy': 'lossguide', 'sample_type': 'uniform', 'normalize_type': 'tree', 'rate_drop': 0.03231013464653911, 'skip_drop': 0.17483433892712028}. Best is trial 106 with value: 0.7729210244544766.\u001b[0m\n",
      "\u001b[32m[I 2022-07-07 17:26:38,618]\u001b[0m Trial 163 finished with value: 1.948949456725679 and parameters: {'num_round': 1800, 'booster': 'dart', 'lambda': 2.7595935944676075e-07, 'alpha': 0.050611416650200636, 'subsample': 0.8668498235889548, 'colsample_bytree': 0.44103351811822666, 'max_depth': 2, 'min_child_weight': 10, 'eta': 0.9999674662401262, 'gamma': 0.018692431195949377, 'grow_policy': 'lossguide', 'sample_type': 'uniform', 'normalize_type': 'tree', 'rate_drop': 0.028312915134538208, 'skip_drop': 0.18274888023737335}. Best is trial 106 with value: 0.7729210244544766.\u001b[0m\n",
      "\u001b[32m[I 2022-07-07 17:27:06,308]\u001b[0m Trial 164 finished with value: 1.2319805073904013 and parameters: {'num_round': 1800, 'booster': 'dart', 'lambda': 4.991806647800993e-07, 'alpha': 6.839014457343451e-08, 'subsample': 0.8277987573209116, 'colsample_bytree': 0.49268780953011654, 'max_depth': 2, 'min_child_weight': 10, 'eta': 0.31475455234545585, 'gamma': 0.00861183524266779, 'grow_policy': 'lossguide', 'sample_type': 'uniform', 'normalize_type': 'tree', 'rate_drop': 2.8655366924164755e-08, 'skip_drop': 0.2957894955201761}. Best is trial 106 with value: 0.7729210244544766.\u001b[0m\n",
      "\u001b[32m[I 2022-07-07 17:27:08,672]\u001b[0m Trial 166 finished with value: 1.5111914389039713 and parameters: {'num_round': 1800, 'booster': 'dart', 'lambda': 5.102163480871706e-07, 'alpha': 0.1044694469853973, 'subsample': 0.8047116511312011, 'colsample_bytree': 0.4589102396988719, 'max_depth': 2, 'min_child_weight': 10, 'eta': 0.3242234649153086, 'gamma': 0.008219341649144762, 'grow_policy': 'lossguide', 'sample_type': 'uniform', 'normalize_type': 'tree', 'rate_drop': 2.1681303520370732e-08, 'skip_drop': 0.3023305590790714}. Best is trial 106 with value: 0.7729210244544766.\u001b[0m\n",
      "\u001b[32m[I 2022-07-07 17:27:09,880]\u001b[0m Trial 165 finished with value: 1.0388401660935351 and parameters: {'num_round': 1800, 'booster': 'dart', 'lambda': 4.816624235193232e-07, 'alpha': 0.07090776761044423, 'subsample': 0.8020499335732685, 'colsample_bytree': 0.4515041571837965, 'max_depth': 2, 'min_child_weight': 10, 'eta': 0.3351908463284976, 'gamma': 0.007882473734236159, 'grow_policy': 'lossguide', 'sample_type': 'uniform', 'normalize_type': 'tree', 'rate_drop': 5.36162553355722e-07, 'skip_drop': 0.27992000882282014}. Best is trial 106 with value: 0.7729210244544766.\u001b[0m\n",
      "\u001b[32m[I 2022-07-07 17:27:36,963]\u001b[0m Trial 167 finished with value: 1.4039067728359516 and parameters: {'num_round': 2000, 'booster': 'dart', 'lambda': 3.079309869260407e-06, 'alpha': 0.0003652007365000847, 'subsample': 0.8510389069335066, 'colsample_bytree': 0.41094714508077385, 'max_depth': 2, 'min_child_weight': 10, 'eta': 0.19950684608247493, 'gamma': 0.004180356187803951, 'grow_policy': 'lossguide', 'sample_type': 'uniform', 'normalize_type': 'tree', 'rate_drop': 0.24979910488138565, 'skip_drop': 0.12736715497727974}. Best is trial 106 with value: 0.7729210244544766.\u001b[0m\n",
      "\u001b[32m[I 2022-07-07 17:27:39,271]\u001b[0m Trial 168 finished with value: 1.690584559346378 and parameters: {'num_round': 2000, 'booster': 'dart', 'lambda': 9.777054752109229e-07, 'alpha': 0.4665653295048747, 'subsample': 0.8510776009959866, 'colsample_bytree': 0.41272627138452544, 'max_depth': 2, 'min_child_weight': 10, 'eta': 0.19693554400574909, 'gamma': 0.004161203827430077, 'grow_policy': 'lossguide', 'sample_type': 'uniform', 'normalize_type': 'tree', 'rate_drop': 0.0010743517112462907, 'skip_drop': 0.0002187213349852849}. Best is trial 106 with value: 0.7729210244544766.\u001b[0m\n",
      "\u001b[32m[I 2022-07-07 17:27:40,259]\u001b[0m Trial 169 finished with value: 1.2213406173018306 and parameters: {'num_round': 2000, 'booster': 'dart', 'lambda': 3.695438583736573e-06, 'alpha': 2.7809533015524037e-07, 'subsample': 0.918932281006169, 'colsample_bytree': 0.41300614013237946, 'max_depth': 2, 'min_child_weight': 10, 'eta': 0.19472672585508272, 'gamma': 0.004284496360804004, 'grow_policy': 'lossguide', 'sample_type': 'uniform', 'normalize_type': 'tree', 'rate_drop': 0.013145474607338855, 'skip_drop': 0.00018945104465614173}. Best is trial 106 with value: 0.7729210244544766.\u001b[0m\n",
      "\u001b[32m[I 2022-07-07 17:28:06,950]\u001b[0m Trial 171 finished with value: 3.8282895889421886 and parameters: {'num_round': 1800, 'booster': 'dart', 'lambda': 0.0011350259905454473, 'alpha': 0.06836393319892803, 'subsample': 0.33421141729265874, 'colsample_bytree': 0.3228612680497754, 'max_depth': 4, 'min_child_weight': 9, 'eta': 2.5844387733208837e-06, 'gamma': 0.016208422095685942, 'grow_policy': 'lossguide', 'sample_type': 'uniform', 'normalize_type': 'forest', 'rate_drop': 0.00685169199518696, 'skip_drop': 0.612748763446636}. Best is trial 106 with value: 0.7729210244544766.\u001b[0m\n",
      "\u001b[32m[I 2022-07-07 17:28:20,087]\u001b[0m Trial 172 finished with value: 1.615107445401177 and parameters: {'num_round': 1800, 'booster': 'dart', 'lambda': 2.087439685899995e-06, 'alpha': 0.04595971664412484, 'subsample': 0.6698434139126584, 'colsample_bytree': 0.37937741001270464, 'max_depth': 4, 'min_child_weight': 9, 'eta': 0.11727071585995699, 'gamma': 0.013788274696675047, 'grow_policy': 'lossguide', 'sample_type': 'uniform', 'normalize_type': 'forest', 'rate_drop': 2.052015463183131e-06, 'skip_drop': 1.0050622819896561e-05}. Best is trial 106 with value: 0.7729210244544766.\u001b[0m\n",
      "\u001b[32m[I 2022-07-07 17:28:23,788]\u001b[0m Trial 170 finished with value: 1.203668995210493 and parameters: {'num_round': 1800, 'booster': 'dart', 'lambda': 2.0823369909647715e-06, 'alpha': 0.00014638579141170382, 'subsample': 0.8827500581295152, 'colsample_bytree': 0.33934083196010867, 'max_depth': 4, 'min_child_weight': 9, 'eta': 0.709803650649545, 'gamma': 0.01624323594089689, 'grow_policy': 'lossguide', 'sample_type': 'uniform', 'normalize_type': 'forest', 'rate_drop': 0.00041314740854508285, 'skip_drop': 1.0155028624332405e-05}. Best is trial 106 with value: 0.7729210244544766.\u001b[0m\n"
     ]
    },
    {
     "name": "stderr",
     "output_type": "stream",
     "text": [
      "\u001b[32m[I 2022-07-07 17:28:46,634]\u001b[0m Trial 173 finished with value: 0.8965075692077129 and parameters: {'num_round': 2000, 'booster': 'dart', 'lambda': 1.1797143300861065e-07, 'alpha': 0.03309996897703381, 'subsample': 0.8742891315484451, 'colsample_bytree': 0.37857157903171434, 'max_depth': 4, 'min_child_weight': 10, 'eta': 0.654243614700289, 'gamma': 0.012960914614934609, 'grow_policy': 'lossguide', 'sample_type': 'uniform', 'normalize_type': 'tree', 'rate_drop': 0.08844290281796843, 'skip_drop': 0.9444894725473495}. Best is trial 106 with value: 0.7729210244544766.\u001b[0m\n",
      "\u001b[32m[I 2022-07-07 17:29:00,119]\u001b[0m Trial 175 finished with value: 1.3435422543552495 and parameters: {'num_round': 2000, 'booster': 'dart', 'lambda': 1.3485283577832868e-07, 'alpha': 0.03549020956458979, 'subsample': 0.6621119015274146, 'colsample_bytree': 0.3564381288502467, 'max_depth': 4, 'min_child_weight': 10, 'eta': 0.45529561632919896, 'gamma': 0.10390373390133761, 'grow_policy': 'lossguide', 'sample_type': 'uniform', 'normalize_type': 'tree', 'rate_drop': 0.08413317855596136, 'skip_drop': 0.0019959460487137762}. Best is trial 106 with value: 0.7729210244544766.\u001b[0m\n",
      "\u001b[32m[I 2022-07-07 17:29:02,912]\u001b[0m Trial 174 finished with value: 1.224099050353783 and parameters: {'num_round': 2000, 'booster': 'dart', 'lambda': 1.5625148954241072e-07, 'alpha': 0.022427637387296473, 'subsample': 0.8237683343356182, 'colsample_bytree': 0.38742872850578003, 'max_depth': 4, 'min_child_weight': 10, 'eta': 0.4816513478241598, 'gamma': 0.002297068865190708, 'grow_policy': 'lossguide', 'sample_type': 'uniform', 'normalize_type': 'tree', 'rate_drop': 0.049803630613618234, 'skip_drop': 0.0022273951797367074}. Best is trial 106 with value: 0.7729210244544766.\u001b[0m\n",
      "\u001b[32m[I 2022-07-07 17:29:31,510]\u001b[0m Trial 176 finished with value: 0.9323927589184767 and parameters: {'num_round': 2000, 'booster': 'dart', 'lambda': 1.4586645829037527e-07, 'alpha': 0.040936810636643055, 'subsample': 0.8742540713060174, 'colsample_bytree': 0.378536504372242, 'max_depth': 4, 'min_child_weight': 10, 'eta': 0.6991217269155791, 'gamma': 0.0023604649917271523, 'grow_policy': 'lossguide', 'sample_type': 'uniform', 'normalize_type': 'tree', 'rate_drop': 0.08645289700612457, 'skip_drop': 0.9126183427320989}. Best is trial 106 with value: 0.7729210244544766.\u001b[0m\n",
      "\u001b[32m[I 2022-07-07 17:29:46,307]\u001b[0m Trial 177 finished with value: 1.3573515409339543 and parameters: {'num_round': 2000, 'booster': 'dart', 'lambda': 3.0562926653441675e-07, 'alpha': 0.11576779133686652, 'subsample': 0.8736828357779788, 'colsample_bytree': 0.3693164432822189, 'max_depth': 4, 'min_child_weight': 10, 'eta': 0.7236032350319833, 'gamma': 0.00651742558184459, 'grow_policy': 'lossguide', 'sample_type': 'uniform', 'normalize_type': 'tree', 'rate_drop': 0.9591569561469111, 'skip_drop': 0.8067537741577079}. Best is trial 106 with value: 0.7729210244544766.\u001b[0m\n",
      "\u001b[32m[I 2022-07-07 17:29:51,559]\u001b[0m Trial 178 finished with value: 1.1868928061636979 and parameters: {'num_round': 2000, 'booster': 'dart', 'lambda': 3.6088791642220967e-07, 'alpha': 1.0485853959645124e-08, 'subsample': 0.9029609104396669, 'colsample_bytree': 0.4389003530147742, 'max_depth': 4, 'min_child_weight': 10, 'eta': 0.6591546772158524, 'gamma': 0.006509585756472589, 'grow_policy': 'lossguide', 'sample_type': 'uniform', 'normalize_type': 'tree', 'rate_drop': 0.10540532906784941, 'skip_drop': 0.9153942858963167}. Best is trial 106 with value: 0.7729210244544766.\u001b[0m\n",
      "\u001b[32m[I 2022-07-07 17:30:18,842]\u001b[0m Trial 179 finished with value: 0.9825270918358474 and parameters: {'num_round': 2000, 'booster': 'dart', 'lambda': 3.359374405433759e-07, 'alpha': 0.11641182672224251, 'subsample': 0.9064766616824473, 'colsample_bytree': 0.43491653944118913, 'max_depth': 4, 'min_child_weight': 10, 'eta': 0.705918486596519, 'gamma': 0.0016228225394608927, 'grow_policy': 'lossguide', 'sample_type': 'uniform', 'normalize_type': 'tree', 'rate_drop': 0.08575712659782266, 'skip_drop': 0.5672014071957215}. Best is trial 106 with value: 0.7729210244544766.\u001b[0m\n",
      "\u001b[32m[I 2022-07-07 17:30:36,716]\u001b[0m Trial 180 finished with value: 1.2585104628796306 and parameters: {'num_round': 2000, 'booster': 'dart', 'lambda': 0.0065285535220802535, 'alpha': 0.013252080530374563, 'subsample': 0.8372070344004785, 'colsample_bytree': 0.42861331679678016, 'max_depth': 4, 'min_child_weight': 10, 'eta': 0.37850148502361325, 'gamma': 0.0014581167904216248, 'grow_policy': 'lossguide', 'sample_type': 'uniform', 'normalize_type': 'tree', 'rate_drop': 0.29403194794524845, 'skip_drop': 0.37958123992598536}. Best is trial 106 with value: 0.7729210244544766.\u001b[0m\n",
      "\u001b[32m[I 2022-07-07 17:30:43,431]\u001b[0m Trial 181 finished with value: 1.0217991698652198 and parameters: {'num_round': 2000, 'booster': 'dart', 'lambda': 0.011000071190477903, 'alpha': 0.013502383697446933, 'subsample': 0.8625153207467037, 'colsample_bytree': 0.3957269994132889, 'max_depth': 4, 'min_child_weight': 10, 'eta': 0.3599448598997855, 'gamma': 0.001446436191191409, 'grow_policy': 'lossguide', 'sample_type': 'uniform', 'normalize_type': 'tree', 'rate_drop': 0.24819566021962303, 'skip_drop': 0.3830827756074132}. Best is trial 106 with value: 0.7729210244544766.\u001b[0m\n",
      "\u001b[32m[I 2022-07-07 17:31:27,073]\u001b[0m Trial 182 finished with value: 1.644673933196382 and parameters: {'num_round': 2000, 'booster': 'dart', 'lambda': 2.2667567396433916e-07, 'alpha': 0.0697293769023568, 'subsample': 0.8888514154478616, 'colsample_bytree': 0.39699731342402994, 'max_depth': 4, 'min_child_weight': 10, 'eta': 0.9903615854487643, 'gamma': 0.002287924512164702, 'grow_policy': 'lossguide', 'sample_type': 'uniform', 'normalize_type': 'tree', 'rate_drop': 0.19253182593688015, 'skip_drop': 0.21477861545151397}. Best is trial 106 with value: 0.7729210244544766.\u001b[0m\n",
      "\u001b[32m[I 2022-07-07 17:31:28,479]\u001b[0m Trial 183 finished with value: 0.8800526846178667 and parameters: {'num_round': 2000, 'booster': 'dart', 'lambda': 2.0934403482394367e-07, 'alpha': 0.07454348133904766, 'subsample': 0.8890300460220512, 'colsample_bytree': 0.38227161890042227, 'max_depth': 4, 'min_child_weight': 10, 'eta': 0.2705133035215398, 'gamma': 0.0022611846001493194, 'grow_policy': 'lossguide', 'sample_type': 'uniform', 'normalize_type': 'tree', 'rate_drop': 0.08437750515367115, 'skip_drop': 0.2203473073040098}. Best is trial 106 with value: 0.7729210244544766.\u001b[0m\n",
      "\u001b[32m[I 2022-07-07 17:31:40,792]\u001b[0m Trial 184 finished with value: 1.5459362191442105 and parameters: {'num_round': 2000, 'booster': 'dart', 'lambda': 1.9433053101465723e-07, 'alpha': 0.077908575065641, 'subsample': 0.8935743473139512, 'colsample_bytree': 0.3838734876015431, 'max_depth': 4, 'min_child_weight': 10, 'eta': 0.671752291248688, 'gamma': 0.0006439277598487873, 'grow_policy': 'lossguide', 'sample_type': 'uniform', 'normalize_type': 'tree', 'rate_drop': 0.08584333671358836, 'skip_drop': 0.21902271476856888}. Best is trial 106 with value: 0.7729210244544766.\u001b[0m\n",
      "\u001b[32m[I 2022-07-07 17:33:23,453]\u001b[0m Trial 187 finished with value: 1.102330824000514 and parameters: {'num_round': 2000, 'booster': 'dart', 'lambda': 1.1295603849702295e-07, 'alpha': 0.9303423746002387, 'subsample': 0.9245398046468524, 'colsample_bytree': 0.3525220346564272, 'max_depth': 4, 'min_child_weight': 10, 'eta': 0.23958351515232784, 'gamma': 0.0010904951124614587, 'grow_policy': 'lossguide', 'sample_type': 'uniform', 'normalize_type': 'tree', 'rate_drop': 0.03805858907148834, 'skip_drop': 0.5696780473063444}. Best is trial 106 with value: 0.7729210244544766.\u001b[0m\n",
      "\u001b[32m[I 2022-07-07 17:33:23,422]\u001b[0m Trial 185 finished with value: 0.9414242786770387 and parameters: {'num_round': 2000, 'booster': 'dart', 'lambda': 1.0036237934645537e-07, 'alpha': 0.12690209746211703, 'subsample': 0.9040657740527226, 'colsample_bytree': 0.3476925424998413, 'max_depth': 4, 'min_child_weight': 10, 'eta': 0.2533421283319322, 'gamma': 0.003142883848114255, 'grow_policy': 'lossguide', 'sample_type': 'uniform', 'normalize_type': 'tree', 'rate_drop': 0.03289243471798208, 'skip_drop': 0.9842378624615642}. Best is trial 106 with value: 0.7729210244544766.\u001b[0m\n",
      "\u001b[32m[I 2022-07-07 17:33:23,422]\u001b[0m Trial 186 finished with value: 1.2416180489168533 and parameters: {'num_round': 2000, 'booster': 'dart', 'lambda': 9.612803577710168e-08, 'alpha': 0.2008311545446347, 'subsample': 0.9153628132062074, 'colsample_bytree': 0.9343303185622343, 'max_depth': 4, 'min_child_weight': 10, 'eta': 0.26123491807347127, 'gamma': 8.597034172618096e-07, 'grow_policy': 'lossguide', 'sample_type': 'uniform', 'normalize_type': 'tree', 'rate_drop': 0.03439428554838771, 'skip_drop': 0.11523650043453272}. Best is trial 106 with value: 0.7729210244544766.\u001b[0m\n"
     ]
    }
   ],
   "source": [
    "study = optuna.create_study(direction=\"minimize\")\n",
    "study.optimize(objective, n_trials=300, timeout=None, n_jobs=3)\n",
    "\n",
    "print(\"Number of finished trials: \", len(study.trials))\n",
    "print(f\"Best trial: {study.best_trial}\") \n",
    "\n",
    "print(f\"  Value: {trial.value}\")\n",
    "print(\"  Params: \")\n",
    "for key, value in trial.params.items():\n",
    "    print(\"    {}: {}\".format(key, value))"
   ]
  },
  {
   "cell_type": "code",
   "execution_count": null,
   "id": "7e17382c",
   "metadata": {},
   "outputs": [],
   "source": [
    "%%time\n",
    "xgb_reg = xgb.XGBRegressor()\n",
    "xgb_reg_params = {\n",
    "    'n_estimators':[450, 1000, 2000],\n",
    "    'booster':['gblinear'],\n",
    "    'max_depth': [2,4],\n",
    "    'learning_rate':[0.0005, 0.0001, 0.00005],\n",
    "    'eval_metric': ['rmse'],\n",
    "     'verbosity':[2]\n",
    "}\n",
    "\n",
    "xgb_grid_search = GridSearchCV(estimator=xgb_reg, \n",
    "                               param_grid=xgb_reg_params,\n",
    "                               scoring='neg_mean_squared_error',\n",
    "                               cv=sss,\n",
    "                               n_jobs=3).fit(X_train2, y_train2)"
   ]
  }
 ],
 "metadata": {
  "kernelspec": {
   "display_name": "Python 3 (ipykernel)",
   "language": "python",
   "name": "python3"
  },
  "language_info": {
   "codemirror_mode": {
    "name": "ipython",
    "version": 3
   },
   "file_extension": ".py",
   "mimetype": "text/x-python",
   "name": "python",
   "nbconvert_exporter": "python",
   "pygments_lexer": "ipython3",
   "version": "3.9.7"
  }
 },
 "nbformat": 4,
 "nbformat_minor": 5
}
