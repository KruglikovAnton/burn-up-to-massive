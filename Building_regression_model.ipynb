{
 "cells": [
  {
   "cell_type": "markdown",
   "id": "e21c3398",
   "metadata": {},
   "source": [
    "## Предсказание запаса реактивности на основе изотопных составов топливных зон"
   ]
  },
  {
   "cell_type": "code",
   "execution_count": 211,
   "id": "1dd4cba2",
   "metadata": {},
   "outputs": [],
   "source": [
    "# Импоортируем библиотеки\n",
    "import pandas as pd\n",
    "from matplotlib import pyplot as plt\n",
    "import numpy as np\n",
    "import seaborn as sns\n",
    "import plotly.express as px\n",
    "from sklearn.model_selection import train_test_split\n",
    "from sklearn.experimental import enable_halving_search_cv\n",
    "from sklearn.model_selection import HalvingGridSearchCV, KFold\n",
    "from sklearn.linear_model import LinearRegression, SGDRegressor\n",
    "from sklearn.metrics import mean_absolute_error, mean_squared_error, mean_absolute_error\n",
    "from sklearn.svm import LinearSVR, SVR\n",
    "import tensorflow as tf"
   ]
  },
  {
   "cell_type": "code",
   "execution_count": 212,
   "id": "37f2b55e",
   "metadata": {},
   "outputs": [],
   "source": [
    "# Считываем подготовленный csv\n",
    "main_df = pd.read_csv('final.csv', sep=',', index_col=0 )"
   ]
  },
  {
   "cell_type": "code",
   "execution_count": 213,
   "id": "83c07f6c",
   "metadata": {},
   "outputs": [
    {
     "data": {
      "text/plain": [
       "(91, 172802)"
      ]
     },
     "execution_count": 213,
     "metadata": {},
     "output_type": "execute_result"
    }
   ],
   "source": [
    "#Посмотрим на кол-во объектов и признаков\n",
    "main_df.shape"
   ]
  },
  {
   "cell_type": "markdown",
   "id": "ff62a986",
   "metadata": {},
   "source": [
    "Итого 91 различный вариант, помиотрим хватит ли такого кол-ва"
   ]
  },
  {
   "cell_type": "code",
   "execution_count": 214,
   "id": "4c4966d5",
   "metadata": {},
   "outputs": [
    {
     "data": {
      "image/png": "[encoded data removed]",
      "text/plain": [
       "<Figure size 432x288 with 1 Axes>"
      ]
     },
     "metadata": {
      "needs_background": "light"
     },
     "output_type": "display_data"
    }
   ],
   "source": [
    "# Построим разброс значений целевой переменной\n",
    "plt.hist(main_df.reactivity_margin, bins=20, linewidth=0.5, edgecolor=\"black\")\n",
    "plt.xlabel('reactivity margin, %')\n",
    "plt.ylabel('count')\n",
    "plt.xticks(list(range(11)))\n",
    "plt.show()"
   ]
  },
  {
   "cell_type": "markdown",
   "id": "aeba6e8a",
   "metadata": {},
   "source": [
    "В целом явно выпадающих значений нет, большая часть значений лежит от 3 до 5%, что соответствуеют типичному циклу работы реактора"
   ]
  },
  {
   "cell_type": "code",
   "execution_count": 215,
   "id": "b330a4f5",
   "metadata": {},
   "outputs": [
    {
     "data": {
      "text/plain": [
       "((63, 172800), (28, 172800))"
      ]
     },
     "execution_count": 215,
     "metadata": {},
     "output_type": "execute_result"
    }
   ],
   "source": [
    "# Поскольку реактивность зависит только от Кэф, удаляем данный столбец\n",
    "main_df.drop(columns=['Keff'], inplace=True)\n",
    "target = main_df.pop('reactivity_margin')\n",
    "# Разделяем данные на обучающие и тестовые\n",
    "X_train, X_test, y_train, y_test = train_test_split(main_df, target, test_size=0.3, random_state=7)\n",
    "# Проверяем раззмерности обуч. и тест. наборов\n",
    "X_train.shape, X_test.shape"
   ]
  },
  {
   "cell_type": "markdown",
   "id": "79f7d7c4",
   "metadata": {},
   "source": [
    "## Sklearn модели"
   ]
  },
  {
   "cell_type": "code",
   "execution_count": 216,
   "id": "365de589",
   "metadata": {},
   "outputs": [],
   "source": [
    "# Для начала протестируем самую простую модель наименьших квадратов, а также три модели посложнее, линейную модель,\n",
    "# которая минимизирует лосс с помощью стохастического градиентного спуска, линейную модель опорных векторов и модель опорных\n",
    "# векторов с ядерным трюком. Для более сложных моделей будем подбирать оптимальный параметры с помощью HalvingGridSearch\n",
    "lr = LinearRegression(n_jobs=-1)\n",
    "\n",
    "sgd = SGDRegressor()\n",
    "\n",
    "sgd_params = {\n",
    "    'penalty':['l2', 'elasticnet'],\n",
    "    'alpha':[0.0001, 0.001, 0.005],\n",
    "    'l1_ratio':[0.15, 0.25, 0.5, 0.65, 0.75],\n",
    "    'fit_intercept':[True],\n",
    "    'tol':[0.0005],\n",
    "    'max_iter':[50000]\n",
    "}\n",
    "\n",
    "lin_svr = LinearSVR()\n",
    "             \n",
    "lin_svr_params = {\n",
    "    'tol':[0.0005],\n",
    "    'C':[0.1, 0.5, 1, 10],\n",
    "    'max_iter':[50000]\n",
    "}\n",
    "\n",
    "svr = SVR()\n",
    "\n",
    "svr_params = {\n",
    "    'kernel':['linear', 'poly', 'rbf', 'sigmoid'],\n",
    "    'tol': [0.0005], \n",
    "    'C': np.logspace(-3,2, 6),\n",
    "    'max_iter': [-1]\n",
    "}\n"
   ]
  },
  {
   "cell_type": "code",
   "execution_count": 217,
   "id": "c8bfd532",
   "metadata": {},
   "outputs": [],
   "source": [
    "# Поскольку решается задача регрессии, то для поиска параметров можно ограничиться обычной k-блочной перекрестной проверкой\n",
    "sss = KFold(n_splits=3, shuffle=True, random_state=7)"
   ]
  },
  {
   "cell_type": "code",
   "execution_count": 218,
   "id": "48f2c1a8",
   "metadata": {},
   "outputs": [
    {
     "name": "stdout",
     "output_type": "stream",
     "text": [
      "Wall time: 4min 29s\n"
     ]
    }
   ],
   "source": [
    "%%time \n",
    "# Обучаем модели\n",
    "lr.fit(X_train, y_train)\n",
    "\n",
    "sgd_search = HalvingGridSearchCV(estimator=sgd, \n",
    "                                 param_grid=sgd_params,\n",
    "                                 scoring='r2',\n",
    "                                 cv=sss, \n",
    "                                 random_state=7,\n",
    "                                 n_jobs=-1).fit(X_train, y_train)\n",
    "\n",
    "lin_svr_search = HalvingGridSearchCV(estimator=lin_svr, \n",
    "                                     param_grid=lin_svr_params,\n",
    "                                     scoring='r2',\n",
    "                                     cv=sss, \n",
    "                                     random_state=7,\n",
    "                                     n_jobs=-1).fit(X_train, y_train)\n",
    "\n",
    "svr_search = HalvingGridSearchCV(estimator=svr, \n",
    "                                 param_grid=svr_params,\n",
    "                                 scoring='r2',\n",
    "                                 cv=sss, \n",
    "                                 random_state=7,\n",
    "                                 n_jobs=-1).fit(X_train, y_train)\n"
   ]
  },
  {
   "cell_type": "code",
   "execution_count": 219,
   "id": "e8a029e5",
   "metadata": {},
   "outputs": [
    {
     "data": {
      "text/plain": [
       "494.363415440665"
      ]
     },
     "execution_count": 219,
     "metadata": {},
     "output_type": "execute_result"
    }
   ],
   "source": [
    "#Глядя на ошибку обычной линейной модели, можно сделать вывод, что данная модель для решения задачи не подходит\n",
    "mean_absolute_error(y_test, lr.predict(X_test))"
   ]
  },
  {
   "cell_type": "code",
   "execution_count": 220,
   "id": "1bb6664d",
   "metadata": {},
   "outputs": [
    {
     "data": {
      "image/png": "[encoded data removed]",
      "text/plain": [
       "<Figure size 864x432 with 1 Axes>"
      ]
     },
     "metadata": {
      "needs_background": "light"
     },
     "output_type": "display_data"
    }
   ],
   "source": [
    "models = [sgd_search, lin_svr_search, svr_search]\n",
    "markers = ['.', '*', 'v']\n",
    "fig, ax = plt.subplots(figsize=(12,6))\n",
    "for model, marker, y_text in zip(models, markers, [11,10.3,9.6]):\n",
    "    y_pred = model.predict(X_test)\n",
    "    ax.plot(y_pred, marker, label=(model.estimator))\n",
    "    ax.text(s=f'MAE for {model.estimator}: {mean_absolute_error(y_test, y_pred): .2f}', x=3, y=y_text)\n",
    "ax.plot([x for x in range(len(y_test))], y_test, 'o', label='test')\n",
    "ax.set_ylabel('reactivity_margin, %')\n",
    "ax.set_ylim(0, 12)\n",
    "ax.legend()\n",
    "plt.show()"
   ]
  },
  {
   "cell_type": "markdown",
   "id": "b357a1bc",
   "metadata": {},
   "source": [
    "## Вывод\n",
    "Регрессионные модели способны предсказывать с довольно большой погрешностью, что может быть связано с влиянием различных ампульных устройств в отражателе, в особоенности ампулы в ячейке 6-4"
   ]
  },
  {
   "cell_type": "code",
   "execution_count": 221,
   "id": "e92095c8",
   "metadata": {},
   "outputs": [],
   "source": [
    "# в файле final_with_ampules.csv помимо изотопных составов также имеется информация о ампуле в ячейке 6-4, которая\n",
    "# уменьшает запас реактивности на порядка 2%. Это можно учесть просто вычев или прибавив данное значение, но \n",
    "# для начала можно попробовать учесть это простой индекацией наличия данной ампулы.\n",
    "main_df2 = pd.read_csv('final_with_ampules.csv', sep=',', index_col=0 )"
   ]
  },
  {
   "cell_type": "code",
   "execution_count": 222,
   "id": "ea1d62d6",
   "metadata": {},
   "outputs": [
    {
     "data": {
      "text/html": [
       "<div>\n",
       "<style scoped>\n",
       "    .dataframe tbody tr th:only-of-type {\n",
       "        vertical-align: middle;\n",
       "    }\n",
       "\n",
       "    .dataframe tbody tr th {\n",
       "        vertical-align: top;\n",
       "    }\n",
       "\n",
       "    .dataframe thead th {\n",
       "        text-align: right;\n",
       "    }\n",
       "</style>\n",
       "<table border=\"1\" class=\"dataframe\">\n",
       "  <thead>\n",
       "    <tr style=\"text-align: right;\">\n",
       "      <th></th>\n",
       "      <th>Keff</th>\n",
       "      <th>reactivity_margin</th>\n",
       "    </tr>\n",
       "    <tr>\n",
       "      <th>ampule</th>\n",
       "      <th></th>\n",
       "      <th></th>\n",
       "    </tr>\n",
       "  </thead>\n",
       "  <tbody>\n",
       "    <tr>\n",
       "      <th>0</th>\n",
       "      <td>22</td>\n",
       "      <td>4.867830</td>\n",
       "    </tr>\n",
       "    <tr>\n",
       "      <th>1</th>\n",
       "      <td>68</td>\n",
       "      <td>4.929305</td>\n",
       "    </tr>\n",
       "  </tbody>\n",
       "</table>\n",
       "</div>"
      ],
      "text/plain": [
       "        Keff  reactivity_margin\n",
       "ampule                         \n",
       "0         22           4.867830\n",
       "1         68           4.929305"
      ]
     },
     "execution_count": 222,
     "metadata": {},
     "output_type": "execute_result"
    }
   ],
   "source": [
    "#Посчитаем кол-во вариантов с ампулой и без и соответствующие запасы\n",
    "main_df2.groupby('ampule').agg({'Keff':'count', 'reactivity_margin':'mean'})"
   ]
  },
  {
   "cell_type": "code",
   "execution_count": 223,
   "id": "a34d970e",
   "metadata": {},
   "outputs": [],
   "source": [
    "main_df2.drop(columns=['Keff'], inplace=True)\n",
    "target2 = main_df2.pop('reactivity_margin')"
   ]
  },
  {
   "cell_type": "code",
   "execution_count": 224,
   "id": "88bbf860",
   "metadata": {},
   "outputs": [],
   "source": [
    "X_train2, X_test2, y_train2, y_test2 = train_test_split(main_df2, target2, test_size=0.2, random_state=7)"
   ]
  },
  {
   "cell_type": "code",
   "execution_count": 225,
   "id": "f719b9ac",
   "metadata": {},
   "outputs": [
    {
     "name": "stdout",
     "output_type": "stream",
     "text": [
      "Wall time: 5min 31s\n"
     ]
    }
   ],
   "source": [
    "%%time\n",
    "#В качестве первого шага применим аналогичные модели\n",
    "sgd_search = HalvingGridSearchCV(estimator=sgd, \n",
    "                                 param_grid=sgd_params,\n",
    "                                 scoring='r2',\n",
    "                                 cv=sss, \n",
    "                                 random_state=9,\n",
    "                                 n_jobs=-1).fit(X_train2, y_train2)\n",
    "\n",
    "lin_svr_search = HalvingGridSearchCV(estimator=lin_svr, \n",
    "                                     param_grid=lin_svr_params,\n",
    "                                     scoring='r2',\n",
    "                                     cv=sss, \n",
    "                                     random_state=9,\n",
    "                                     n_jobs=-1).fit(X_train2, y_train2)\n",
    "\n",
    "svr_search = HalvingGridSearchCV(estimator=svr, \n",
    "                                 param_grid=svr_params,\n",
    "                                 scoring='r2',\n",
    "                                 cv=sss, \n",
    "                                 random_state=9,\n",
    "                                 n_jobs=-1).fit(X_train2, y_train2)"
   ]
  },
  {
   "cell_type": "code",
   "execution_count": 226,
   "id": "bad11d31",
   "metadata": {},
   "outputs": [
    {
     "data": {
      "image/png": "[encoded data removed]",
      "text/plain": [
       "<Figure size 864x432 with 1 Axes>"
      ]
     },
     "metadata": {
      "needs_background": "light"
     },
     "output_type": "display_data"
    }
   ],
   "source": [
    "models = [sgd_search, lin_svr_search, svr_search]\n",
    "markers = ['.', '*', 'v']\n",
    "fig, ax = plt.subplots(figsize=(12,6))\n",
    "for model, marker, y_text in zip(models, markers, [11,10.3,9.6]):\n",
    "    y_pred = model.predict(X_test2)\n",
    "    ax.plot(y_pred, marker, label=(model.estimator))\n",
    "    ax.text(s=f'MAE for {model.estimator}: {mean_absolute_error(y_test2, y_pred): .2e}', x=3, y=y_text)\n",
    "ax.plot([x for x in range(len(y_test2))], y_test2, 'o', label='test')\n",
    "ax.set_ylabel('reactivity_margin, %')\n",
    "ax.set_ylim(0, 12)\n",
    "ax.legend()\n",
    "plt.show()"
   ]
  },
  {
   "cell_type": "markdown",
   "id": "a75ef140",
   "metadata": {},
   "source": [
    "## Вывод\n",
    "Добавив 1 признак наличия ампулы к уже имеющимся **172800**, удалось **снизить** абсолютную ошибку с **2** до **1.4** <div>\n",
    "**Наилучшей** моделью из рассмотренных оказалась **SVC**, что связано с большой нелинейностью зависимости целевой переменной от признаков"
   ]
  },
  {
   "cell_type": "markdown",
   "id": "4a0c5035",
   "metadata": {},
   "source": [
    "## Библиотека XGBoost"
   ]
  },
  {
   "cell_type": "code",
   "execution_count": null,
   "id": "7d1ffab9",
   "metadata": {},
   "outputs": [],
   "source": []
  }
 ],
 "metadata": {
  "kernelspec": {
   "display_name": "Python 3 (ipykernel)",
   "language": "python",
   "name": "python3"
  },
  "language_info": {
   "codemirror_mode": {
    "name": "ipython",
    "version": 3
   },
   "file_extension": ".py",
   "mimetype": "text/x-python",
   "name": "python",
   "nbconvert_exporter": "python",
   "pygments_lexer": "ipython3",
   "version": "3.9.7"
  }
 },
 "nbformat": 4,
 "nbformat_minor": 5
}
