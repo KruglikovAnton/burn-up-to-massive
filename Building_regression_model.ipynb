{
 "cells": [
  {
   "cell_type": "code",
   "execution_count": 38,
   "id": "d6964afc",
   "metadata": {},
   "outputs": [
    {
     "ename": "ImportError",
     "evalue": "cannot import name 'mean_absolut_error' from 'sklearn.metrics' (C:\\Users\\Anton\\anaconda3\\lib\\site-packages\\sklearn\\metrics\\__init__.py)",
     "output_type": "error",
     "traceback": [
      "\u001b[1;31m---------------------------------------------------------------------------\u001b[0m",
      "\u001b[1;31mImportError\u001b[0m                               Traceback (most recent call last)",
      "\u001b[1;32m~\\AppData\\Local\\Temp/ipykernel_10960/891849463.py\u001b[0m in \u001b[0;36m<module>\u001b[1;34m\u001b[0m\n\u001b[0;32m      5\u001b[0m \u001b[1;32mfrom\u001b[0m \u001b[0msklearn\u001b[0m\u001b[1;33m.\u001b[0m\u001b[0mmodel_selection\u001b[0m \u001b[1;32mimport\u001b[0m \u001b[0mHalvingGridSearchCV\u001b[0m\u001b[1;33m,\u001b[0m \u001b[0mKFold\u001b[0m\u001b[1;33m\u001b[0m\u001b[1;33m\u001b[0m\u001b[0m\n\u001b[0;32m      6\u001b[0m \u001b[1;32mfrom\u001b[0m \u001b[0msklearn\u001b[0m\u001b[1;33m.\u001b[0m\u001b[0mlinear_model\u001b[0m \u001b[1;32mimport\u001b[0m \u001b[0mLinearRegression\u001b[0m\u001b[1;33m,\u001b[0m \u001b[0mSGDRegressor\u001b[0m\u001b[1;33m\u001b[0m\u001b[1;33m\u001b[0m\u001b[0m\n\u001b[1;32m----> 7\u001b[1;33m \u001b[1;32mfrom\u001b[0m \u001b[0msklearn\u001b[0m\u001b[1;33m.\u001b[0m\u001b[0mmetrics\u001b[0m \u001b[1;32mimport\u001b[0m \u001b[0mmean_absolute_error\u001b[0m\u001b[1;33m,\u001b[0m \u001b[0mmean_squared_error\u001b[0m\u001b[1;33m,\u001b[0m \u001b[0mmean_absolut_error\u001b[0m\u001b[1;33m\u001b[0m\u001b[1;33m\u001b[0m\u001b[0m\n\u001b[0m\u001b[0;32m      8\u001b[0m \u001b[1;32mfrom\u001b[0m \u001b[0msklearn\u001b[0m\u001b[1;33m.\u001b[0m\u001b[0msvm\u001b[0m \u001b[1;32mimport\u001b[0m \u001b[0mLinearSVR\u001b[0m\u001b[1;33m\u001b[0m\u001b[1;33m\u001b[0m\u001b[0m\n",
      "\u001b[1;31mImportError\u001b[0m: cannot import name 'mean_absolut_error' from 'sklearn.metrics' (C:\\Users\\Anton\\anaconda3\\lib\\site-packages\\sklearn\\metrics\\__init__.py)"
     ]
    }
   ],
   "source": [
    "import pandas as pd\n",
    "from matplotlib import pyplot as plt\n",
    "from sklearn.model_selection import train_test_split\n",
    "from sklearn.experimental import enable_halving_search_cv\n",
    "from sklearn.model_selection import HalvingGridSearchCV, KFold\n",
    "from sklearn.linear_model import LinearRegression, SGDRegressor\n",
    "from sklearn.metrics import mean_absolute_error, mean_squared_error, mean_absolute_error\n",
    "from sklearn.svm import LinearSVR"
   ]
  },
  {
   "cell_type": "code",
   "execution_count": 7,
   "id": "37f2b55e",
   "metadata": {},
   "outputs": [],
   "source": [
    "main_df = pd.read_csv('final.csv', sep=',', index_col=0 )"
   ]
  },
  {
   "cell_type": "code",
   "execution_count": 8,
   "id": "83c07f6c",
   "metadata": {},
   "outputs": [
    {
     "data": {
      "text/plain": [
       "(91, 172802)"
      ]
     },
     "execution_count": 8,
     "metadata": {},
     "output_type": "execute_result"
    }
   ],
   "source": [
    "main_df.shape"
   ]
  },
  {
   "cell_type": "code",
   "execution_count": 9,
   "id": "4c4966d5",
   "metadata": {},
   "outputs": [
    {
     "data": {
      "image/png": "[encoded data removed]",
      "text/plain": [
       "<Figure size 432x288 with 1 Axes>"
      ]
     },
     "metadata": {
      "needs_background": "light"
     },
     "output_type": "display_data"
    }
   ],
   "source": [
    "plt.hist(main_df.reactivity_margin, bins=20, linewidth=0.5, edgecolor=\"black\")\n",
    "plt.xlabel('reactivity margin, %')\n",
    "plt.ylabel('count')\n",
    "plt.xticks(list(range(11)))\n",
    "plt.show()"
   ]
  },
  {
   "cell_type": "code",
   "execution_count": 10,
   "id": "b330a4f5",
   "metadata": {},
   "outputs": [],
   "source": [
    "main_df.drop(columns=['Keff'], inplace=True)"
   ]
  },
  {
   "cell_type": "code",
   "execution_count": 11,
   "id": "c341e5d9",
   "metadata": {},
   "outputs": [],
   "source": [
    "target = main_df.pop('reactivity_margin')"
   ]
  },
  {
   "cell_type": "code",
   "execution_count": 43,
   "id": "4c4bc53c",
   "metadata": {},
   "outputs": [],
   "source": [
    "X_train, X_test, y_train, y_test = train_test_split(main_df, target, test_size=0.3, random_state=7)"
   ]
  },
  {
   "cell_type": "code",
   "execution_count": 44,
   "id": "b1532d0e",
   "metadata": {},
   "outputs": [
    {
     "data": {
      "text/plain": [
       "((77, 172800), (14, 172800))"
      ]
     },
     "execution_count": 44,
     "metadata": {},
     "output_type": "execute_result"
    }
   ],
   "source": [
    "X_train.shape, X_test.shape"
   ]
  },
  {
   "cell_type": "markdown",
   "id": "4fbae1da",
   "metadata": {},
   "source": [
    "## Sklearn модели"
   ]
  },
  {
   "cell_type": "code",
   "execution_count": 14,
   "id": "365de589",
   "metadata": {},
   "outputs": [],
   "source": [
    "lr = LinearRegression(n_jobs=-1)\n",
    "\n",
    "sgd = SGDRegressor()\n",
    "\n",
    "sgd_params = {\n",
    "    'penalty':['l2', 'elasticnet'],\n",
    "    'alpha':[0.0001, 0.001, 0.005],\n",
    "    'l1_ratio':[0.15, 0.25, 0.5, 0.65, 0.75],\n",
    "    'fit_intercept':[True],\n",
    "    'tol':[0.0001, 0.0005]\n",
    "}\n",
    "\n",
    "svr = LinearSVR()\n",
    "             \n",
    "svr_params = {\n",
    "    'tol':[0.0001, 0.0005],\n",
    "    'C':[0.1, 0.5, 1, 10]\n",
    "}\n"
   ]
  },
  {
   "cell_type": "code",
   "execution_count": 32,
   "id": "a65e73a0",
   "metadata": {},
   "outputs": [],
   "source": [
    "sss = KFold(n_splits=3, shuffle=True, random_state=7)"
   ]
  },
  {
   "cell_type": "code",
   "execution_count": 33,
   "id": "48f2c1a8",
   "metadata": {},
   "outputs": [],
   "source": [
    "lr.fit(X_train, y_train)\n",
    "\n",
    "sgd_search = HalvingGridSearchCV(estimator=sgd, \n",
    "                                 param_grid=sgd_params,\n",
    "                                 scoring='r2',\n",
    "                                 cv=sss, \n",
    "                                 random_state=7).fit(X_train, y_train)\n",
    "\n",
    "svr_search = HalvingGridSearchCV(estimator=svr, \n",
    "                                 param_grid=svr_params,\n",
    "                                 scoring='r2',\n",
    "                                 cv=sss, \n",
    "                                 random_state=7).fit(X_train, y_train)"
   ]
  },
  {
   "cell_type": "code",
   "execution_count": 35,
   "id": "1bb6664d",
   "metadata": {},
   "outputs": [
    {
     "data": {
      "text/plain": [
       "array([ 8.13298208e+00,  2.92723072e+01,  3.25732094e+00,  4.34013207e+02,\n",
       "       -1.21193016e+02,  8.13298208e+00,  3.06630256e+02,  2.79389280e+01,\n",
       "       -1.96779865e+02,  3.06630256e+02, -1.85446788e+02, -6.69256372e+01,\n",
       "       -9.54112661e+02, -3.45751647e+02,  9.50836701e+00,  1.95141569e+02,\n",
       "       -4.39386321e+01, -9.19462312e+01,  8.00790799e+00,  2.65836141e+02,\n",
       "       -1.55203720e+02,  4.93935062e+00,  1.40327629e+02, -1.67891016e+02,\n",
       "        1.09479291e+02,  8.76664186e+03, -2.11640323e+02,  7.29291336e+02])"
      ]
     },
     "execution_count": 35,
     "metadata": {},
     "output_type": "execute_result"
    }
   ],
   "source": [
    "lr.predict(X_test)"
   ]
  },
  {
   "cell_type": "code",
   "execution_count": 39,
   "id": "dd6f14b9",
   "metadata": {},
   "outputs": [
    {
     "data": {
      "text/plain": [
       "1.8312279414821295"
      ]
     },
     "execution_count": 39,
     "metadata": {},
     "output_type": "execute_result"
    }
   ],
   "source": [
    "mean_absolute_error(y_test, sgd_search.predict(X_test))"
   ]
  },
  {
   "cell_type": "code",
   "execution_count": 40,
   "id": "27be07be",
   "metadata": {},
   "outputs": [
    {
     "data": {
      "text/plain": [
       "1.96759557273474"
      ]
     },
     "execution_count": 40,
     "metadata": {},
     "output_type": "execute_result"
    }
   ],
   "source": [
    "mean_absolute_error(y_test, svr_search.predict(X_test))"
   ]
  },
  {
   "cell_type": "code",
   "execution_count": 50,
   "id": "f63611d4",
   "metadata": {},
   "outputs": [
    {
     "data": {
      "text/plain": [
       "['__doc__',\n",
       " '__loader__',\n",
       " '__name__',\n",
       " '__package__',\n",
       " '__spec__',\n",
       " '_grouper',\n",
       " '_tee',\n",
       " '_tee_dataobject',\n",
       " 'accumulate',\n",
       " 'chain',\n",
       " 'combinations',\n",
       " 'combinations_with_replacement',\n",
       " 'compress',\n",
       " 'count',\n",
       " 'cycle',\n",
       " 'dropwhile',\n",
       " 'filterfalse',\n",
       " 'groupby',\n",
       " 'islice',\n",
       " 'permutations',\n",
       " 'product',\n",
       " 'repeat',\n",
       " 'starmap',\n",
       " 'takewhile',\n",
       " 'tee',\n",
       " 'zip_longest']"
      ]
     },
     "execution_count": 50,
     "metadata": {},
     "output_type": "execute_result"
    }
   ],
   "source": [
    "import itertools\n",
    "dir(itertools)"
   ]
  },
  {
   "cell_type": "code",
   "execution_count": 52,
   "id": "e28bb01d",
   "metadata": {},
   "outputs": [
    {
     "name": "stdout",
     "output_type": "stream",
     "text": [
      "Help on class islice in module itertools:\n",
      "\n",
      "class islice(builtins.object)\n",
      " |  islice(iterable, stop) --> islice object\n",
      " |  islice(iterable, start, stop[, step]) --> islice object\n",
      " |  \n",
      " |  Return an iterator whose next() method returns selected values from an\n",
      " |  iterable.  If start is specified, will skip all preceding elements;\n",
      " |  otherwise, start defaults to zero.  Step defaults to one.  If\n",
      " |  specified as another value, step determines how many values are\n",
      " |  skipped between successive calls.  Works like a slice() on a list\n",
      " |  but returns an iterator.\n",
      " |  \n",
      " |  Methods defined here:\n",
      " |  \n",
      " |  __getattribute__(self, name, /)\n",
      " |      Return getattr(self, name).\n",
      " |  \n",
      " |  __iter__(self, /)\n",
      " |      Implement iter(self).\n",
      " |  \n",
      " |  __next__(self, /)\n",
      " |      Implement next(self).\n",
      " |  \n",
      " |  __reduce__(...)\n",
      " |      Return state information for pickling.\n",
      " |  \n",
      " |  __setstate__(...)\n",
      " |      Set state information for unpickling.\n",
      " |  \n",
      " |  ----------------------------------------------------------------------\n",
      " |  Static methods defined here:\n",
      " |  \n",
      " |  __new__(*args, **kwargs) from builtins.type\n",
      " |      Create and return a new object.  See help(type) for accurate signature.\n",
      "\n"
     ]
    }
   ],
   "source": [
    "help(itertools.islice)"
   ]
  },
  {
   "cell_type": "code",
   "execution_count": 41,
   "id": "2daf908e",
   "metadata": {},
   "outputs": [
    {
     "data": {
      "text/plain": [
       "18    7.877405\n",
       "22    3.581933\n",
       "71    5.281506\n",
       "58    3.631180\n",
       "37    0.529180\n",
       "15    8.132982\n",
       "62    4.417804\n",
       "43    4.691101\n",
       "65    2.619540\n",
       "61    4.417804\n",
       "13    5.710190\n",
       "20    4.908618\n",
       "77    7.768642\n",
       "12    2.724683\n",
       "36    3.602376\n",
       "64    6.669405\n",
       "11    4.460727\n",
       "27    8.471011\n",
       "2     7.808610\n",
       "17    4.653846\n",
       "52    4.470769\n",
       "5     4.933932\n",
       "26    7.516160\n",
       "88    2.399032\n",
       "30    8.246778\n",
       "90    7.314723\n",
       "33    1.903080\n",
       "80    9.071893\n",
       "Name: reactivity_margin, dtype: float64"
      ]
     },
     "execution_count": 41,
     "metadata": {},
     "output_type": "execute_result"
    }
   ],
   "source": [
    "y_test"
   ]
  },
  {
   "cell_type": "code",
   "execution_count": 42,
   "id": "882813c2",
   "metadata": {},
   "outputs": [
    {
     "ename": "NameError",
     "evalue": "name 'y_pred' is not defined",
     "output_type": "error",
     "traceback": [
      "\u001b[1;31m---------------------------------------------------------------------------\u001b[0m",
      "\u001b[1;31mNameError\u001b[0m                                 Traceback (most recent call last)",
      "\u001b[1;32m~\\AppData\\Local\\Temp/ipykernel_10960/3562620839.py\u001b[0m in \u001b[0;36m<module>\u001b[1;34m\u001b[0m\n\u001b[1;32m----> 1\u001b[1;33m \u001b[0my_pred\u001b[0m\u001b[1;33m\u001b[0m\u001b[1;33m\u001b[0m\u001b[0m\n\u001b[0m",
      "\u001b[1;31mNameError\u001b[0m: name 'y_pred' is not defined"
     ]
    }
   ],
   "source": [
    "y_pred"
   ]
  },
  {
   "cell_type": "code",
   "execution_count": 62,
   "id": "6fac984e",
   "metadata": {},
   "outputs": [],
   "source": [
    "y_pred_2 = sgd.predict(X_test)"
   ]
  },
  {
   "cell_type": "code",
   "execution_count": 63,
   "id": "a20f1062",
   "metadata": {},
   "outputs": [
    {
     "data": {
      "text/plain": [
       "5.281332872773995"
      ]
     },
     "execution_count": 63,
     "metadata": {},
     "output_type": "execute_result"
    }
   ],
   "source": [
    "mean_squared_error(y_test, y_pred_2)"
   ]
  },
  {
   "cell_type": "code",
   "execution_count": null,
   "id": "11953587",
   "metadata": {},
   "outputs": [],
   "source": []
  }
 ],
 "metadata": {
  "kernelspec": {
   "display_name": "Python 3 (ipykernel)",
   "language": "python",
   "name": "python3"
  },
  "language_info": {
   "codemirror_mode": {
    "name": "ipython",
    "version": 3
   },
   "file_extension": ".py",
   "mimetype": "text/x-python",
   "name": "python",
   "nbconvert_exporter": "python",
   "pygments_lexer": "ipython3",
   "version": "3.9.7"
  }
 },
 "nbformat": 4,
 "nbformat_minor": 5
}
