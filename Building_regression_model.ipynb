{
 "cells": [
  {
   "cell_type": "code",
   "execution_count": 38,
   "id": "d6964afc",
   "metadata": {},
   "outputs": [
    {
     "ename": "ImportError",
     "evalue": "cannot import name 'mean_absolut_error' from 'sklearn.metrics' (C:\\Users\\Anton\\anaconda3\\lib\\site-packages\\sklearn\\metrics\\__init__.py)",
     "output_type": "error",
     "traceback": [
      "\u001b[1;31m---------------------------------------------------------------------------\u001b[0m",
      "\u001b[1;31mImportError\u001b[0m                               Traceback (most recent call last)",
      "\u001b[1;32m~\\AppData\\Local\\Temp/ipykernel_10960/891849463.py\u001b[0m in \u001b[0;36m<module>\u001b[1;34m\u001b[0m\n\u001b[0;32m      5\u001b[0m \u001b[1;32mfrom\u001b[0m \u001b[0msklearn\u001b[0m\u001b[1;33m.\u001b[0m\u001b[0mmodel_selection\u001b[0m \u001b[1;32mimport\u001b[0m \u001b[0mHalvingGridSearchCV\u001b[0m\u001b[1;33m,\u001b[0m \u001b[0mKFold\u001b[0m\u001b[1;33m\u001b[0m\u001b[1;33m\u001b[0m\u001b[0m\n\u001b[0;32m      6\u001b[0m \u001b[1;32mfrom\u001b[0m \u001b[0msklearn\u001b[0m\u001b[1;33m.\u001b[0m\u001b[0mlinear_model\u001b[0m \u001b[1;32mimport\u001b[0m \u001b[0mLinearRegression\u001b[0m\u001b[1;33m,\u001b[0m \u001b[0mSGDRegressor\u001b[0m\u001b[1;33m\u001b[0m\u001b[1;33m\u001b[0m\u001b[0m\n\u001b[1;32m----> 7\u001b[1;33m \u001b[1;32mfrom\u001b[0m \u001b[0msklearn\u001b[0m\u001b[1;33m.\u001b[0m\u001b[0mmetrics\u001b[0m \u001b[1;32mimport\u001b[0m \u001b[0mmean_absolute_error\u001b[0m\u001b[1;33m,\u001b[0m \u001b[0mmean_squared_error\u001b[0m\u001b[1;33m,\u001b[0m \u001b[0mmean_absolut_error\u001b[0m\u001b[1;33m\u001b[0m\u001b[1;33m\u001b[0m\u001b[0m\n\u001b[0m\u001b[0;32m      8\u001b[0m \u001b[1;32mfrom\u001b[0m \u001b[0msklearn\u001b[0m\u001b[1;33m.\u001b[0m\u001b[0msvm\u001b[0m \u001b[1;32mimport\u001b[0m \u001b[0mLinearSVR\u001b[0m\u001b[1;33m\u001b[0m\u001b[1;33m\u001b[0m\u001b[0m\n",
      "\u001b[1;31mImportError\u001b[0m: cannot import name 'mean_absolut_error' from 'sklearn.metrics' (C:\\Users\\Anton\\anaconda3\\lib\\site-packages\\sklearn\\metrics\\__init__.py)"
     ]
    }
   ],
   "source": [
    "import pandas as pd\n",
    "from matplotlib import pyplot as plt\n",
    "from sklearn.model_selection import train_test_split\n",
    "from sklearn.experimental import enable_halving_search_cv\n",
    "from sklearn.model_selection import HalvingGridSearchCV, KFold\n",
    "from sklearn.linear_model import LinearRegression, SGDRegressor\n",
    "from sklearn.metrics import mean_absolute_error, mean_squared_error, mean_absolute_error\n",
    "from sklearn.svm import LinearSVR"
   ]
  },
  {
   "cell_type": "code",
   "execution_count": 7,
   "id": "37f2b55e",
   "metadata": {},
   "outputs": [],
   "source": [
    "main_df = pd.read_csv('final.csv', sep=',', index_col=0 )"
   ]
  },
  {
   "cell_type": "code",
   "execution_count": 8,
   "id": "83c07f6c",
   "metadata": {},
   "outputs": [
    {
     "data": {
      "text/plain": [
       "(91, 172802)"
      ]
     },
     "execution_count": 8,
     "metadata": {},
     "output_type": "execute_result"
    }
   ],
   "source": [
    "main_df.shape"
   ]
  },
  {
   "cell_type": "code",
   "execution_count": 9,
   "id": "4c4966d5",
   "metadata": {},
   "outputs": [
    {
     "data": {
      "image/png": "[encoded data removed]",
      "text/plain": [
       "<Figure size 432x288 with 1 Axes>"
      ]
     },
     "metadata": {
      "needs_background": "light"
     },
     "output_type": "display_data"
    }
   ],
   "source": [
    "plt.hist(main_df.reactivity_margin, bins=20, linewidth=0.5, edgecolor=\"black\")\n",
    "plt.xlabel('reactivity margin, %')\n",
    "plt.ylabel('count')\n",
    "plt.xticks(list(range(11)))\n",
    "plt.show()"
   ]
  },
  {
   "cell_type": "code",
   "execution_count": 10,
   "id": "b330a4f5",
   "metadata": {},
   "outputs": [],
   "source": [
    "main_df.drop(columns=['Keff'], inplace=True)\n",
    "target = main_df.pop('reactivity_margin')"
   ]
  },
  {
   "cell_type": "code",
   "execution_count": 43,
   "id": "4c4bc53c",
   "metadata": {},
   "outputs": [],
   "source": [
    "X_train, X_test, y_train, y_test = train_test_split(main_df, target, test_size=0.3, random_state=7)"
   ]
  },
  {
   "cell_type": "code",
   "execution_count": 44,
   "id": "b1532d0e",
   "metadata": {},
   "outputs": [
    {
     "data": {
      "text/plain": [
       "((77, 172800), (14, 172800))"
      ]
     },
     "execution_count": 44,
     "metadata": {},
     "output_type": "execute_result"
    }
   ],
   "source": [
    "X_train.shape, X_test.shape"
   ]
  },
  {
   "cell_type": "markdown",
   "id": "e4a00da3",
   "metadata": {},
   "source": [
    "## Sklearn модели"
   ]
  },
  {
   "cell_type": "code",
   "execution_count": 65,
   "id": "365de589",
   "metadata": {},
   "outputs": [],
   "source": [
    "lr = LinearRegression(n_jobs=-1)\n",
    "\n",
    "sgd = SGDRegressor()\n",
    "\n",
    "sgd_params = {\n",
    "    'penalty':['l2', 'elasticnet'],\n",
    "    'alpha':[0.0001, 0.001, 0.005],\n",
    "    'l1_ratio':[0.15, 0.25, 0.5, 0.65, 0.75],\n",
    "    'fit_intercept':[True],\n",
    "    'tol':[0.0005],\n",
    "    'max_iter':[50000]\n",
    "}\n",
    "\n",
    "svr = LinearSVR()\n",
    "             \n",
    "svr_params = {\n",
    "    'tol':[0.0005],\n",
    "    'C':[0.1, 0.5, 1, 10],\n",
    "    'max_iter':[50000]\n",
    "}\n"
   ]
  },
  {
   "cell_type": "code",
   "execution_count": 66,
   "id": "9eb2d0ca",
   "metadata": {},
   "outputs": [],
   "source": [
    "sss = KFold(n_splits=3, shuffle=True, random_state=7)"
   ]
  },
  {
   "cell_type": "code",
   "execution_count": 33,
   "id": "48f2c1a8",
   "metadata": {},
   "outputs": [],
   "source": [
    "lr.fit(X_train, y_train)\n",
    "\n",
    "sgd_search = HalvingGridSearchCV(estimator=sgd, \n",
    "                                 param_grid=sgd_params,\n",
    "                                 scoring='r2',\n",
    "                                 cv=sss, \n",
    "                                 random_state=7).fit(X_train, y_train)\n",
    "\n",
    "svr_search = HalvingGridSearchCV(estimator=svr, \n",
    "                                 param_grid=svr_params,\n",
    "                                 scoring='r2',\n",
    "                                 cv=sss, \n",
    "                                 random_state=7).fit(X_train, y_train)"
   ]
  },
  {
   "cell_type": "code",
   "execution_count": 35,
   "id": "1bb6664d",
   "metadata": {},
   "outputs": [
    {
     "data": {
      "text/plain": [
       "array([ 8.13298208e+00,  2.92723072e+01,  3.25732094e+00,  4.34013207e+02,\n",
       "       -1.21193016e+02,  8.13298208e+00,  3.06630256e+02,  2.79389280e+01,\n",
       "       -1.96779865e+02,  3.06630256e+02, -1.85446788e+02, -6.69256372e+01,\n",
       "       -9.54112661e+02, -3.45751647e+02,  9.50836701e+00,  1.95141569e+02,\n",
       "       -4.39386321e+01, -9.19462312e+01,  8.00790799e+00,  2.65836141e+02,\n",
       "       -1.55203720e+02,  4.93935062e+00,  1.40327629e+02, -1.67891016e+02,\n",
       "        1.09479291e+02,  8.76664186e+03, -2.11640323e+02,  7.29291336e+02])"
      ]
     },
     "execution_count": 35,
     "metadata": {},
     "output_type": "execute_result"
    }
   ],
   "source": [
    "lr.predict(X_test)"
   ]
  },
  {
   "cell_type": "code",
   "execution_count": 39,
   "id": "e93ef872",
   "metadata": {},
   "outputs": [
    {
     "data": {
      "text/plain": [
       "1.8312279414821295"
      ]
     },
     "execution_count": 39,
     "metadata": {},
     "output_type": "execute_result"
    }
   ],
   "source": [
    "mean_absolute_error(y_test, sgd_search.predict(X_test))"
   ]
  },
  {
   "cell_type": "code",
   "execution_count": 40,
   "id": "3e4799f6",
   "metadata": {},
   "outputs": [
    {
     "data": {
      "text/plain": [
       "1.96759557273474"
      ]
     },
     "execution_count": 40,
     "metadata": {},
     "output_type": "execute_result"
    }
   ],
   "source": [
    "mean_absolute_error(y_test, svr_search.predict(X_test))"
   ]
  },
  {
   "cell_type": "code",
   "execution_count": 53,
   "id": "ba5ca06c",
   "metadata": {},
   "outputs": [],
   "source": [
    "main_df_after_correct = pd.read_csv('final_with_ampules.csv', sep=',', index_col=0 )"
   ]
  },
  {
   "cell_type": "code",
   "execution_count": 58,
   "id": "5a58db9a",
   "metadata": {},
   "outputs": [],
   "source": [
    "# main_df_after_correct.drop(columns=['Keff'], inplace=True)\n",
    "target2 = main_df_after_correct.pop('reactivity_margin')"
   ]
  },
  {
   "cell_type": "code",
   "execution_count": 60,
   "id": "a9605b23",
   "metadata": {},
   "outputs": [],
   "source": [
    "X_train2, X_test2, y_train2, y_test2 = train_test_split(main_df_after_correct, target2, test_size=0.2, random_state=7)"
   ]
  },
  {
   "cell_type": "code",
   "execution_count": 67,
   "id": "901ca93e",
   "metadata": {},
   "outputs": [
    {
     "name": "stdout",
     "output_type": "stream",
     "text": [
      "Wall time: 0 ns\n"
     ]
    }
   ],
   "source": [
    "%time\n",
    "lr.fit(X_train2, y_train2)\n",
    "\n",
    "sgd_search = HalvingGridSearchCV(estimator=sgd, \n",
    "                                 param_grid=sgd_params,\n",
    "                                 scoring='r2',\n",
    "                                 cv=sss, \n",
    "                                 random_state=7).fit(X_train2, y_train2)\n",
    "\n",
    "svr_search = HalvingGridSearchCV(estimator=svr, \n",
    "                                 param_grid=svr_params,\n",
    "                                 scoring='r2',\n",
    "                                 cv=sss, \n",
    "                                 random_state=7).fit(X_train2, y_train2)"
   ]
  },
  {
   "cell_type": "code",
   "execution_count": 70,
   "id": "6fac984e",
   "metadata": {},
   "outputs": [
    {
     "data": {
      "text/plain": [
       "array([-3.48529578e+04, -5.54189442e+07,  8.13017797e+00, -2.60125287e+03,\n",
       "       -3.26951481e+04, -1.34004081e+03, -1.54897989e+03, -3.84207837e+03,\n",
       "       -3.81221685e+03,  3.77835216e+01,  8.13017797e+00,  4.57487851e+00,\n",
       "        4.03680461e+03,  3.57071754e+02,  1.89780259e+03, -1.13154983e+04,\n",
       "        8.00544244e+00,  7.16685123e+03])"
      ]
     },
     "execution_count": 70,
     "metadata": {},
     "output_type": "execute_result"
    }
   ],
   "source": [
    "lr.predict(X_test2)"
   ]
  },
  {
   "cell_type": "code",
   "execution_count": 71,
   "id": "bcf85af6",
   "metadata": {},
   "outputs": [
    {
     "data": {
      "text/plain": [
       "array([4.92179953, 4.3633907 , 4.95251291, 4.94539647, 4.92425993,\n",
       "       4.92725771, 4.90541383, 4.33316432, 4.92442832, 4.94151201,\n",
       "       4.95251291, 4.91268876, 4.38051127, 4.89123058, 4.36246312,\n",
       "       4.35196069, 4.97434377, 4.94496619])"
      ]
     },
     "execution_count": 71,
     "metadata": {},
     "output_type": "execute_result"
    }
   ],
   "source": [
    "sgd_search.predict(X_test2)"
   ]
  },
  {
   "cell_type": "code",
   "execution_count": 72,
   "id": "ad92d6ec",
   "metadata": {},
   "outputs": [
    {
     "data": {
      "text/plain": [
       "array([4.62278771, 3.93751232, 4.6566249 , 4.64604106, 4.62550208,\n",
       "       4.62626373, 4.60470844, 3.89178168, 4.63762693, 4.65669355,\n",
       "       4.6566249 , 4.55134235, 3.98117343, 4.53976095, 3.9616542 ,\n",
       "       3.94917924, 4.70611177, 4.64836567])"
      ]
     },
     "execution_count": 72,
     "metadata": {},
     "output_type": "execute_result"
    }
   ],
   "source": [
    "svr_search.predict(X_test2)"
   ]
  },
  {
   "cell_type": "code",
   "execution_count": 74,
   "id": "a20f1062",
   "metadata": {},
   "outputs": [
    {
     "data": {
      "text/plain": [
       "1.801135559719649"
      ]
     },
     "execution_count": 74,
     "metadata": {},
     "output_type": "execute_result"
    }
   ],
   "source": [
    "mean_absolute_error(y_test2, sgd_search.predict(X_test2))"
   ]
  },
  {
   "cell_type": "code",
   "execution_count": null,
   "id": "11953587",
   "metadata": {},
   "outputs": [],
   "source": []
  }
 ],
 "metadata": {
  "kernelspec": {
   "display_name": "Python 3 (ipykernel)",
   "language": "python",
   "name": "python3"
  },
  "language_info": {
   "codemirror_mode": {
    "name": "ipython",
    "version": 3
   },
   "file_extension": ".py",
   "mimetype": "text/x-python",
   "name": "python",
   "nbconvert_exporter": "python",
   "pygments_lexer": "ipython3",
   "version": "3.9.7"
  }
 },
 "nbformat": 4,
 "nbformat_minor": 5
}
