{
 "cells": [
  {
   "cell_type": "code",
   "execution_count": 54,
   "id": "d6964afc",
   "metadata": {},
   "outputs": [],
   "source": [
    "import pandas as pd\n",
    "from matplotlib import pyplot as plt\n",
    "from sklearn.model_selection import train_test_split\n",
    "from sklearn.linear_model import LinearRegression, SGDRegressor\n",
    "from sklearn.metrics import mean_absolute_error, mean_squared_error"
   ]
  },
  {
   "cell_type": "code",
   "execution_count": 2,
   "id": "37f2b55e",
   "metadata": {},
   "outputs": [],
   "source": [
    "main_df = pd.read_csv('final.csv', sep=',', index_col=0 )"
   ]
  },
  {
   "cell_type": "code",
   "execution_count": 18,
   "id": "6a46c6e6",
   "metadata": {},
   "outputs": [
    {
     "data": {
      "text/html": [
       "<div>\n",
       "<style scoped>\n",
       "    .dataframe tbody tr th:only-of-type {\n",
       "        vertical-align: middle;\n",
       "    }\n",
       "\n",
       "    .dataframe tbody tr th {\n",
       "        vertical-align: top;\n",
       "    }\n",
       "\n",
       "    .dataframe thead th {\n",
       "        text-align: right;\n",
       "    }\n",
       "</style>\n",
       "<table border=\"1\" class=\"dataframe\">\n",
       "  <thead>\n",
       "    <tr style=\"text-align: right;\">\n",
       "      <th></th>\n",
       "      <th>variable</th>\n",
       "      <th>value</th>\n",
       "    </tr>\n",
       "  </thead>\n",
       "  <tbody>\n",
       "    <tr>\n",
       "      <th>0</th>\n",
       "      <td>u235 in mat15563</td>\n",
       "      <td>0.001892</td>\n",
       "    </tr>\n",
       "    <tr>\n",
       "      <th>1</th>\n",
       "      <td>u235 in mat15563</td>\n",
       "      <td>0.001892</td>\n",
       "    </tr>\n",
       "    <tr>\n",
       "      <th>2</th>\n",
       "      <td>u235 in mat15563</td>\n",
       "      <td>0.001892</td>\n",
       "    </tr>\n",
       "    <tr>\n",
       "      <th>3</th>\n",
       "      <td>u235 in mat15563</td>\n",
       "      <td>0.001892</td>\n",
       "    </tr>\n",
       "    <tr>\n",
       "      <th>4</th>\n",
       "      <td>u235 in mat15563</td>\n",
       "      <td>0.001813</td>\n",
       "    </tr>\n",
       "    <tr>\n",
       "      <th>...</th>\n",
       "      <td>...</td>\n",
       "      <td>...</td>\n",
       "    </tr>\n",
       "    <tr>\n",
       "      <th>3144955</th>\n",
       "      <td>u235 in mat50122</td>\n",
       "      <td>0.001873</td>\n",
       "    </tr>\n",
       "    <tr>\n",
       "      <th>3144956</th>\n",
       "      <td>u235 in mat50122</td>\n",
       "      <td>0.001860</td>\n",
       "    </tr>\n",
       "    <tr>\n",
       "      <th>3144957</th>\n",
       "      <td>u235 in mat50122</td>\n",
       "      <td>0.001837</td>\n",
       "    </tr>\n",
       "    <tr>\n",
       "      <th>3144958</th>\n",
       "      <td>u235 in mat50122</td>\n",
       "      <td>0.001773</td>\n",
       "    </tr>\n",
       "    <tr>\n",
       "      <th>3144959</th>\n",
       "      <td>u235 in mat50122</td>\n",
       "      <td>0.001773</td>\n",
       "    </tr>\n",
       "  </tbody>\n",
       "</table>\n",
       "<p>3144960 rows × 2 columns</p>\n",
       "</div>"
      ],
      "text/plain": [
       "                 variable     value\n",
       "0        u235 in mat15563  0.001892\n",
       "1        u235 in mat15563  0.001892\n",
       "2        u235 in mat15563  0.001892\n",
       "3        u235 in mat15563  0.001892\n",
       "4        u235 in mat15563  0.001813\n",
       "...                   ...       ...\n",
       "3144955  u235 in mat50122  0.001873\n",
       "3144956  u235 in mat50122  0.001860\n",
       "3144957  u235 in mat50122  0.001837\n",
       "3144958  u235 in mat50122  0.001773\n",
       "3144959  u235 in mat50122  0.001773\n",
       "\n",
       "[3144960 rows x 2 columns]"
      ]
     },
     "execution_count": 18,
     "metadata": {},
     "output_type": "execute_result"
    }
   ],
   "source": [
    "main_df[[elem for elem in main_df.columns if elem.startswith('u235')]].melt()"
   ]
  },
  {
   "cell_type": "code",
   "execution_count": 7,
   "id": "83c07f6c",
   "metadata": {},
   "outputs": [
    {
     "data": {
      "text/plain": [
       "(91, 172801)"
      ]
     },
     "execution_count": 7,
     "metadata": {},
     "output_type": "execute_result"
    }
   ],
   "source": [
    "main_df.shape"
   ]
  },
  {
   "cell_type": "code",
   "execution_count": 4,
   "id": "4c4966d5",
   "metadata": {},
   "outputs": [
    {
     "data": {
      "image/png": "[encoded data removed]",
      "text/plain": [
       "<Figure size 432x288 with 1 Axes>"
      ]
     },
     "metadata": {
      "needs_background": "light"
     },
     "output_type": "display_data"
    }
   ],
   "source": [
    "plt.hist(main_df.reactivity_margin, bins=20, linewidth=0.5, edgecolor=\"black\")\n",
    "plt.xlabel('reactivity margin, %')\n",
    "plt.ylabel('count')\n",
    "plt.xticks(list(range(11)))\n",
    "plt.show()"
   ]
  },
  {
   "cell_type": "code",
   "execution_count": 5,
   "id": "b330a4f5",
   "metadata": {},
   "outputs": [],
   "source": [
    "main_df.drop(columns=['Keff'], inplace=True)"
   ]
  },
  {
   "cell_type": "code",
   "execution_count": 8,
   "id": "c341e5d9",
   "metadata": {},
   "outputs": [],
   "source": [
    "target = main_df.pop('reactivity_margin')"
   ]
  },
  {
   "cell_type": "code",
   "execution_count": 35,
   "id": "4c4bc53c",
   "metadata": {},
   "outputs": [],
   "source": [
    "X_train, X_test, y_train, y_test = train_test_split(main_df, target, test_size=0.3, random_state=7)"
   ]
  },
  {
   "cell_type": "code",
   "execution_count": 26,
   "id": "b1532d0e",
   "metadata": {},
   "outputs": [
    {
     "data": {
      "text/plain": [
       "((63, 172800), (28, 172800))"
      ]
     },
     "execution_count": 26,
     "metadata": {},
     "output_type": "execute_result"
    }
   ],
   "source": [
    "X_train.shape, X_test.shape"
   ]
  },
  {
   "cell_type": "code",
   "execution_count": 57,
   "id": "365de589",
   "metadata": {},
   "outputs": [],
   "source": [
    "lr = LinearRegression(n_jobs=-1)\n",
    "sgd = SGDRegressor(penalty='l2', \n",
    "                   alpha=0.0001, \n",
    "                   l1_ratio=0.15, \n",
    "                   fit_intercept=True,  \n",
    "                   tol=0.001, \n",
    "                   shuffle=True, \n",
    "                   verbose=0, \n",
    "                   epsilon=0.1, \n",
    "                   random_state=None, \n",
    "                   learning_rate='adaptive', \n",
    "                   eta0=0.01, \n",
    "                   power_t=0.25, \n",
    "                   early_stopping=False, \n",
    "                   validation_fraction=0.1, \n",
    "                   n_iter_no_change=5, \n",
    "                   warm_start=True, \n",
    "                   average=False)"
   ]
  },
  {
   "cell_type": "code",
   "execution_count": 59,
   "id": "48f2c1a8",
   "metadata": {},
   "outputs": [
    {
     "data": {
      "text/plain": [
       "SGDRegressor(learning_rate='adaptive', warm_start=True)"
      ]
     },
     "execution_count": 59,
     "metadata": {},
     "output_type": "execute_result"
    }
   ],
   "source": [
    "lr.fit(X_train, y_train)\n",
    "sgd.fit(X_train, y_train)"
   ]
  },
  {
   "cell_type": "code",
   "execution_count": 60,
   "id": "1bb6664d",
   "metadata": {},
   "outputs": [],
   "source": [
    "y_pred = lr.predict(X_test)"
   ]
  },
  {
   "cell_type": "code",
   "execution_count": 61,
   "id": "882813c2",
   "metadata": {},
   "outputs": [
    {
     "data": {
      "text/plain": [
       "2821454.865789052"
      ]
     },
     "execution_count": 61,
     "metadata": {},
     "output_type": "execute_result"
    }
   ],
   "source": [
    "mean_squared_error(y_test, y_pred)"
   ]
  },
  {
   "cell_type": "code",
   "execution_count": 62,
   "id": "6fac984e",
   "metadata": {},
   "outputs": [],
   "source": [
    "y_pred_2 = sgd.predict(X_test)"
   ]
  },
  {
   "cell_type": "code",
   "execution_count": 63,
   "id": "a20f1062",
   "metadata": {},
   "outputs": [
    {
     "data": {
      "text/plain": [
       "5.281332872773995"
      ]
     },
     "execution_count": 63,
     "metadata": {},
     "output_type": "execute_result"
    }
   ],
   "source": [
    "mean_squared_error(y_test, y_pred_2)"
   ]
  },
  {
   "cell_type": "code",
   "execution_count": null,
   "id": "11953587",
   "metadata": {},
   "outputs": [],
   "source": []
  }
 ],
 "metadata": {
  "kernelspec": {
   "display_name": "Python 3 (ipykernel)",
   "language": "python",
   "name": "python3"
  },
  "language_info": {
   "codemirror_mode": {
    "name": "ipython",
    "version": 3
   },
   "file_extension": ".py",
   "mimetype": "text/x-python",
   "name": "python",
   "nbconvert_exporter": "python",
   "pygments_lexer": "ipython3",
   "version": "3.9.7"
  }
 },
 "nbformat": 4,
 "nbformat_minor": 5
}
